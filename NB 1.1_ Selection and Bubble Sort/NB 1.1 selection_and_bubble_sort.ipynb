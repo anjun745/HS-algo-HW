{
 "cells": [
  {
   "cell_type": "markdown",
   "metadata": {
    "collapsed": false,
    "slideshow": {
     "slide_type": "subslide"
    }
   },
   "source": [
    "## Basic or Naive Sorting Algorithms\n",
    "\n",
    "In this Assignment, you'll explore two classic sorting Algorithms, **Selection Sort** and **Bubble Sort**.  Optionally, you can also try to code Insertion Sort.\n",
    "\n",
    "These are considered \"Naive\" or Brute force sorting algorithms, because they run in $O(n^2)$ time, and as you will see later, we can do better!  Even so, they are important algorithms to have in your toolkit, because they demonstrate some key ideas that we can use in many different scenarios.\n",
    "\n",
    "## Section 1.1 (~15-20 minutes)\n",
    "\n",
    "### Understanding Selection Sort.  DO the following:\n",
    "- [**Watch** the video](https://www.loom.com/share/eca82b1462b54cf895827f1436bb024c) of me writing this algorithm and explaining my thinking and finding my mistakes as I write\n",
    "- Carefully **read** through the code below to see how it works\n",
    "- **See** my notes and my question below. Be prepared to discuss your thoughts on this question in class"
   ]
  },
  {
   "cell_type": "markdown",
   "metadata": {
    "collapsed": false
   },
   "source": [
    "## Selection Sort\n",
    "Notes: \n",
    "<ol>\n",
    "    <li>Selection Sort Algorithm that has an asymptotic run-time of $O(n^2)$.</li>\n",
    "<li>After writing this function, I realized that using `input_list.remove` was not really a good idea, algorithmically speaking.  It will still work, even when there are duplicate integers, but can you think of a faster/smarter way to remove the minimum element?</li>\n",
    "    </ol>"
   ]
  },
  {
   "cell_type": "code",
   "execution_count": 3,
   "metadata": {
    "collapsed": false
   },
   "outputs": [
    {
     "data": {
      "text/plain": [
       "[-52, -10, 0, 0, 1, 2, 3, 5, 4982]"
      ]
     },
     "execution_count": 3,
     "metadata": {
     },
     "output_type": "execute_result"
    }
   ],
   "source": [
    "# Selection Sort\n",
    "\n",
    "test_case = [5, -52, 4982, 3, 2, 1, 0, 0, -10]\n",
    "\n",
    "\n",
    "def matts_selection_sort(input_list: list):\n",
    "    '''takes an unsorted list of integers and uses\n",
    "    selection sort algo to return sorted list'''\n",
    "    sorted_list = []\n",
    "\n",
    "    while len(input_list): # continues until input_list is empty\n",
    "        the_min = float(\"inf\")\n",
    "        for num in input_list:\n",
    "            if num < the_min:\n",
    "                the_min = num\n",
    "        input_list.remove(the_min)\n",
    "        sorted_list.append(the_min)\n",
    "    return sorted_list\n",
    "\n",
    "\n",
    "matts_selection_sort(test_case)"
   ]
  },
  {
   "cell_type": "markdown",
   "metadata": {
    "collapsed": false
   },
   "source": [
    "### Section 1.2: Write your own version of Selection Sort (~10 - 30 minutes)\n",
    "\n",
    "<ul>\n",
    "    <li>WITHOUT LOOKING at the above code while you work, **write** your own version of the Selection sort algorithm\n",
    "    <li>Obviously, you cannot use the built in function \"sort\" for this, or the \"min\" or \"max\" calculations.  The goal is for you to understand the mechanics behind sorting.\n",
    "    <li>CHALLENGE (optional): write a version that does not create a new list, but instead finds the MAXIMUM in the list and exchanges that maximum with the last element of the list, looping through a shorter subset of the list on each pass (this is another version of the same idea, but uses less memory because it does not create a new list)\n",
    "        </ul>"
   ]
  },
  {
   "cell_type": "code",
   "execution_count": 1,
   "metadata": {
    "collapsed": false
   },
   "outputs": [
    {
     "data": {
      "text/plain": [
       "[-52, -10, 0, 0, 1, 2, 3, 5, 4982]"
      ]
     },
     "execution_count": 1,
     "metadata": {
     },
     "output_type": "execute_result"
    }
   ],
   "source": [
    "# write a function called `selection_sort` that implements the selection sort algorithm\n",
    "# selection sort works by doing a series of minimum calculations,\n",
    "# on each pass through the list, it finds the current minimum, then removes that minimum\n",
    "# and places it at the end of the new sorted list\n",
    "# does this repeatedly until all elements have been examined\n",
    "# function should return the list in sorted order\n",
    "\n",
    "# your code goes here\n",
    "def selection_sort(unsorted:list):\n",
    "    '''\n",
    "    Find the current min, add it to a new list\n",
    "    repeat until the whole list is gone\n",
    "    '''\n",
    "    # only runs if there are 2 or more eles\n",
    "    if len(unsorted) < 2:\n",
    "        return unsorted\n",
    "    # new list created\n",
    "    sorted_ = []\n",
    "    # while there are elements remaining it will keep looping to find the min\n",
    "    while unsorted:\n",
    "        min_ = unsorted[0]\n",
    "        for n in unsorted:\n",
    "            # min update\n",
    "            if n < min_:\n",
    "                min_ = n\n",
    "        sorted_.append(unsorted.pop(unsorted.index(min_)))\n",
    "    return sorted_\n",
    "\n",
    "\n",
    "test_case = [5, -52, 4982, 3, 2, 1, 0, 0, -10]\n",
    "selection_sort(test_case)"
   ]
  },
  {
   "cell_type": "code",
   "execution_count": 20,
   "metadata": {
    "collapsed": false
   },
   "outputs": [
    {
     "name": "stdout",
     "output_type": "stream",
     "text": [
      "[-52, -10, 0, 0, 1, 2, 3, 5, 4982]\n"
     ]
    }
   ],
   "source": [
    "def max_select(unsorted:list):\n",
    "    '''\n",
    "    Find the current big\n",
    "    aDd BIg To eNd oF lISt\n",
    "    '''\n",
    "    if len(unsorted) < 2:\n",
    "        return unsorted\n",
    "    \n",
    "    # help place the max\n",
    "    ind = len(unsorted)\n",
    "    for N in unsorted:\n",
    "        # set default value, doesn't really matter which one tho\n",
    "        max_ = unsorted[0]\n",
    "        # prevent from reaching last max\n",
    "        for n in unsorted[:ind]:\n",
    "            if n > max_:\n",
    "                max_ = n\n",
    "        # placing/cleaning\n",
    "        unsorted.insert(ind, max_)\n",
    "        unsorted.remove(max_)\n",
    "        # index update\n",
    "        ind -= 1\n",
    "test_case = [5, -52, 4982, 3, 2, 1, 0, 0, -10]\n",
    "max_select(test_case)\n",
    "print(test_case)"
   ]
  },
  {
   "cell_type": "markdown",
   "metadata": {
    "collapsed": false
   },
   "source": [
    "### Explain your Selection Sort Algorithm  (~10 - 20 minutes)\n",
    "\n",
    "AFTER you have written your version of Selection Sort, post a 2 minute or shorter [Loom Video](https://www.loom.com/) explaining your code, how it works and any specific parts you found most challenging to figure out.  Post your Loom video explanation to the [ALGORITHMS DOC](https://docs.google.com/spreadsheets/d/1QgLD9CET85d9O7AMwoSCk7IIS5JaTNzUc2upwfNlVxM/edit?usp=sharing)\n",
    "\n",
    "After you have posted your video, choose one other video that has not been commented on yet and watch that video.  After watching, use the Google Commenting feature to add comments to the video cell that you are commenting on.  Your comments should be SPECIFIC and constructive!  You MAY watch more than one video to see how others did it after you have made your first comment.  If you watch another video, however, you must leave a comment with feedback so they know it has been watched.\n",
    "\n",
    "NOTE: it may take you more than one try to get a good video that's under 3 minutes!"
   ]
  },
  {
   "cell_type": "markdown",
   "metadata": {
    "collapsed": false
   },
   "source": [
    "### Section 2 (~20 - 90 minutes total): Bubble Sort\n",
    "![](https://runestone.academy/runestone/books/published/pythonds/_images/bubblepass.png)\n",
    "\n",
    "### Your Task: Write a Bubble Sort Function\n",
    "Bubble sort also runs in $O(n^2$) time, but works a little differently.\n",
    "\n",
    "You could easily look up how to write bubble sort, but this exercise will be much more useful if you don't look it up, but try to code it yourself based on this basic information from WikiPedia:\n",
    "\n",
    "<blockquote>\n",
    "Bubble sort, sometimes referred to as sinking sort, is a simple sorting algorithm that repeatedly steps through the list, compares adjacent elements and swaps them if they are in the wrong order. The pass through the list is repeated until the list is sorted.\n",
    "</blockquote>\n",
    "\n",
    "Hints: \n",
    "<ol>\n",
    "    <li>How do you know when the list is sorted?  When a complete pass through the list produces no swaps.</li>\n",
    "    <li>Remember in python, you can do simultaneous assignment, so swapping can be done easily, like this:</li>\n",
    "</ol>\n",
    "\n",
    "```python\n",
    "a, b = b, a\n",
    "# or \n",
    "A[1], A[2] = A[2],A[1]\n",
    "```\n",
    "\n",
    "Challenge: Write two different versions, one with loops and one using a loop and recursion."
   ]
  },
  {
   "cell_type": "markdown",
   "metadata": {
    "collapsed": false
   },
   "source": [
    "### 2.1 Pseduo Code (~5 - 15 minutes)\n",
    "1. Write your pseudo code for bubble sort below\n",
    "2. Share your version of the pseudo code on this shared [Google Doc](https://docs.google.com/document/d/1LhPgjljAz7U2InOhBwk9dGZCpsjl0GQOpwrBi6j6FHQ/edit?usp=sharing)"
   ]
  },
  {
   "cell_type": "code",
   "execution_count": 0,
   "metadata": {
    "collapsed": false
   },
   "outputs": [
   ],
   "source": [
    "# write a PSEUDO CODE VERSION of your code here\n",
    "# this should be in readable english so a non coder could understand it\n",
    "# should not be specific to python\n",
    "\n",
    "# So basically, starting from the first element, bubble sort will compare it to the next element, and if the current element is larger, it will switch place with the next element, if not, the next element becomes the target to switch, the list will be returned when it is sorted."
   ]
  },
  {
   "cell_type": "markdown",
   "metadata": {
    "collapsed": false
   },
   "source": [
    "### 2.2 Working Function (~ 10 - 30 minutes)\n",
    "\n",
    "Write a Python function called `bubble_sort` that implements the Bubble Sort sorting algorithm and returns the list in sorted order."
   ]
  },
  {
   "cell_type": "code",
   "execution_count": 35,
   "metadata": {
    "collapsed": false
   },
   "outputs": [
    {
     "data": {
      "text/plain": [
       "[-52, -10, 0, 0, 1, 2, 3, 5, 4982]"
      ]
     },
     "execution_count": 35,
     "metadata": {
     },
     "output_type": "execute_result"
    }
   ],
   "source": [
    "# Your code for bubble_sort goes here\n",
    "test_case = [5, -52, 4982, 3, 2, 1, 0, 0, -10]\n",
    "\n",
    "\n",
    "def bubble_sort(sorting:list):\n",
    "    \"\"\"\n",
    "    bubble sort\n",
    "    it moves the elements to sort\n",
    "    look at pseduo code for explaination\n",
    "    \"\"\"\n",
    "    not_done = True\n",
    "    while not_done:\n",
    "        not_done = False\n",
    "        for n in range(len(sorting)-1):\n",
    "            if sorting[n] > sorting[n+1]:\n",
    "                sorting[n], sorting[n+1] = sorting[n+1], sorting[n]\n",
    "                not_done = True\n",
    "    return sorting\n",
    "\n",
    "\n",
    "bubble_sort(test_case)"
   ]
  },
  {
   "cell_type": "code",
   "execution_count": 31,
   "metadata": {
    "collapsed": false
   },
   "outputs": [
   ],
   "source": [
    "test_case = [5, -52, 4982, 3, 2, 1, 0, 0, -10]"
   ]
  },
  {
   "cell_type": "code",
   "execution_count": 32,
   "metadata": {
    "collapsed": false
   },
   "outputs": [
    {
     "data": {
      "text/plain": [
       "[-52, -10, 0, 0, 1, 2, 3, 5, 4982]"
      ]
     },
     "execution_count": 32,
     "metadata": {
     },
     "output_type": "execute_result"
    }
   ],
   "source": [
    "def recursion_bubble(sorting:list):\n",
    "    # looping through each element until the one before the last\n",
    "    for i in range(len(sorting)-1):\n",
    "        # switches when needed, if no switch needed no recursion will be triggered, therefore returning the list\n",
    "        if sorting[i] > sorting[i+1]:\n",
    "            # switch and enter the next recursion, with the next point of switching ready\n",
    "            sorting[i], sorting[i+1] = sorting[i+1], sorting[i]\n",
    "            recursion_bubble(sorting)\n",
    "    return sorting\n",
    "\n",
    "\n",
    "recursion_bubble(test_case)"
   ]
  },
  {
   "cell_type": "markdown",
   "metadata": {
    "collapsed": false
   },
   "source": [
    "### Explain your Bubble Sort Algorithm  (~10 - 20 minutes)\n",
    "\n",
    "AFTER you have written your version of Bubble Sort, post a 3 minute or shorter Loom Video explaining your code, how it works and any specific parts you found most challenging to figure out.  Post your Loom video explanation to the [ALGORITHMS DOC](https://docs.google.com/spreadsheets/d/1QgLD9CET85d9O7AMwoSCk7IIS5JaTNzUc2upwfNlVxM/edit?usp=sharing)\n",
    "\n",
    "After you have posted your video, choose one other video that has not been commented on yet and watch that video.  After watching, use the Google Commenting feature to add comments to the video cell that you are commenting on.  You MAY watch more than one video to see how others did it after you have made your first comment.  If you watch another video, however, you must leave a comment with feedback so they know it has been watched.\n",
    "\n",
    "REMEMBER: it may take you more than one try to get a good video that's under 3 minutes!\n"
   ]
  },
  {
   "cell_type": "code",
   "execution_count": 1,
   "metadata": {
    "collapsed": false
   },
   "outputs": [
    {
     "data": {
      "text/plain": [
       "[-52, -10, 0, 0, 1, 2, 3, 5, 4982]"
      ]
     },
     "execution_count": 1,
     "metadata": {
     },
     "output_type": "execute_result"
    }
   ],
   "source": [
    "def insertion(sorting:list):\n",
    "    '''\n",
    "    insertion sort\n",
    "    '''\n",
    "    if len(sorting) <= 1:\n",
    "        return sorting\n",
    "    for ele in range(0, len(sorting)):\n",
    "        # setting a default position which will not execute\n",
    "        pos = -1\n",
    "        for e in range(ele-1, -1, -1):\n",
    "            # updating the location/pos to inser|t\n",
    "            if sorting[e] > sorting[ele]:\n",
    "                pos = e\n",
    "        # if requirements reached, it will insert\n",
    "        if pos >= 0:\n",
    "            sorting.insert(pos, sorting.pop(ele))\n",
    "    return sorting\n",
    "\n",
    "\n",
    "test_case = [5, -52, 4982, 3, 2, 1, 0, 0, -10]\n",
    "insertion(test_case)"
   ]
  },
  {
   "cell_type": "code",
   "execution_count": 0,
   "metadata": {
    "collapsed": false
   },
   "outputs": [
   ],
   "source": [
   ]
  }
 ],
 "metadata": {
  "kernelspec": {
   "display_name": "Python 3 (system-wide)",
   "language": "python",
   "metadata": {
    "cocalc": {
     "description": "Python 3 programming language",
     "priority": 100,
     "url": "https://www.python.org/"
    }
   },
   "name": "python3"
  },
  "language_info": {
   "codemirror_mode": {
    "name": "ipython",
    "version": 3
   },
   "file_extension": ".py",
   "mimetype": "text/x-python",
   "name": "python",
   "nbconvert_exporter": "python",
   "pygments_lexer": "ipython3",
   "version": "3.8.5"
  },
  "toc": {
   "base_numbering": 1,
   "nav_menu": {
    "height": "173px",
    "width": "500px"
   },
   "number_sections": false,
   "sideBar": true,
   "skip_h1_title": false,
   "title_cell": "Table of Contents",
   "title_sidebar": "Contents",
   "toc_cell": false,
   "toc_position": {
   },
   "toc_section_display": true,
   "toc_window_display": false
  }
 },
 "nbformat": 4,
 "nbformat_minor": 4
}