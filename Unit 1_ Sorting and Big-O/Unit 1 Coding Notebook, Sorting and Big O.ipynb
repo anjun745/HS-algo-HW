{
 "cells": [
  {
   "cell_type": "markdown",
   "metadata": {
    "collapsed": false
   },
   "source": [
    "### Unit 1: Sorting and *'Big 0'* Notation\n",
    "#### Coding Exercises and Functions\n",
    "As we work through Unit 1, you'll use this Notebook to write functions, classes, code and responses related to work we are doing in class.  You will be adding to this document as we work through the content in Unit 1.  Typically, I'll give you an exercise which requires you to code a solution."
   ]
  },
  {
   "cell_type": "markdown",
   "metadata": {
    "collapsed": false
   },
   "source": [
    "### Exercise 1.1:\n",
    "Write function called `is_sorted` that takes in a list and returns True if it is a sorted list and false if it is not sorted"
   ]
  },
  {
   "cell_type": "code",
   "execution_count": 1,
   "metadata": {
    "collapsed": false
   },
   "outputs": [
   ],
   "source": [
    "def is_sorted(the_list:list):\n",
    "    '''\n",
    "    returns True if the list of numbers is in sorted order\n",
    "    returns False if it is NOT\n",
    "    NOTE: cannot use the sorted function of .sort method\n",
    "    to accomplish this\n",
    "    '''\n",
    "    \n",
    "    # some loop through the list \n",
    "    for ind in range(len(the_list)-2):\n",
    "        if the_list[ind] > the_list[ind+1]:\n",
    "            return False\n",
    "    # if any part of the list is out of order, immediately return False\n",
    "    return True\n",
    "    # if you get through the loop, then it must be sorted, return True"
   ]
  },
  {
   "cell_type": "markdown",
   "metadata": {
    "collapsed": false
   },
   "source": [
    "i will show you how to populate these cells in future classes"
   ]
  },
  {
   "cell_type": "markdown",
   "metadata": {
    "collapsed": false
   },
   "source": [
    "### Exercise 1.2:  Coding a sorting Algorithm\n",
    "Paste the pseudo code of a sorting algorithm from [This Document](https://docs.google.com/document/d/1_Q0LJ3dFnwuc_qcic4fBISpEjHyESLks5x5j0h4aGC0/edit) here:\n",
    "```\n",
    "Assuming the list is longer than 2, for every 2 variables until the end or only 1 variable remains, they are made into a pair, with the smaller value at index 0 and larger at 1. Then using the amount of pairs remaining, join the first half of pairs into quads by adding the smallest elements from the pairs first, then the second half, then do the same with the quads, and since we know the smallest will be in the front, this method is to work for sure. The real difference between this method and the normal merge sort is that this method skips the splitting part which could speed up the process as the length of the list increases.\n",
    "```\n",
    "    \n",
    "Then create a coding cell below to to write a function that implements this algorithm.  It should take an unsorted list as the input argument and return a the list in sorted order."
   ]
  },
  {
   "cell_type": "code",
   "execution_count": 29,
   "metadata": {
    "collapsed": false
   },
   "outputs": [
    {
     "name": "stdout",
     "output_type": "stream",
     "text": [
      "[0, 1, 2, 4]\n"
     ]
    }
   ],
   "source": [
    "# had some issues with keeping track of the groups\n",
    "def merge(sorting:list):\n",
    "    \"\"\"\n",
    "    merge sort:\n",
    "    starting from individual elements, the even indexed are compared\n",
    "    to the odd indexed 1 larger than them if existed, which then a\n",
    "    duo is created with the right order, and the function recurses\n",
    "    and compares 2 duos, creating a quad by putting in the smaller\n",
    "    numbers first\n",
    "    \"\"\"\n",
    "    # split the list in the middle\n",
    "    if len(sorting) > 1:\n",
    "        mid = len(sorting)//2\n",
    "        # keeps splitting using recursion\n",
    "        group1 = merge(sorting[mid:])\n",
    "        group2 = merge(sorting[:mid])\n",
    "        \n",
    "        # having a new list to merge into everytime\n",
    "        sorting = []\n",
    "        \n",
    "        # putting the smaller first\n",
    "        while group1 and group2:\n",
    "            if group1[0] < group2[0]:\n",
    "                sorting.append(group1.pop(0))\n",
    "            else:\n",
    "                sorting.append(group2.pop(0))\n",
    "        \n",
    "        # catching any remainings, the largest at the end\n",
    "        for ele in group1 + group2:\n",
    "            sorting.append(ele)\n",
    "            \n",
    "    return sorting\n",
    "\n",
    "l = [2, 1, 0, 4]\n",
    "l = merge(l)\n",
    "print(l)"
   ]
  },
  {
   "cell_type": "markdown",
   "metadata": {
    "collapsed": false
   },
   "source": [
    "### Exercise 1.3:  Coding another sorting Algorithm\n",
    "Paste the pseudo code of a different sorting algorithm from [This Document](https://docs.google.com/document/d/1_Q0LJ3dFnwuc_qcic4fBISpEjHyESLks5x5j0h4aGC0/edit) here:\n",
    "```\n",
    "Given an array J, if J is of length 1, this algorithm returns J. Otherwise, this algorithm computes the mean mJ.\n",
    "Then it partitions J into three subarrays: A, B, and O; A contains all items in J greater than mJ, B, the items in J less than mJ, and O, the items in J equal to mJ.\n",
    "It then calls Mean Quicksort on A and B, and returns an array B + O + A.\n",
    "```\n",
    "Then create a coding cell below to to write a function that implements this algorithm.  It should take an unsorted list as the input argument and return a the list in sorted order."
   ]
  },
  {
   "cell_type": "code",
   "execution_count": 37,
   "metadata": {
    "collapsed": false
   },
   "outputs": [
    {
     "name": "stdout",
     "output_type": "stream",
     "text": [
      "[-77, 0, 1, 2, 2, 3, 4, 99, 420, 888]\n"
     ]
    }
   ],
   "source": [
    "def quicksort(J:list):\n",
    "    \"\"\"\n",
    "    \"\"\"\n",
    "    # return incase the list is 1 or less\n",
    "    if len(J) < 2:\n",
    "        return J\n",
    "    \n",
    "    A, B, O = [], [], []\n",
    "    # getting the mean\n",
    "    mJ = 0\n",
    "    for i in J:\n",
    "        mJ += i\n",
    "    mJ //= len(J)\n",
    "    \n",
    "    for i in J:\n",
    "        if i > mJ:\n",
    "            A.append(i)\n",
    "        elif i < mJ:\n",
    "            B.append(i)\n",
    "        else:\n",
    "            O.append(i)\n",
    "    A = quicksort(A)\n",
    "    B = quicksort(B)\n",
    "    return B + O + A\n",
    "\n",
    "l = [2, 1, 0, 4, 3, 99, -77, 420, 888, 2]\n",
    "l = quicksort(l)\n",
    "print(l)"
   ]
  },
  {
   "cell_type": "code",
   "execution_count": 0,
   "metadata": {
    "collapsed": false
   },
   "outputs": [
   ],
   "source": [
   ]
  }
 ],
 "metadata": {
  "kernelspec": {
   "display_name": "Python 3 (system-wide)",
   "language": "python",
   "metadata": {
    "cocalc": {
     "description": "Python 3 programming language",
     "priority": 100,
     "url": "https://www.python.org/"
    }
   },
   "name": "python3"
  },
  "language_info": {
   "codemirror_mode": {
    "name": "ipython",
    "version": 3
   },
   "file_extension": ".py",
   "mimetype": "text/x-python",
   "name": "python",
   "nbconvert_exporter": "python",
   "pygments_lexer": "ipython3",
   "version": "3.8.5"
  }
 },
 "nbformat": 4,
 "nbformat_minor": 4
}