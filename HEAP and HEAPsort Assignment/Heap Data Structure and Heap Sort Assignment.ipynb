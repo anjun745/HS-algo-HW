{
 "cells": [
  {
   "cell_type": "markdown",
   "metadata": {
    "collapsed": false
   },
   "source": [
    "### HEAP data structure and HEAPsort Assignment\n",
    "\n",
    "#### Part 1: Creating the Heap Data structure class\n",
    "\n",
    "Your assignment today is to build your own HEAP data structure that supports `insert` and `extractMin` operations.  You will do this by creating a HEAP class with three methods:\n",
    "```python\n",
    "__init__\n",
    "\n",
    "insert\n",
    "\n",
    "exractMin\n",
    "```\n",
    "\n",
    "The Shell of this class has been provided below as a refresher on creating classes in Python.\n",
    "\n",
    "The `insert` method should work as described in lecture and on [This Jamboard](https://jamboard.google.com/d/1fD139NEuDNTwQOijfjoSXXtv8rD3kiI0RuyVIQfAVl0/edit?usp=sharing), using a list or array to store elements, adding new items to the end and then \"Bubbling Up\" to maintain the Heap property through the entire Tree.\n",
    "\n",
    "The `extractMin` method should return the minimum value in the Heap, which is located at index 0.  Put do NOT pop it off the front because that would force Python to do N operations to reindex the list.  Instead follow the method from lecture to swap first and last elements and \"Bubble Down\" the root element until it is smaller than it's parent.  Then return the minimum.  Note: .pop() removes the LAST element from a list in Python in O(1) time.  But pop(0) requires O(n).  \n",
    "\n",
    "\n",
    "#### ADDITIONAL RESOURCES:\n",
    "If you are having trouble implementing this Heap Data Structure, you can watch this [Tim Roughgarden video](https://www.youtube.com/watch?v=6VI5kJu8Mv4&list=PLEGCF-WLh2RJ5W-pt-KE9GUArTDzVwL1P&index=19&t=0s) reviewing the implementation details we discussed in class."
   ]
  },
  {
   "cell_type": "code",
   "execution_count": 27,
   "metadata": {
    "collapsed": false
   },
   "outputs": [
   ],
   "source": [
    "import random as rand\n",
    "import numpy as np\n",
    "\n",
    "class Heap():\n",
    "    '''\n",
    "    data structure to support \n",
    "    Insert and ExtractMin in O(log(n))\n",
    "    Inputs: None\n",
    "    Outputs:\n",
    "        extractMin:\n",
    "            removes the min from the heap and returns it\n",
    "        peekMin:\n",
    "            returns the min\n",
    "    '''\n",
    "    def __init__(self):\n",
    "        '''\n",
    "        init function\n",
    "        '''\n",
    "        # initialize something here for storing elements\n",
    "        self.tree = list()\n",
    "    \n",
    "    def insert(self, n):\n",
    "        '''\n",
    "        inserts an element to the heap in the correct position and the array would be rebalanced as needed\n",
    "        input: the element to be inserted\n",
    "        outputs: none\n",
    "        '''\n",
    "        # adding the element first\n",
    "        self.tree.append(n)\n",
    "        ind = len(self.tree) - 1  # original ind\n",
    "        \n",
    "        # while the index is valid and n is smaller\n",
    "        while self.tree[(ind-1)//2] > n and ind:\n",
    "            swapping = ind\n",
    "            ind = (ind - 1) // 2\n",
    "            self.tree[swapping], self.tree[ind] = self.tree[ind], self.tree[swapping]\n",
    "        \n",
    "    def extractMin(self):\n",
    "        '''\n",
    "        removes the min and returns it\n",
    "        inputs: none\n",
    "        outputs: the smallest element\n",
    "        '''\n",
    "        # swap the first and last element first\n",
    "        self.tree[0], self.tree[-1] = self.tree[-1], self.tree[0]\n",
    "        m = self.tree.pop()  # saved for returning later\n",
    "        swapping = 0  # default swapping index\n",
    "        \n",
    "        # determining the child node to start with\n",
    "        if len(self.tree) > 2:\n",
    "            if self.tree[1] < self.tree[2]:\n",
    "                i = 1\n",
    "            else:\n",
    "                i = 2\n",
    "        # if only 1 child node left, go with that child node\n",
    "        elif len(self.tree) == 2:\n",
    "            i = 1\n",
    "        # if there is only 1 item left, just remove that item\n",
    "        else:\n",
    "            return m\n",
    "        \n",
    "        # keeps moving while the heap structure is incorrect\n",
    "        while self.tree[swapping] > self.tree[i]:\n",
    "            # swap first, then update the swapping index\n",
    "            self.tree[swapping], self.tree[i] = self.tree[i], self.tree[swapping]\n",
    "            swapping = i\n",
    "            # to prevent index errors\n",
    "            if 2*i+2 <= len(self.tree)-1:\n",
    "                # deciding the child node to go with\n",
    "                if self.tree[2*i+1] < self.tree[2*i+2]:\n",
    "                    i = 2*i+1\n",
    "                else:\n",
    "                    i = 2*i+2\n",
    "                    \n",
    "        return m\n",
    "    \n",
    "    def peekMin(self):\n",
    "        '''\n",
    "        just looks at the min without doing anything\n",
    "        inputs: none\n",
    "        outputs: smallest element\n",
    "        '''\n",
    "        return self.tree[0]\n",
    "\n",
    "\n",
    "def heapify(A):\n",
    "    '''\n",
    "    creates a heap from a list, I made a seperate function because I just wanted to have something\n",
    "    to use incase I didn't need a sorted list, but just a heap\n",
    "    inputs: a list\n",
    "    outputs: the heap made from the list\n",
    "    '''\n",
    "    a = Heap()  # creating an instance\n",
    "    for n in A:\n",
    "        a.insert(n)\n",
    "    return a"
   ]
  },
  {
   "cell_type": "markdown",
   "metadata": {
    "collapsed": false
   },
   "source": [
    "### Part 2:  Creating HeapSort algorithm function using the Heap data structure to acheive O(nlog(n))"
   ]
  },
  {
   "cell_type": "code",
   "execution_count": 28,
   "metadata": {
    "collapsed": false
   },
   "outputs": [
   ],
   "source": [
    "def heapSort(A: list):\n",
    "    '''\n",
    "    sorts using heaps\n",
    "    this works like the sorted() function, instead of the .sort() function\n",
    "    inputs: a list\n",
    "    outputs: the list but sorted\n",
    "    '''\n",
    "    # takes in list A\n",
    "    # uses Heap data structure to Heapify the elements O(nlog(n))\n",
    "    # returns list in sorted order by repeated extractMin Olog(n) operations on the Heap\n",
    "    # This is essentially SelectionSort but with the HEAP data structure providing\n",
    "    # A signficant speed boost to O(nlog(n))\n",
    "    a = heapify(A)  # using heapify to create an instance\n",
    "    A = []\n",
    "    for ele in range(len(a.tree)):\n",
    "        A.append(a.extractMin())\n",
    "    return A"
   ]
  },
  {
   "cell_type": "code",
   "execution_count": 35,
   "metadata": {
    "collapsed": false
   },
   "outputs": [
    {
     "name": "stdout",
     "output_type": "stream",
     "text": [
      "[6, 2, 1, 3, 7, 5, 9, 0, 4, 8]\n",
      "[0, 1, 2, 3, 4, 5, 6, 7, 8, 9]\n"
     ]
    }
   ],
   "source": [
    "# below this point are testings\n",
    "l = list(np.arange(rand.randint(0, 3), rand.randint(9, 12)))\n",
    "rand.shuffle(l)\n",
    "print(l)\n",
    "l = heapSort(l)\n",
    "print(l)"
   ]
  },
  {
   "cell_type": "code",
   "execution_count": 30,
   "metadata": {
    "collapsed": false
   },
   "outputs": [
    {
     "data": {
      "text/plain": [
       "[-56, -3, 0, 1, 1, 2, 4, 4, 4, 7, 7, 9, 12, 12, 13, 14, 33, 91]"
      ]
     },
     "execution_count": 30,
     "metadata": {
     },
     "output_type": "execute_result"
    }
   ],
   "source": [
    "# ADD YOUR TEST CASES and TESTING HERE\n",
    "\n",
    "heapSort([1, 4, 2, -56, 14, 12, 7, 33, 12, 13, 1, 4, 4, 7, 91, -3, 0, 9])\n",
    "    "
   ]
  },
  {
   "cell_type": "code",
   "execution_count": 31,
   "metadata": {
    "collapsed": false
   },
   "outputs": [
    {
     "data": {
      "text/plain": [
       "[-56, -3, 0, 1, 1, 2, 4, 4, 4, 7, 7, 9, 12, 12, 13, 14, 33, 91]"
      ]
     },
     "execution_count": 31,
     "metadata": {
     },
     "output_type": "execute_result"
    }
   ],
   "source": [
    "[-56, -3, 0, 1, 1, 2, 4, 4, 4, 7, 7, 9, 12, 12, 13, 14, 33, 91]"
   ]
  },
  {
   "cell_type": "code",
   "execution_count": 37,
   "metadata": {
    "collapsed": false
   },
   "outputs": [
    {
     "name": "stdout",
     "output_type": "stream",
     "text": [
      "True\n"
     ]
    }
   ],
   "source": [
    "worked = True\n",
    "for i in range(10000):\n",
    "    l = list(np.arange(rand.randint(-55, 21), rand.randint(20, 90)))\n",
    "    rand.shuffle(l)\n",
    "    z = heapSort(l)\n",
    "    if z != sorted(l):\n",
    "        worked = False\n",
    "        break\n",
    "print(worked)"
   ]
  },
  {
   "cell_type": "code",
   "execution_count": 33,
   "metadata": {
    "collapsed": false
   },
   "outputs": [
    {
     "name": "stdout",
     "output_type": "stream",
     "text": [
      "[9]\n"
     ]
    }
   ],
   "source": [
    "l = [9]\n",
    "print(heapSort(l))"
   ]
  },
  {
   "cell_type": "code",
   "execution_count": 0,
   "metadata": {
    "collapsed": false
   },
   "outputs": [
   ],
   "source": [
   ]
  }
 ],
 "metadata": {
  "kernelspec": {
   "display_name": "Python 3 (system-wide)",
   "language": "python",
   "metadata": {
    "cocalc": {
     "description": "Python 3 programming language",
     "priority": 100,
     "url": "https://www.python.org/"
    }
   },
   "name": "python3"
  },
  "language_info": {
   "codemirror_mode": {
    "name": "ipython",
    "version": 3
   },
   "file_extension": ".py",
   "mimetype": "text/x-python",
   "name": "python",
   "nbconvert_exporter": "python",
   "pygments_lexer": "ipython3",
   "version": "3.8.5"
  }
 },
 "nbformat": 4,
 "nbformat_minor": 4
}