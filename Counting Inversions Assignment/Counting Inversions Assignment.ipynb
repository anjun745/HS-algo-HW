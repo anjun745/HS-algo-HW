{
 "cells": [
  {
   "cell_type": "markdown",
   "metadata": {
    "collapsed": false
   },
   "source": [
    "## Counting Inversions: Brute Force ($On^2$) and with Divide and Conquer ($O(n\\log n)$)\n",
    "\n",
    "An *inversion* in an array is a pair of elements that are \"out of order.\"  For example, every pair of elements in an array where the earlier element is larger than the later element is considered an inversion.\n",
    "\n",
    "For example, in this array\n",
    "```\n",
    "1 3 5 2 4 6\n",
    "```\n",
    "There are 3 inversions, (3,2), (5,2) and (5,4)\n",
    "\n",
    "\n",
    "Your job will be to write two functions to count the number of inversions in an array of numbers.\n",
    "\n",
    "### But Why Would We Want to Do This\n",
    "One of the primary uses of counting inversions is to provide a quantitative measure of the similarity between two lists.  The fewer number of inversions, the more similar are those lists.  This is actually a key idea when doing **Collabartive Filtering** -- a technique for generating recommendations.  If, for example, Netflix knew your 100 favorite movies or tv shows, they could find other people with very similar lists and make recommendations based on what they have watched, but you haven't. Very effective and useful, don't you agree?\n",
    "\n",
    "\n",
    "\n",
    "## Counting Inversions\n",
    "## Part 1: Brute Force\n",
    "\n",
    "First watch this video explaining the idea of Counting Inversions in an array:\n",
    "\n",
    "[Video 1: Understanding Inversions (12 minutes)](https://www.youtube.com/watch?v=7_AJfusC6UQ&list=PLEGCF-WLh2RLHqXx6-GZr_w7LgqKDXxN_&index=13)\n",
    "\n",
    "\n",
    "One method for finding the inversions is with a double for loop through the array, comparing each number to all those that follow, and counting each inversion as it arises.  Your first function will use this \"Brute Force\" approach.  In part 2, you'll try another approach to do better than the $On^2$ performance of this approach\n"
   ]
  },
  {
   "cell_type": "code",
   "execution_count": 0,
   "metadata": {
    "collapsed": false
   },
   "outputs": [
   ],
   "source": [
    "l = ['age fx', 'age fx full burst', 'hg destiny', 'rg destiny', 'rg strike freedom', 'rg qan t', 'rg unicorn', 'hg 00r', 'rg 00r', '30mm', 'justice knight', 'goku', 'age fx magnum', 'aegis k']"
   ]
  },
  {
   "cell_type": "code",
   "execution_count": 2,
   "metadata": {
    "collapsed": false
   },
   "outputs": [
    {
     "data": {
      "text/plain": [
       "3"
      ]
     },
     "execution_count": 2,
     "metadata": {
     },
     "output_type": "execute_result"
    }
   ],
   "source": [
    "def count_inversions_brute(A):\n",
    "    '''\n",
    "    count and return the number of inversions in array A\n",
    "    inputs: array\n",
    "    outputs: the amount of inversions\n",
    "    '''\n",
    "    c = 0\n",
    "    for i in range(len(A)):\n",
    "        for k in range(i+1, len(A)):\n",
    "            if A[i] > A[k]:\n",
    "                c += 1\n",
    "    return c\n",
    "\n",
    "count_inversions_brute([1,3,5,2,4,6])"
   ]
  },
  {
   "cell_type": "code",
   "execution_count": 3,
   "metadata": {
    "collapsed": false
   },
   "outputs": [
    {
     "data": {
      "text/plain": [
       "3"
      ]
     },
     "execution_count": 3,
     "metadata": {
     },
     "output_type": "execute_result"
    }
   ],
   "source": [
    "# Test your Brute Function on our original sample list:\n",
    "nums = [1, 3, 5, 2, 4, 6]\n",
    "\n",
    "# do you get the correct number of inversions? 3?\n",
    "count_inversions_brute(nums)"
   ]
  },
  {
   "cell_type": "code",
   "execution_count": 4,
   "metadata": {
    "collapsed": false
   },
   "outputs": [
   ],
   "source": [
    "# Test on a list of 100,000 numbers :|\n",
    "# Is your computer annoyed with this problem?  Is it working really hard?\n",
    "nums = []\n",
    "with open('inversions.txt') as f:\n",
    "    nums = [int(line.strip()) for line in f]\n",
    "    \n",
    "    \n",
    "count_inversions_brute(nums)"
   ]
  },
  {
   "cell_type": "markdown",
   "metadata": {
    "collapsed": false
   },
   "source": [
    "## Part 2: Doing Better with Divide and Conquer\n",
    "\n",
    "Now that we are familiar with the powerful divide and conquer approach from MergeSort, Binary Search, and Quicksort, we can use this skill to count inversions in $O(n\\log(n))$\n",
    "\n",
    "To do this, the \"divide\" step will be exactly as we implemented in MergeSort, with one recursive call for the left half and one for the right.\n",
    "\n",
    "For implementation Details, watch the following Tim Roughgarden video:\n",
    "\n",
    "[Video 2: Counting Split Inversions using Merge Sort Approach (17 minutes)](https://www.youtube.com/watch?v=I6ygiW8xN7Y&list=PLEGCF-WLh2RLHqXx6-GZr_w7LgqKDXxN_&index=14)\n",
    "\n",
    "Write your version of the `count_split_inversions` function below."
   ]
  },
  {
   "cell_type": "code",
   "execution_count": 42,
   "metadata": {
    "collapsed": false
   },
   "outputs": [
   ],
   "source": [
    "def count_split_inversions(Arr):\n",
    "    '''\n",
    "    does a merge sort and counts inversions\n",
    "    inputs: the array/list\n",
    "    outputs: sorted array/list and inversion count\n",
    "    '''\n",
    "    len_ = len(Arr)\n",
    "    \n",
    "    # dealing with the base case\n",
    "    if len_ == 1:\n",
    "        return Arr, 0\n",
    "    \n",
    "    else:\n",
    "        # the recursive call up-front, like previous mergesort algorithm\n",
    "        arr_l = count_split_inversions(Arr[:len_//2])\n",
    "        arr_r = count_split_inversions(Arr[len_//2:])\n",
    "        # due to the returnings being different, I had to assign the variables differently\n",
    "        arr_l_li, len_l, arr_r_li, len_r = arr_l[0], len(arr_l[0]), arr_r[0], len(arr_r[0])\n",
    "        # the inversion counts from previous recursions\n",
    "        c = arr_l[1] + arr_r[1]\n",
    "        \n",
    "        Arr = []\n",
    "        \n",
    "        # due to the need for an inversion count, I decided to not use the pop/append method, but use indexes to identify inversions\n",
    "        l_ind = 0\n",
    "        r_ind = 0\n",
    "        for ele in range(len_):\n",
    "            # first 2 makes sure no index out of bounds, if all these variables are being added after the other list is finished\n",
    "            # there would be no inversions either of these 2 should happen, as even if only the left remains, all the inversions would\n",
    "            # have been accounted for\n",
    "            if l_ind == len_l:\n",
    "                Arr.append(arr_r_li[r_ind])\n",
    "                r_ind += 1\n",
    "                continue\n",
    "            elif r_ind == len_r:\n",
    "                Arr.append(arr_l_li[l_ind])\n",
    "                l_ind += 1\n",
    "                continue\n",
    "                \n",
    "            # if the right current item is smaller than the left, the inversion counter goes up by however remains between the left index\n",
    "            # and the length of the list, as they would all be misplaced\n",
    "            if arr_r_li[r_ind] < arr_l_li[l_ind]:\n",
    "                c += len(arr_l_li) - l_ind\n",
    "                Arr.append(arr_r_li[r_ind])\n",
    "                r_ind += 1\n",
    "            # otherwise just left item on and increase the index count\n",
    "            else:\n",
    "                Arr.append(arr_l_li[l_ind])\n",
    "                l_ind += 1\n",
    "            \n",
    "        return Arr, c"
   ]
  },
  {
   "cell_type": "code",
   "execution_count": 43,
   "metadata": {
    "collapsed": false
   },
   "outputs": [
    {
     "name": "stdout",
     "output_type": "stream",
     "text": [
      "3\n",
      "True ([1, 2, 3, 4, 5, 6], 3)\n"
     ]
    }
   ],
   "source": [
    "# Test your Brute Function on our original sample list:\n",
    "nums = [1, 3, 5, 2, 4, 6]\n",
    "\n",
    "# Note, since this function does double duty and\n",
    "# returns a sorted list AND the number of inversions, \n",
    "# I'm printing just the inversions\n",
    "\n",
    "# print(count_split_inversions_(nums)[1])\n",
    "z = count_split_inversions(nums)\n",
    "print(z[1])\n",
    "print(z[0] == sorted(nums), z)"
   ]
  },
  {
   "cell_type": "code",
   "execution_count": 44,
   "metadata": {
    "collapsed": false
   },
   "outputs": [
    {
     "name": "stdout",
     "output_type": "stream",
     "text": [
      "86\n",
      "86\n",
      "True\n"
     ]
    }
   ],
   "source": [
    "# Test your Brute Force Function on a longer list\n",
    "# should find 86 inversions\n",
    "\n",
    "nums = [54044, 14108, 79294, 29649, 25260, 60660, 2995, 53777, 49689, 9083, 16122, 90436, 4615, 40660, 25675, 58943, 92904, 9900, 95588, 46120]\n",
    "\n",
    "z = count_split_inversions(nums)\n",
    "print(z[1])\n",
    "print(z[0] == sorted(nums))"
   ]
  },
  {
   "cell_type": "code",
   "execution_count": 45,
   "metadata": {
    "collapsed": false,
    "scrolled": true
   },
   "outputs": [
    {
     "name": "stdout",
     "output_type": "stream",
     "text": [
      "2407905288\n"
     ]
    },
    {
     "name": "stdout",
     "output_type": "stream",
     "text": [
      "2407905288\n",
      "True\n"
     ]
    }
   ],
   "source": [
    "# Test on a list of 100,000 numbers\n",
    "\n",
    "nums = []\n",
    "with open('inversions.txt') as f:\n",
    "    nums = [int(line.strip()) for line in f]\n",
    "    \n",
    "z = count_split_inversions(nums)\n",
    "print(z[1])\n",
    "print(z[0] == sorted(nums))"
   ]
  },
  {
   "cell_type": "code",
   "execution_count": 0,
   "metadata": {
    "collapsed": false
   },
   "outputs": [
   ],
   "source": [
   ]
  }
 ],
 "metadata": {
  "kernelspec": {
   "display_name": "Python 3 (system-wide)",
   "language": "python",
   "metadata": {
    "cocalc": {
     "description": "Python 3 programming language",
     "priority": 100,
     "url": "https://www.python.org/"
    }
   },
   "name": "python3"
  },
  "language_info": {
   "codemirror_mode": {
    "name": "ipython",
    "version": 3
   },
   "file_extension": ".py",
   "mimetype": "text/x-python",
   "name": "python",
   "nbconvert_exporter": "python",
   "pygments_lexer": "ipython3",
   "version": "3.8.5"
  }
 },
 "nbformat": 4,
 "nbformat_minor": 4
}