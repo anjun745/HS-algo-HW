{
 "cells": [
  {
   "cell_type": "markdown",
   "metadata": {
    "collapsed": false
   },
   "source": [
    "### Depth First Search -- DFS \n",
    "\n",
    "**Depth First Search (DFS)**, as the name implies seeks to aggressively search deep into a graph, only backtracking when it can go no further or all nodes along a path have been explored.  Just like BFS, DFS will find all the nodes that are findable from a given starting point of a graph in linear O(m+n) time.  DFS, however, is uniquely suited for finding Topological Ordering of a directed graph and for finding the Strongly Connected Components of directed acyclic graphs -- applications which BFS cannot do.\n",
    "\n",
    "When to use BFS and DFS:\n",
    "\n",
    "Use BFS for:\n",
    "\n",
    "    - finding shortest paths between nodes\n",
    "    - solutons are rare, but shallow in graphs\n",
    "\n",
    "Use DFS for\n",
    "\n",
    "    - finding Strongly Connected Components of directed graphs\n",
    "    - finding a topological ordering of directed acyclic graphs\n",
    "    - searching for solutions to mazes\n",
    "    - when solutions are plentiful but deep within graphs\n",
    "    \n",
    "Use either BFS or DFS:\n",
    "\n",
    "    - finding all nodes that can be found from a given node\n",
    "    - finding Connected Components of undirected Graph\n",
    "    \n",
    "\n",
    "   \n",
    "Today you are going to Code 2 versions of DFS to find all the findable nodes of an undirected graph.  You'll code a recursive version making use of the \"call stack\" to aggressively search the edges of any new nodes, and you'll do an iterative (looping) version that makes use of a Stack data structure with the Last In First Out (LIFO) principle."
   ]
  },
  {
   "cell_type": "markdown",
   "metadata": {
    "collapsed": false
   },
   "source": [
    "### Exercise 1: Recursive DFS\n",
    "\n",
    "Follow the explanation of DFS from Class lecture, or from the [Tim Roughgarten video](https://youtu.be/_9_VUNrWGUs) to implement a recursive version of Depth First Search that returns a set of all the findable nodes from a given start node.\n",
    "\n"
   ]
  },
  {
   "cell_type": "code",
   "execution_count": 1,
   "metadata": {
    "collapsed": false
   },
   "outputs": [
   ],
   "source": [
    "# Write a recursive version of Depth First Search that returns a list of Explored edges\n",
    "\n",
    "def DFS_recursive(G, s, E = set()):\n",
    "    '''\n",
    "    input Graph G as adjacency list dictionary\n",
    "    s starting point to begin search\n",
    "    E set of points explored, default value o\n",
    "f empty set\n",
    "    returns: the set of explored elements\n",
    "    '''\n",
    "    E.add(s)\n",
    "    for v in G[s]:\n",
    "        # recursive call\n",
    "        if v not in E:\n",
    "            DFS_recursive(G, v, E = E)\n",
    "    # base case of returning\n",
    "    return E\n",
    "\n",
    "\n"
   ]
  },
  {
   "cell_type": "markdown",
   "metadata": {
    "collapsed": false
   },
   "source": [
    "### Exercise 2: Iterative or Looping DFS\n",
    "\n",
    "Sometimes, like with our Scrabble word graph, a recursive DFS might exceed the recursion depth that Python allows.  In this case, we'll want to use a loop.  To do this, you make use of a data structrue called a STACK which is a Last In First Out data structure (LIFO).\n",
    "\n",
    "Again, you'll use the deque class from the collections module for your Stack, as it allows O(1) appends to the top of the stack and O(1) removal from the top of the stack.\n",
    "\n",
    "Here is an example of adding elements to a deque stack.\n",
    "\n",
    "```python\n",
    "from collections import deque\n",
    "stack = deque()\n",
    "stack.append('some node') # adds a node to the top of the stack\n",
    "stack.pop() # removes the last node added to the stack\n",
    "```\n",
    "\n",
    "Follow the ideas explanation from Class and the outline below to implement the iterative/looping version of DFS."
   ]
  },
  {
   "cell_type": "code",
   "execution_count": 2,
   "metadata": {
    "collapsed": false
   },
   "outputs": [
   ],
   "source": [
    "# Write an interative version of DFS using a Stack\n",
    "# Again you can use deque from the Collections module which can .pop from and .append to the \n",
    "# \"TOP\" of the stack in O(1)\n",
    "from collections import deque\n",
    "\n",
    "def DFS_iter(G, s):\n",
    "    '''\n",
    "    DFS of Graph G from point s\n",
    "    return set of all explored nodes\n",
    "    '''\n",
    "    E = {s} # mark s as explored\n",
    "\n",
    "    # initialize a stack with all nodes adjacent to s\n",
    "    stack = deque(G[s])\n",
    "    # put your loop here\n",
    "    while stack:\n",
    "        i = stack.pop()\n",
    "        E.add(i)\n",
    "        for v in G[i]:\n",
    "            if v not in E:\n",
    "                E.add(v)\n",
    "                stack.append(v)\n",
    "\n",
    "    \n",
    "    # end loop\n",
    "\n",
    "    return E\n",
    "    "
   ]
  },
  {
   "cell_type": "code",
   "execution_count": 3,
   "metadata": {
    "collapsed": false
   },
   "outputs": [
    {
     "name": "stdout",
     "output_type": "stream",
     "text": [
      "{'g', 'h', 'f'} 1\n",
      "{'g', 'h', 'f'} 2\n",
      "{'e', 'a', 'd', 's', 'b', 'c'} 1\n",
      "{'e', 'a', 'd', 's', 'b', 'c'} 2\n"
     ]
    }
   ],
   "source": [
    "# small test graph for checking your functions\n",
    "\n",
    "G = {'s':['a','b'],\n",
    "    'a': ['s','b','c'],\n",
    "    'b':['s','c','d'],\n",
    "    'c':['a','b','d'],\n",
    "    'd':['b','c','e'],\n",
    "    'e':['c','d'],\n",
    "     'f':['g','h'],\n",
    "     'g':['f'],\n",
    "     'h':['f']\n",
    "    }\n",
    "\n",
    "\n",
    "for node in ['f','s']:\n",
    "    print(DFS_recursive(G, node, E=set()), 1)\n",
    "    print(DFS_iter(G, node), 2)"
   ]
  },
  {
   "cell_type": "markdown",
   "metadata": {
    "collapsed": false
   },
   "source": [
    "### Part 2: Connected Components of Undirected Graphs\n",
    "\n",
    "A connected component of a graph consists of all the elements that can be reached from a given starting point.  If there are two nodes that not connected by any path in an undirected graph, then these nodes must be part of different Connected Components.\n",
    "\n",
    "A connected component can be thought of as an island of nodes that are not connected to the other nodes of a given graph.  For example, in the 4_letter_word_graph you created, the following 3 words constitute a connected component of the graph: `{'AMBO', 'UMBO', 'AMMO'}`  Those three words are connected to each other, but there is NO path from these words to any other words in the 4_letter_word_graph.\n",
    "\n",
    "Since DFS and BFS will both find all the findable nodes from a given starting node, to find the Connected Components of a graph, you only need embed DFS or BFS inside of a loop of all the nodes of a graph, keeping track of all the nodes you've seen so far and calling DFS or BFS on each node that has not been seen already.\n",
    "\n",
    "You can review this idea by re-watching the recording of class posted in Classroom, or watching this [7 minutes Tim Roughgarden Video on Connected Components](https://youtu.be/vHqaiQlOzOw)\n"
   ]
  },
  {
   "cell_type": "markdown",
   "metadata": {
    "collapsed": false
   },
   "source": [
    "### Exercise 3\n",
    "Write a loop or a function containing a loop to find the answer to this question:\n",
    "\n",
    "How many different connected components exist in the 4_letter_word_graph?"
   ]
  },
  {
   "cell_type": "code",
   "execution_count": 29,
   "metadata": {
    "collapsed": false
   },
   "outputs": [
   ],
   "source": [
    "def one_away(word1, word2):\n",
    "    '''\n",
    "    determines if 2 words of the same length is 1 away\n",
    "    inputs: 2 words\n",
    "    outputs: whether or not the words are 1 away\n",
    "    '''\n",
    "    if word1 == word2:\n",
    "        return False\n",
    "    if len(word1) == len(word2):\n",
    "        dif = False\n",
    "        for i in range(len(word1)):\n",
    "            # using the dif variable as an extra strike before the out\n",
    "            if word1[i] != word2[i]:\n",
    "                if dif:\n",
    "                    return False\n",
    "                dif = True\n",
    "        return True\n",
    "    return False\n",
    "\n",
    "\n",
    "def create_dictionary_graph(word_length=4):\n",
    "    '''reads the word_length words from the sowpods.txt file and \n",
    "    return an adjacency list dictionary of the form\n",
    "    key: word, value: list of words that are one_away from that word'''\n",
    "    with open(\"sowpods.txt\",\"r\") as sowpods:\n",
    "        # may not run as fast, but looked fancier, don't flame me please\n",
    "        words = [l.strip().upper() for l in sowpods if len(l.strip().upper()) == word_length]\n",
    "    letter_graph, count, length = {}, 0, len(words)\n",
    "    for w in words:\n",
    "        letter_graph[w] = []\n",
    "        for o in words:\n",
    "            if one_away(w, o):\n",
    "                letter_graph[w].append(o)\n",
    "        count += 1\n",
    "        if not count%500:\n",
    "            print(count/length)\n",
    "    return letter_graph\n",
    "\n",
    "\n",
    "def write_to_file(l):\n",
    "    '''\n",
    "    only need to tell the program how long you the words to be\n",
    "    input: word length\n",
    "    output: none, but writes/createsa file\n",
    "    '''\n",
    "    d = create_dictionary_graph(l)\n",
    "    with open(f'{l}_letter_graph.txt', 'w') as file:\n",
    "        for w in d:\n",
    "            file.write(f\"{w}\")\n",
    "            for w_ in d[w]:\n",
    "                file.write(f\" {w_}\")\n",
    "            # for formatting\n",
    "            file.write(\"\\n\")\n",
    "    print(f'done for {l}')\n",
    "\n",
    "\n",
    "# for i in range(4, 8):\n",
    "#     write_to_file(i)\n",
    "\n",
    "\n",
    "def load_graph(file = \"4_letter_graph.txt\"):\n",
    "    '''\n",
    "    Reads a file in and returns a graph in the form of an adjacency list dictionary\n",
    "    inputs: file name\n",
    "    outputs: the adjacency list dictionary\n",
    "    '''\n",
    "    letter_dict = {}\n",
    "    with open(file, 'r') as f:\n",
    "        for line in f:\n",
    "            # make line a list and split the list into 2\n",
    "            letter_dict[line.split()[0]] = line.split()[1::]\n",
    "    return letter_dict\n",
    "\n",
    "\n",
    "for length in range(4, 8):\n",
    "    exec(f\"letter_graph_{length} = load_graph('{length}_letter_graph.txt')\")"
   ]
  },
  {
   "cell_type": "code",
   "execution_count": 39,
   "metadata": {
    "collapsed": false
   },
   "outputs": [
    {
     "name": "stdout",
     "output_type": "stream",
     "text": [
      "67\n"
     ]
    }
   ],
   "source": [
    "# your code \n",
    "from collections import deque\n",
    "\n",
    "\n",
    "def BFS(G, s):\n",
    "    '''\n",
    "    Breadth First Search of a linked list Graph\n",
    "    inputs: graph of words, starting index\n",
    "    outputs: the set of all explored\n",
    "    \n",
    "    '''\n",
    "    E = set([s])\n",
    "    # starts with s as the starting node\n",
    "    Q = deque([s])\n",
    "    while Q:\n",
    "        v = Q.popleft()\n",
    "        for w in G[v]:\n",
    "            if w not in E:\n",
    "                Q.append(w)\n",
    "                E.add(w)\n",
    "\n",
    "\n",
    "    return E # the set of all the found nodes\n",
    "\n",
    "\n",
    "\n",
    "def connected(G):\n",
    "    '''\n",
    "    takes in graph and finds the differencted connected groups\n",
    "    inputs: the graph\n",
    "    outputs: connected sections amount\n",
    "    '''\n",
    "    E = set()\n",
    "    sectors = []  # making this here in case the user wants the different sectors returned\n",
    "    for i in G:\n",
    "        if i not in E:\n",
    "            # finding all the connected\n",
    "            explored = BFS(G, i)\n",
    "            sectors.append(explored)\n",
    "            # adding them to explored\n",
    "            for e in explored:\n",
    "                E.add(e)\n",
    "    return len(sectors)\n",
    "\n",
    "\n",
    "# your answer to the question\n",
    "print(connected(letter_graph_4))  # 67"
   ]
  },
  {
   "cell_type": "markdown",
   "metadata": {
    "collapsed": false
   },
   "source": [
    "### Exercise 4\n",
    "\n",
    "What is the size of the second largest Connected Component of the 7_letter_word_graph and what are all the words in that Connected Component?\n",
    "\n"
   ]
  },
  {
   "cell_type": "code",
   "execution_count": 4,
   "metadata": {
    "collapsed": false
   },
   "outputs": [
    {
     "ename": "NameError",
     "evalue": "name 'letter_graph_7' is not defined",
     "output_type": "error",
     "traceback": [
      "\u001b[0;31m---------------------------------------------------------------------------\u001b[0m",
      "\u001b[0;31mNameError\u001b[0m                                 Traceback (most recent call last)",
      "\u001b[0;32m<ipython-input-4-a3a76ff68d19>\u001b[0m in \u001b[0;36m<module>\u001b[0;34m\u001b[0m\n\u001b[1;32m     20\u001b[0m \u001b[0;34m\u001b[0m\u001b[0m\n\u001b[1;32m     21\u001b[0m \u001b[0mlen_dict\u001b[0m \u001b[0;34m=\u001b[0m \u001b[0;34m{\u001b[0m\u001b[0;34m}\u001b[0m\u001b[0;34m\u001b[0m\u001b[0;34m\u001b[0m\u001b[0m\n\u001b[0;32m---> 22\u001b[0;31m \u001b[0;32mfor\u001b[0m \u001b[0msector\u001b[0m \u001b[0;32min\u001b[0m \u001b[0mconnected_alt\u001b[0m\u001b[0;34m(\u001b[0m\u001b[0mletter_graph_7\u001b[0m\u001b[0;34m)\u001b[0m\u001b[0;34m:\u001b[0m\u001b[0;34m\u001b[0m\u001b[0;34m\u001b[0m\u001b[0m\n\u001b[0m\u001b[1;32m     23\u001b[0m     \u001b[0mlen_dict\u001b[0m\u001b[0;34m.\u001b[0m\u001b[0msetdefault\u001b[0m\u001b[0;34m(\u001b[0m\u001b[0mstr\u001b[0m\u001b[0;34m(\u001b[0m\u001b[0mlen\u001b[0m\u001b[0;34m(\u001b[0m\u001b[0msector\u001b[0m\u001b[0;34m)\u001b[0m\u001b[0;34m)\u001b[0m\u001b[0;34m,\u001b[0m \u001b[0;34m[\u001b[0m\u001b[0;34m]\u001b[0m\u001b[0;34m)\u001b[0m\u001b[0;34m.\u001b[0m\u001b[0mappend\u001b[0m\u001b[0;34m(\u001b[0m\u001b[0msector\u001b[0m\u001b[0;34m)\u001b[0m\u001b[0;34m\u001b[0m\u001b[0;34m\u001b[0m\u001b[0m\n\u001b[1;32m     24\u001b[0m \u001b[0;34m\u001b[0m\u001b[0m\n",
      "\u001b[0;31mNameError\u001b[0m: name 'letter_graph_7' is not defined"
     ]
    }
   ],
   "source": [
    "# your code for number 4\n",
    "def connected_alt(G):\n",
    "    '''\n",
    "    takes in graph and finds the differencted connected groups\n",
    "    inputs: the graph\n",
    "    outputs: connected sections\n",
    "    '''\n",
    "    E = set()\n",
    "    sectors = []  # told you\n",
    "    for i in G:\n",
    "        if i not in E:\n",
    "            # finding all the connected\n",
    "            explored = BFS(G, i)\n",
    "            sectors.append(explored)\n",
    "            # adding them to explored\n",
    "            for e in explored:\n",
    "                E.add(e)\n",
    "    return sectors\n",
    "\n",
    "\n",
    "len_dict = {}\n",
    "for sector in connected_alt(letter_graph_7):\n",
    "    len_dict.setdefault(str(len(sector)), []).append(sector)\n",
    "\n",
    "# your answer to number 4\n",
    "len_list = []\n",
    "for i in len_dict:\n",
    "    len_list.append(int(i))\n",
    "print(sorted(len_list)[-1])\n",
    "print(len_dict['64'])"
   ]
  },
  {
   "cell_type": "markdown",
   "metadata": {
    "collapsed": false
   },
   "source": [
    "### Exercise 5:  LOOM Videos\n",
    "\n",
    "Complete Loom videos explaining BFS, DFS and your Adjacency List Graph Representation.  Add these links to the [ALGORITHMS DOC](https://docs.google.com/spreadsheets/d/1QgLD9CET85d9O7AMwoSCk7IIS5JaTNzUc2upwfNlVxM/edit?usp=sharing)"
   ]
  },
  {
   "cell_type": "code",
   "execution_count": 0,
   "metadata": {
    "collapsed": false
   },
   "outputs": [
   ],
   "source": [
   ]
  }
 ],
 "metadata": {
  "kernelspec": {
   "display_name": "Python 3 (system-wide)",
   "language": "python",
   "metadata": {
    "cocalc": {
     "description": "Python 3 programming language",
     "priority": 100,
     "url": "https://www.python.org/"
    }
   },
   "name": "python3"
  },
  "language_info": {
   "codemirror_mode": {
    "name": "ipython",
    "version": 3
   },
   "file_extension": ".py",
   "mimetype": "text/x-python",
   "name": "python",
   "nbconvert_exporter": "python",
   "pygments_lexer": "ipython3",
   "version": "3.8.5"
  }
 },
 "nbformat": 4,
 "nbformat_minor": 4
}