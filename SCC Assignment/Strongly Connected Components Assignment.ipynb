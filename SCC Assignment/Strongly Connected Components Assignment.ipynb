{
 "cells": [
  {
   "cell_type": "markdown",
   "metadata": {
    "collapsed": false
   },
   "source": [
    "## Strongly Connected Components of Directed Graphs\n",
    "\n",
    "**NOTE:** This is likely one of the most challenging assignments of the semester.  Give yourself plenty of time to work on this problem.  Work and talk with your partner and post questions to the #general channel on Slack!\n",
    "\n",
    "\n",
    "In this assignment, you will implement Kasaraju's 2-pass Depth First Search Algorithm to uncover the Strongly Connected Components (SCC's) of Directed Graphs.\n",
    "\n",
    "To implement this algorithm, follow the directions from class lecture and the [Tim Roughgarden Explanation for Computing Strongly Connected Components of Directed Graphs](https://youtu.be/O98hLTYVN3c)\n",
    "\n",
    "I've provided a small test case that matches the graph used in the video above.  Use this graph as your first test graph as you write your algorithm.\n",
    "\n",
    "In the much larger test cases that follow, you will return the size of the 5 largest SCCs in the given graphs.\n",
    "\n",
    "NOTE: because the test cases include some VERY large graphs, you should not use the recursive version of DFS, as it will surpass the allowed recursion depth.\n",
    "\n",
    "NOTE 2: The graph described in the video is a slightly different format than the Adjacency List dictionary we used to represent the Scrabble Graph.  In the given test cases, the nodes are all integers, so the graph could be represented as a list of lists, such as:\n",
    "```python\n",
    "gr = [[],[4],[8],[6],[7],[2],[9],[1],[5,6],[3,7]]\n",
    "```\n",
    "Where the index is the name of the node and the list at that index contains the nodes it is connected to.  If you prefer to use a dictionary, you may do that as well.  I have provided both representations of the graph below for you.  It's up to you which you want to use. "
   ]
  },
  {
   "cell_type": "markdown",
   "metadata": {
    "collapsed": false
   },
   "source": [
    "### Part 1: Writing Kasaraju's 2-Pass Algorithm"
   ]
  },
  {
   "cell_type": "code",
   "execution_count": 44,
   "metadata": {
    "collapsed": false
   },
   "outputs": [
    {
     "data": {
      "text/plain": [
       "[{2, 3, 4}, {1, 5, 6}, {7, 8, 9}]"
      ]
     },
     "execution_count": 44,
     "metadata": {
     },
     "output_type": "execute_result"
    }
   ],
   "source": [
    "from collections import deque\n",
    "\n",
    "# put the DFS implementation you'll use within your Kasaraju function here\n",
    "E = set()\n",
    "finish = []\n",
    "def DFS(G, s):\n",
    "    # find all findable nodes from s\n",
    "    # keep track of finishing times of each node\n",
    "    '''\n",
    "    DFS but with global variables\n",
    "    inputs: graph, start node\n",
    "    outputs: the local explored/found nodes\n",
    "    '''\n",
    "    global E, finish\n",
    "    E_ = {s}\n",
    "    E.add(s)\n",
    "    stack = deque([s])\n",
    "    discovered_by = {}  # keeping track for easier removal process with backtracking\n",
    "    while stack:\n",
    "        new_item = False  # to determine whether or not a node has any unexplored nodes left\n",
    "        s = stack[-1]\n",
    "        for v in G[s]:\n",
    "            if v not in E:  # when a new node is found\n",
    "                E.add(v)\n",
    "                E_.add(v)\n",
    "                stack.append(v)\n",
    "                discovered_by[v] = s  # remembering what a node is discovered by\n",
    "                new_item = True\n",
    "        if not new_item:  # when a node s fully explored it gets removed and is finished\n",
    "            finish.append(stack.pop())\n",
    "    return E_\n",
    "\n",
    "\n",
    "\n",
    "###\n",
    "def Kasaraju(G: dict, num_nodes: int) -> list:\n",
    "    '''\n",
    "    Take in a graph G and return list of 5 largest SCCs, largest first\n",
    "    inputs: graph in dict format, and number of nodes\n",
    "    outputs: 5 largest scc in decending order\n",
    "    '''\n",
    "    # global variables keeping track of all explored nodes and their finishing times\n",
    "    \n",
    "    global E, finish\n",
    "    \n",
    "    # step 1: create a reverse of the input graph\n",
    "    G_rev = {}\n",
    "    for i in G:  # doing this because [[]]*n will cause every list to be connected\n",
    "        G_rev[i] = []\n",
    "    for i in G:\n",
    "        for v in G[i]:\n",
    "            G_rev[v].append(i)\n",
    "\n",
    "    # set up the global variables to keep track of all explored nodes on first pass\n",
    "    # and an empty list to keep track of order of finishing time\n",
    "    E = set()\n",
    "    finish = []\n",
    "    \n",
    "    # step 2: first DFS loop on the reverse Graph from num_nodes down to 1 keeping track\n",
    "    # of the finishing order of each node\n",
    "    for i in range(len(G_rev)-1, 0, -1):\n",
    "        if i not in E:  # duplicate prevention\n",
    "            DFS(G_rev, i)\n",
    "    \n",
    "    # step 3: using finishing order discovered above do second loop of DFS\n",
    "    # starting from the last node to finish above\n",
    "    # each call to DFS here should give you an SCC\n",
    "    scc = []\n",
    "    E = set()\n",
    "    for i in finish[::-1]:\n",
    "        if i not in E:  # duplicate prevention\n",
    "            scc.append(DFS(G, i))\n",
    "    \n",
    "    # step 4: return a list of the 5 largest SCCs in descending order\n",
    "    \n",
    "    return sorted(scc, key=len)[-1:-6:-1]  # going from longest to shortest of the 5 longest with the sorted function\n",
    "\n",
    "\n",
    "Kasaraju({1: [5], 2: [3], 3: [4], 4: [2,5], 5: [6], 6: [1,9], 7: [8], 8: [9], 9: [7]}, 9)\n"
   ]
  },
  {
   "cell_type": "code",
   "execution_count": 42,
   "metadata": {
    "collapsed": false
   },
   "outputs": [
    {
     "data": {
      "text/plain": [
       "[{2, 3, 4}, {1, 5, 6}, {7, 8, 9}]"
      ]
     },
     "execution_count": 42,
     "metadata": {
     },
     "output_type": "execute_result"
    }
   ],
   "source": [
    "# put the DFS implementation you'll use within your Kasaraju function here\n",
    "E = set()\n",
    "finish = []\n",
    "\n",
    "\n",
    "def dict_to_list(G):\n",
    "    '''\n",
    "    to be used with the list version of the function\n",
    "    inputs: the graph in dict format\n",
    "    outputs: the graph converted into a list, but the first variable is always blank\n",
    "    '''\n",
    "    l = [[]]\n",
    "    for i in G:\n",
    "        l.append(G[i])\n",
    "    return l\n",
    "\n",
    "\n",
    "def Kasaraju_list(G: (list or dict), num_nodes: int) -> list:\n",
    "    '''\n",
    "    Take in a graph G and return list of 5 largest SCCs, largest first\n",
    "    inputs: graph, list or dict, and number of nodes\n",
    "    outputs: 5 largest scc in decending order\n",
    "    '''\n",
    "    if type(G) == dict:  # type conversion\n",
    "        G = dict_to_list(G)\n",
    "    # global variables keeping track of all explored nodes and their finishing times\n",
    "    \n",
    "    global E, finish\n",
    "    num_nodes += 1  # to account for the first blank node, which isn't counted in the num_nodes\n",
    "    \n",
    "    # step 1: create a reverse of the input graph\n",
    "    G_rev = []\n",
    "    for i in range(num_nodes):  # doing this because [[]]*n will cause every list to be connected\n",
    "        G_rev.append([])\n",
    "    for i in range(num_nodes):\n",
    "        for v in G[i]:\n",
    "            G_rev[v].append(i)\n",
    "\n",
    "    # set up the global variables to keep track of all explored nodes on first pass\n",
    "    # and an empty list to keep track of order of finishing time\n",
    "    E = set()\n",
    "    finish = []\n",
    "    \n",
    "    # step 2: first DFS loop on the reverse Graph from num_nodes down to 1 keeping track\n",
    "    # of the finishing order of each node\n",
    "    for i in range(len(G_rev)-1, 0, -1):\n",
    "        if i not in E:  # duplicate prevention\n",
    "            DFS(G_rev, i)\n",
    "    \n",
    "    # step 3: using finishing order discovered above do second loop of DFS\n",
    "    # starting from the last node to finish above\n",
    "    # each call to DFS here should give you an SCC\n",
    "    scc = []\n",
    "    E = set()\n",
    "    for i in finish[::-1]:\n",
    "        if i not in E:  # duplicate prevention\n",
    "            scc.append(DFS(G, i))\n",
    "    \n",
    "    # step 4: return a list of the 5 largest SCCs in descending order\n",
    "    \n",
    "    return sorted(scc, key=len)[-1:-6:-1]  # going from longest to shortest of the 5 longest with the sorted function\n",
    "\n",
    "\n",
    "Kasaraju_list([[], [5], [3], [4], [2, 5], [6], [1, 9], [8], [9], [7]], 9)\n"
   ]
  },
  {
   "cell_type": "markdown",
   "metadata": {
    "collapsed": false
   },
   "source": [
    "### Part 2: Test Cases\n",
    "\n",
    "There are 3 test graphs and solutions for you to check your work.  The graphs are saved as files of the format of one line for each edge from v -> w.  The nodes are numbered from 1 to N with N being the number in the name of the file.  For example:\n",
    "\n",
    "The file named \"input_scc_800.txt\" has 800 nodes.  The first lines of the file look like this:\n",
    "```\n",
    "1 34\n",
    "1 459\n",
    "1 647\n",
    "2 782\n",
    "3 278\n",
    "```\n",
    "This means that node 1 points to 34, 459 and 647.\n",
    "\n",
    "\n",
    "Remember, these are directed graphs, so the nodes do not necessarily go in both directions, though they could.\n",
    "\n",
    "The \"answer\" or output for each test case is provided in the corresponding \"output\" file.  So, the answer you should get for \"input_scc_800.txt\" is in the file \"output_scc_800.txt\"\n",
    "\n",
    "The 3 test graphs are:\n",
    "\n",
    "    1) input_scc_32.txt -> output_scc_32.txt\n",
    "    2) input_scc_800.txt -> output_scc_800.txt\n",
    "    3) input_scc_20000.txt -> output_scc_20000.txt\n",
    "\n",
    "    4) input_scc_320000.txt -> the test case I'll use for grading\n",
    "    \n",
    "   \n",
    "Remember, you sare returning the SIZE of the 5 largest SCC's in each graph."
   ]
  },
  {
   "cell_type": "code",
   "execution_count": 12,
   "metadata": {
    "collapsed": false,
    "scrolled": true
   },
   "outputs": [
    {
     "name": "stdout",
     "output_type": "stream",
     "text": [
      "20000\n"
     ]
    }
   ],
   "source": [
    "### \n",
    "## graph from video\n",
    "G = {1: [5], 2: [3], 3: [4], 4: [2,5], 5: [6], 6: [1,9], 7: [8], 8: [9], 9: [7]}\n",
    "G = dict_to_list(G)\n",
    "\n",
    "### load test graphs from files here\n",
    "\n",
    "nodes = 20000\n",
    "G = {i:[] for i in range(1,nodes+1)}\n",
    "\n",
    "with open(f\"input_scc_{nodes}.txt\") as the_file:\n",
    "    for line in the_file:\n",
    "        row = line.strip().split()\n",
    "        v, w = int(row[0]), int(row[1])\n",
    "        G[v].append(w)\n",
    "# G = dict_to_list(G)\n",
    "\n",
    "print(len(G))"
   ]
  },
  {
   "cell_type": "code",
   "execution_count": 29,
   "metadata": {
    "collapsed": false
   },
   "outputs": [
   ],
   "source": [
    "def checker(length):\n",
    "    '''\n",
    "    function for answer extraction\n",
    "    inputs: the length of scc graph\n",
    "    outputs: prints/returns the list of 5 largest scc\n",
    "    '''\n",
    "    with open(f\"output_scc_{length}.txt\") as answers:\n",
    "        for line in answers:\n",
    "            l = [int(x) for x in line.split(',')]\n",
    "            print(l)\n",
    "    return l"
   ]
  },
  {
   "cell_type": "code",
   "execution_count": 39,
   "metadata": {
    "collapsed": false,
    "scrolled": true
   },
   "outputs": [
    {
     "name": "stdout",
     "output_type": "stream",
     "text": [
      "11 10 5 4 1 [11, 10, 5, 4, 1]\n",
      "True\n",
      "\n",
      "------\n",
      "507 119 109 28 21 [507, 119, 109, 28, 21]\n",
      "True\n",
      "\n",
      "------\n",
      "11873 4625 1334 1146 576 [11873, 4625, 1334, 1146, 576]\n",
      "True\n",
      "\n",
      "------\n"
     ]
    },
    {
     "name": "stdout",
     "output_type": "stream",
     "text": [
      "271384 33830 9100 3102 850 [271384, 33830, 9100, 3102, 850]\n",
      "True\n",
      "\n",
      "------\n"
     ]
    }
   ],
   "source": [
    "lengths = [32, 800, 20000, 320000]\n",
    "\n",
    "\n",
    "def find_scc(length):\n",
    "    '''\n",
    "    does a kasaraju on a specific file\n",
    "    inputs: length for file identification\n",
    "    outputs: Kasaraju on that file\n",
    "    '''\n",
    "    G = {i:[] for i in range(1,length+1)}\n",
    "    with open(f\"input_scc_{length}.txt\") as the_file:  # this is just your code lol\n",
    "        for line in the_file:\n",
    "            row = line.strip().split()\n",
    "            v, w = int(row[0]), int(row[1])\n",
    "            G[v].append(w)\n",
    "    return Kasaraju(G, length)\n",
    "\n",
    "\n",
    "for l in lengths:\n",
    "    sccs = find_scc(l)\n",
    "    c = []  # making a list for checking later\n",
    "    for scc in sccs:\n",
    "        print(len(scc), end=' ')\n",
    "        c.append(len(scc))\n",
    "    print(checker(l) == c)\n",
    "    print('\\n------')"
   ]
  },
  {
   "cell_type": "code",
   "execution_count": 40,
   "metadata": {
    "collapsed": false,
    "scrolled": true
   },
   "outputs": [
    {
     "name": "stdout",
     "output_type": "stream",
     "text": [
      "11 10 5 4 1 [11, 10, 5, 4, 1]\n",
      "True\n",
      "\n",
      "------\n",
      "507 119 109 28 21 [507, 119, 109, 28, 21]\n",
      "True\n",
      "\n",
      "------\n",
      "11873 4625 1334 1146 576 [11873, 4625, 1334, 1146, 576]\n",
      "True\n",
      "\n",
      "------\n"
     ]
    },
    {
     "name": "stdout",
     "output_type": "stream",
     "text": [
      "271384 33830 9100 3102 850 [271384, 33830, 9100, 3102, 850]\n",
      "True\n",
      "\n",
      "------\n"
     ]
    }
   ],
   "source": [
    "def find_scc_alt(length):\n",
    "    '''\n",
    "    same as above, except this one does the list method\n",
    "    '''\n",
    "    G = {i:[] for i in range(1,length+1)}\n",
    "\n",
    "    with open(f\"input_scc_{length}.txt\") as the_file:\n",
    "        for line in the_file:\n",
    "            row = line.strip().split()\n",
    "            v, w = int(row[0]), int(row[1])\n",
    "            G[v].append(w)\n",
    "    return Kasaraju_list(G, length)\n",
    "\n",
    "\n",
    "for l in lengths:\n",
    "    sccs = find_scc_alt(l)\n",
    "    c = []\n",
    "    for scc in sccs:\n",
    "        print(len(scc), end=', ')\n",
    "        c.append(len(scc))\n",
    "    print(checker(l) == c)\n",
    "    print('\\n------')"
   ]
  },
  {
   "cell_type": "code",
   "execution_count": 0,
   "metadata": {
    "collapsed": false
   },
   "outputs": [
   ],
   "source": [
   ]
  }
 ],
 "metadata": {
  "kernelspec": {
   "display_name": "Python 3 (system-wide)",
   "language": "python",
   "metadata": {
    "cocalc": {
     "description": "Python 3 programming language",
     "priority": 100,
     "url": "https://www.python.org/"
    }
   },
   "name": "python3"
  },
  "language_info": {
   "codemirror_mode": {
    "name": "ipython",
    "version": 3
   },
   "file_extension": ".py",
   "mimetype": "text/x-python",
   "name": "python",
   "nbconvert_exporter": "python",
   "pygments_lexer": "ipython3",
   "version": "3.8.5"
  }
 },
 "nbformat": 4,
 "nbformat_minor": 4
}