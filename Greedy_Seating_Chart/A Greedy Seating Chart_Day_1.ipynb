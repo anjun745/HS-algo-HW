{
 "cells": [
  {
   "cell_type": "code",
   "execution_count": 0,
   "metadata": {
    "collapsed": false
   },
   "outputs": [
   ],
   "source": [
   ]
  },
  {
   "cell_type": "markdown",
   "metadata": {
    "collapsed": false
   },
   "source": [
    "### A Greedy Seating Chart\n",
    "\n",
    "Organizing a class seating chart that maximizes student happiness is a surprisingly complicated problem.  If you assume that people work best sitting by or near people they like, then it's important to maximize the number of students working with or near people they want to work with.  The goal is to maximize the happiness, thereby maximizing the learning.\n",
    "\n",
    "The job of this assignment is to create a tool that creates the best possible seating chart given a class of students and their best and worst neighbors.\n",
    "\n",
    "The class has 16 tables with 2 students at each table.  Here is the way the classroom is arranged with each asterisk representing a student and each group of two asterisks representing a table\n",
    "<pre>\n",
    "    FRONT OF ROOM\n",
    "    1   2   3   4                \n",
    "  1 **  **  **  ** \n",
    "  2 **  **  **  ** \n",
    "  3 **  **  **  ** \n",
    "  4 **  **  **  **\n",
    "</pre>\n",
    "\n",
    "Guiding principles of an individual's happiness with their seat:\n",
    "* Happiness increases the closer you are to your friends\n",
    "* Happiness also increases the further you are from people you DON'T want to sit by\n",
    "\n",
    "* In addition, happiness gets a big bump up if you are at the same TABLE as one of your friends\n",
    "* Happiness takes a big hit DOWN if you are at the same table with someone you DON'T want to sit by\n",
    "\n",
    "\n",
    "#### Let's quantify this happiness formula (this will form the basis for our objective function for evaluating a seating chart)\n",
    "\n",
    "$d =$ *the Euclidian distance from one student to another*\n",
    "\n",
    "$d_f =$ *Euclidian distance to a friend*\n",
    "\n",
    "$d_e =$ *Euclidian distance to an enemy*\n",
    "\n",
    "\n",
    "\n",
    "Ignoring table assignment, assume the chart is an 8x8 grid, so the closest you can be to anyone is 1 away, and the furthest is $\\sqrt{7^2 + 3^2}$ for students at opposite corners of the room.\n",
    "\n",
    "$ g =   \\left\\{\n",
    "\\begin{array}{ll}\n",
    "      5, withFriend \\\\\n",
    "      -5, withEnemy \\\\\n",
    "      0, withNeither \\\\   \n",
    "\\end{array} \n",
    "\\right.  $\n",
    "    \n",
    "    Sitting at the same table group as a friend gives an additional bump UP in happiness.\n",
    "   \n",
    "    Sitting at a table with someone you DON'T like like gives a bump DOWN in happiness\n",
    "    \n",
    "$ happiness_i = g + \\sum_{f\\in friends} \\frac{4}{d_f^2} - \\sum_{e\\in enemies} \\frac{3}{d_e^2} $\n",
    "    \n",
    "For the above seating chart, there are $32!$ possible seating charts.  That is 32 factorial.\n",
    "\n",
    "For the 32 kids above, that would be: 2.6313084e+35 possible combinations, or:\n",
    "\n",
    "263,130,840,000,000,000,000,000,000,000,000,000\n",
    "\n",
    "Thats more nanoseconds than have elapsed since the start of the universe.  By a LOT.\n",
    "\n",
    "\n",
    "\n",
    "\n"
   ]
  },
  {
   "cell_type": "markdown",
   "metadata": {
    "collapsed": false
   },
   "source": [
    "#### A sample seating chart with 8 students 2 rows of 2 tables\n",
    "\n",
    "Your class should  should be able to take in a file with the following format:\n",
    "<pre>\n",
    "4 4\n",
    "\n",
    "Jonathan\n",
    "Melissa\n",
    "Richard\n",
    "Kaitlyn\n",
    "LaCroix\n",
    "Brita\n",
    "Milwaukee\n",
    "Roughgarden\n",
    "\n",
    "Jonathan: Melissa,Kaitlyn,Roughgarden\n",
    "Kaitlyn:\n",
    "Melissa: Richard\n",
    "Richard: Melissa\n",
    "LaCroix: Brita\n",
    "Brita: Lacroix\n",
    "Milwaukee: Jonathan,Richard\n",
    "Roughgarden: LaCroix,Brita\n",
    "\n",
    "Roughgarden: Milwaukee,Jonathan,Kaitlyn\n",
    "Brita: Roughgarden\n",
    "</pre>\n",
    "\n",
    "In the above file stucture, the first line represents the numbers of rows and columns.  In this example, 4 rows of 4 columns each.  This means there are 2 tables in each row.  The columns will always be a multiple of 2, because 2 can sit at a table.\n",
    "\n",
    "The second block are all the names of students.\n",
    "\n",
    "The third block indicates friends.  So Jonathan would like to sit by Melissa, Kaitlyn or Roughgarden.  This does not necessarily go both ways, though, NOTE: Kaitlyn does not list Jonathan as a \"Friend\"\n",
    "\n",
    "The last block represents the \"Enemies.\"  For example, Roughgarden has listed 3 enemies he would NOT like to sit by.\n",
    "\n",
    "In row 1, students 1 and 2 share a table and student 3 and 4 share a table.\n"
   ]
  },
  {
   "cell_type": "markdown",
   "metadata": {
    "collapsed": false
   },
   "source": [
    "### Day 1,  Part 1:  Seating Chart Class\n",
    "\n",
    "Write a SeatingChart class which can be used to create a seating chart and get information about that seating chart.\n",
    "\n",
    "Your SeatingChart class should take in the number of rows and number of columns in the seating chart and include all the methods shown in the structure below.\n",
    "\n",
    "The __init__ method has been defined for you.  You need to complete any methods are not implemented."
   ]
  },
  {
   "cell_type": "code",
   "execution_count": 9,
   "metadata": {
    "collapsed": false
   },
   "outputs": [
    {
     "name": "stdout",
     "output_type": "stream",
     "text": [
      "[[None, None, None], [None, None, None], [None, None, None], [None, None, None], [None, None, None]]\n"
     ]
    }
   ],
   "source": [
    "columns = 3\n",
    "rows = 5\n",
    "l = [[None]*columns for i in range(rows)]\n",
    "# l[0].append(3)\n",
    "print(l)"
   ]
  },
  {
   "cell_type": "code",
   "execution_count": 3,
   "metadata": {
    "collapsed": false
   },
   "outputs": [
    {
     "name": "stdout",
     "output_type": "stream",
     "text": [
      "2.23606797749979\n"
     ]
    }
   ],
   "source": [
    "seats = {'a': [1, 1], 'b': [2, 3]}\n",
    "\n",
    "print(((seats['a'][0]-seats['b'][0])**2+(seats['a'][1]-seats['b'][1])**2)**0.5)"
   ]
  },
  {
   "cell_type": "code",
   "execution_count": 8,
   "metadata": {
    "collapsed": false
   },
   "outputs": [
    {
     "name": "stdout",
     "output_type": "stream",
     "text": [
      "1\n"
     ]
    }
   ],
   "source": [
    "class tester:\n",
    "    def __init__(self, x, y):\n",
    "        self.x = x\n",
    "        self.y = y\n",
    "        self.d = dict()\n",
    "        \n",
    "    def starter(self):\n",
    "        self.__init__(1, 2)\n",
    "        \n",
    "        \n",
    "        \n",
    "        \n",
    "c = tester(3, 4)\n",
    "c.starter()\n",
    "print(c.x)"
   ]
  },
  {
   "cell_type": "code",
   "execution_count": 54,
   "metadata": {
    "collapsed": false
   },
   "outputs": [
   ],
   "source": [
    "class SeatingChart:\n",
    "    '''a class for holding data about a class seating chart'''\n",
    "    \n",
    "    def __init__(self, rows, columns):\n",
    "        # this dictionary tells you exactly where each student is sitting\n",
    "        # key: student\n",
    "        # value: tuple of seat location (0,0) is front left\n",
    "        self.seats = dict()\n",
    "        \n",
    "        # this lists the friends for each student\n",
    "        # key: student\n",
    "        # value: list of friends\n",
    "        self.friends = dict()\n",
    "        \n",
    "        # this lists the enemies for each\n",
    "        # key: student\n",
    "        # value: list of enemies\n",
    "        self.enemies = dict()\n",
    "        \n",
    "        # this is a list of list to be able to return who is sitting in which seat\n",
    "        # for example locations[0][2] = \"Matt\" indicates that \n",
    "        # Matt is in row zero (ie front row), seat index #2 \n",
    "        self.locations = [[None]*columns for i in range(rows)]\n",
    "        self.size = (rows, columns)\n",
    "#         self.score = None\n",
    "        \n",
    "    def getRows(self):\n",
    "        return self.size[0]\n",
    "    \n",
    "    def getColumns(self):\n",
    "        return self.size[1]\n",
    "    \n",
    "    def place_student(self, student, row, column):\n",
    "        # add a student to the seating chart\n",
    "        # add them to the seats dictionary\n",
    "        # add them to the locations dictionary\n",
    "        # if it is outside the valid rows / columns, do nothing\n",
    "        if row > self.size[0] or column > self.size[1]:\n",
    "            self.seats[student] = (row-1, column-1)\n",
    "            self.locations[row-1][column-1] = student\n",
    "        \n",
    "    def add_friend(self, student, friend):\n",
    "        # add a friend to the friend dictionary for that student\n",
    "        self.friends.setdefault(student, []).append(friend)\n",
    "        \n",
    "    def add_enemy(self, student, enemy):\n",
    "        # add an enemy to the enemy dictionary for that student\n",
    "        self.enemies.setdefault(student, []).append(enemy)\n",
    "        \n",
    "    def get_distance(self, studenta, studentb):\n",
    "        # find and return the Euclidian Distrance between studenta and studentb\n",
    "        return ((self.seats[studenta][0]-self.seats[studentb][0])**2+(self.seats[studenta][1]-self.seats[studentb][1])**2)**0.5\n",
    "    \n",
    "    def friend_score(self, student):\n",
    "        # return a students friends score (described in instructions)\n",
    "        score = 0\n",
    "        for friend in self.friends[student]:\n",
    "            score += (4/(self.get_distance(student, friend)**2))\n",
    "        return score\n",
    "    \n",
    "    def enemy_score(self, student):\n",
    "        # return a students enemy score (described in instructions)\n",
    "        score = 0\n",
    "        for enemy in self.enemies[student]:\n",
    "            score += (3/(self.get_distance(student, enemy)**2))\n",
    "        return score\n",
    "    \n",
    "    def group_score(self,student):\n",
    "        # returns the group score for a given student (defined as g in formula above)\n",
    "        if self.seats[student][1] % 2:\n",
    "            ind_change = -1\n",
    "        else:\n",
    "            ind_change = 1\n",
    "        if self.locations[self.seats[student][0]][self.seats[student][1]+ind_change] in self.friends[student]:\n",
    "            return 5\n",
    "        elif self.locations[self.seats[student][0]][self.seats[student][1]+ind_change] in self.enemies[student]:\n",
    "            return -5\n",
    "        else:\n",
    "            return 0\n",
    "    \n",
    "    def total_score(self):\n",
    "        # returns the total score for the seating chart as it is currently configured\n",
    "        self.score = 0\n",
    "        for student in self.seats:\n",
    "            self.score += (self.group_score(student)+self.friend_score(student)-self.enemy_score(student))\n",
    "        return self.score\n",
    "    \n",
    "    def load_file(self,filename):\n",
    "        '''loads data from a file into the seating chart\n",
    "        the file should OVERWRITE any data that is already \n",
    "        in the seating chart including row/column'''\n",
    "        with open(filename) as file:\n",
    "            size_ = next(file)\n",
    "            next(file)\n",
    "            rows, columns = int(size_.split()[0]), int(size_.split()[1])\n",
    "            self.__init__(rows, columns)\n",
    "            # adding the names/locations\n",
    "            for row in range(rows):\n",
    "                for column in range(columns):\n",
    "                    name = file.readline().strip()\n",
    "                    self.seats[name] = (row, column)\n",
    "                    self.locations[row][column] = name\n",
    "            # adding friends/enemies\n",
    "            dicts = [self.friends, self.enemies]\n",
    "            for d in dicts:\n",
    "                next(file)\n",
    "                for i in range(rows*columns):\n",
    "                    line = file.readline().strip().split(':')\n",
    "                    d[line[0]] = list(set(line[1].strip().split(',')))  # cleaning the friend lists up\n",
    "                    if not d[line[0]][0]:  # if the only thing in there is an empty string\n",
    "                        d[line[0]] = []\n",
    "    \n",
    "        # implement on DAY 2\n",
    "        def get_students(self):\n",
    "            '''this method returns a list of the students in the class'''\n",
    "            pass\n",
    "\n",
    "\n",
    "        def export_chart(self, filename):\n",
    "            # exports the chart in it's current state to a file with the name \n",
    "            # filename_<score_of_chart_rounded_to_integer>.txt\n",
    "            # should be same file format as test inputs\n",
    "            pass\n",
    "\n",
    "        def print_chart(self, show_friends = True):\n",
    "            '''this prints the seating chart in a human readable format \n",
    "            so students would know where to sit\n",
    "            if show_friends == True, students who are sitting with a Friend are in ALL CAPS\n",
    "            and students seated with an enemy are in (parentheses) and lower case\n",
    "            example:\n",
    "            WENDY Ursula    |  TYLER Wayne \n",
    "            Viola Stewart   |  Yvonne (steven) \n",
    "            Yolanda Tammy   |  Xavier Veronica \n",
    "            Theodore Tim    |  Wallace Tabitha \n",
    "            '''\n",
    "            pass\n",
    "\n",
    "        def swap_students(self, a, b):\n",
    "            '''swaps student a with student b in the seating chart\n",
    "            updating all impacted lists and dictionaries\n",
    "            make use of existing methods where possible\n",
    "            '''\n",
    "            pass\n",
    "    \n",
    "    \n",
    "    "
   ]
  },
  {
   "cell_type": "code",
   "execution_count": 55,
   "metadata": {
    "collapsed": false
   },
   "outputs": [
   ],
   "source": [
    "with open('4_by_8.txt') as file:\n",
    "    size_ = next(file)\n",
    "    next(file)\n",
    "    rows, columns = int(size_.split()[0]), int(size_.split()[1])\n",
    "    for row in range(rows):\n",
    "        for column in range(columns):\n",
    "            line = file.readline().strip()\n",
    "#             print(line, row, column)\n",
    "    for x in range(2):\n",
    "        next(file)\n",
    "        for i in range(rows*columns):\n",
    "            line = file.readline().strip().split(':')\n",
    "#             print(line[0], list(set(line[1].strip().split(','))))"
   ]
  },
  {
   "cell_type": "markdown",
   "metadata": {
    "collapsed": false
   },
   "source": [
    "### Day 1, Part 2: Load a Seating Chart from a file\n",
    "\n",
    "After completing the load_file method, test this method to see that it is loading correctly\n"
   ]
  },
  {
   "cell_type": "code",
   "execution_count": 56,
   "metadata": {
    "collapsed": false
   },
   "outputs": [
    {
     "name": "stdout",
     "output_type": "stream",
     "text": [
      "[['Wendy', 'Ursula', 'Tyler', 'Wayne'], ['Viola', 'Stewart', 'Yvonne', 'Steven'], ['Yolanda', 'Tammy', 'Xavier', 'Veronica'], ['Theodore', 'Tim', 'Wallace', 'Tabitha']]\n"
     ]
    }
   ],
   "source": [
    "# test your file loading here\n",
    "\n",
    "filename = \"4_by_4.txt\"\n",
    "test_chart = SeatingChart(4,4)\n",
    "test_chart.load_file(filename)\n",
    "print(test_chart.locations)\n",
    "\n"
   ]
  },
  {
   "cell_type": "markdown",
   "metadata": {
    "collapsed": false
   },
   "source": [
    "### Day 1, Part 3: Score that Seating Chart\n",
    "\n",
    "Post your score for the seating chart samples"
   ]
  },
  {
   "cell_type": "code",
   "execution_count": 24,
   "metadata": {
    "collapsed": false
   },
   "outputs": [
    {
     "name": "stdout",
     "output_type": "stream",
     "text": [
      "9.05405982905983\n",
      "48.55491056589434\n",
      "58.172756573821104\n"
     ]
    }
   ],
   "source": [
    "# 3a load and print score of the 4x4 seating chart in the file 4_by_4.txt\n",
    "filename = \"4_by_4.txt\"\n",
    "test_chart1 = SeatingChart(4,4)\n",
    "test_chart1.load_file(filename)\n",
    "test_chart1.total_score()\n",
    "print(test_chart1.score)\n",
    "\n",
    "# 3b load and print score for the 4 x 8 seating chart in the file 4_by_8.txt\n",
    "filename = \"4_by_8.txt\"\n",
    "test_chart2 = SeatingChart(4,8)\n",
    "test_chart2.load_file(filename)\n",
    "test_chart2.total_score()\n",
    "print(test_chart2.score)\n",
    "\n",
    "\n",
    "\n",
    "# 3c load and print score for the 6 x 8 seating chart in the file 6_by_8.txt\n",
    "filename = \"6_by_8.txt\"\n",
    "test_chart3 = SeatingChart(6,8)\n",
    "test_chart3.load_file(filename)\n",
    "test_chart3.total_score()\n",
    "print(test_chart3.score)\n"
   ]
  },
  {
   "cell_type": "markdown",
   "metadata": {
    "collapsed": false
   },
   "source": [
    "### Day 2"
   ]
  },
  {
   "cell_type": "markdown",
   "metadata": {
    "collapsed": false
   },
   "source": [
    "### Day 2, Part 2: A Greedy 'Hill Climbing' Algorithm\n",
    "​\n",
    "One way to guarantee creating a better seating chart is to loop through every student in the class and swap them one at a time with other students to see if it improves the seating chart (using the total_score method).  If the chart improves, keep the swap, if it does not, undo the swap.  This approach is called \"Hill Climbing\" because you are always making choices that can only improve the score, but never make it lower.  This approach DOES NOT guarantee the BEST possible seating chart, however.\n",
    "​\n",
    "For Part 2: \n",
    "​\n",
    "1. Write code to loop through every student in order and swap them with every other student one at a time (This is $On^2$ but on a relatively small data set, this is not a problem)\n",
    "2. If this swap improves the score, keep the swap, if it does not, swap them back, and proceed with next swap\n",
    "3. Print the seating chart and score BEFORE making any changes.\n",
    "4. Print the seating chart and score again AFTER making all the improvement swaps.\n",
    "5. Test this loop on the 6_by_8.txt seating chart.\n"
   ]
  },
  {
   "cell_type": "code",
   "execution_count": 1,
   "metadata": {
    "collapsed": false
   },
   "outputs": [
   ],
   "source": [
    "class SeatingChart:\n",
    "    '''a class for holding data about a class seating chart'''\n",
    "    \n",
    "    def __init__(self, rows, columns):\n",
    "        # this dictionary tells you exactly where each student is sitting\n",
    "        # key: student\n",
    "        # value: tuple of seat location (0,0) is front left\n",
    "        self.seats = dict()\n",
    "        \n",
    "        # this lists the friends for each student\n",
    "        # key: student\n",
    "        # value: list of friends\n",
    "        self.friends = dict()\n",
    "        \n",
    "        # this lists the enemies for each\n",
    "        # key: student\n",
    "        # value: list of enemies\n",
    "        self.enemies = dict()\n",
    "        \n",
    "        # this is a list of list to be able to return who is sitting in which seat\n",
    "        # for example locations[0][2] = \"Matt\" indicates that \n",
    "        # Matt is in row zero (ie front row), seat index #2 \n",
    "        self.locations = [[None]*columns for i in range(rows)]\n",
    "        self.size = (rows, columns)\n",
    "        \n",
    "    def getRows(self):\n",
    "        return self.size[0]\n",
    "    \n",
    "    def getColumns(self):\n",
    "        return self.size[1]\n",
    "    \n",
    "    def place_student(self, student, row, column):\n",
    "        # add a student to the seating chart\n",
    "        # add them to the seats dictionary\n",
    "        # add them to the locations dictionary\n",
    "        # if it is outside the valid rows / columns, do nothing\n",
    "        if row-1 < self.size[0] and column-1 < self.size[1]:\n",
    "            self.seats[student] = (row, column)\n",
    "            self.locations[row][column] = student\n",
    "        else:\n",
    "            print('issue', student, row, column, self.size)\n",
    "        \n",
    "    def add_friend(self, student, friend):\n",
    "        # add a friend to the friend dictionary for that student\n",
    "        self.friends.setdefault(student, []).append(friend)\n",
    "        \n",
    "    def add_enemy(self, student, enemy):\n",
    "        # add an enemy to the enemy dictionary for that student\n",
    "        self.enemies.setdefault(student, []).append(enemy)\n",
    "        \n",
    "    def get_distance(self, studenta, studentb):\n",
    "        # find and return the Euclidian Distrance between studenta and studentb\n",
    "        return ((self.seats[studenta][0]-self.seats[studentb][0])**2+(self.seats[studenta][1]-self.seats[studentb][1])**2)**0.5\n",
    "    \n",
    "    def friend_score(self, student):\n",
    "        # return a students friends score (described in instructions)\n",
    "        score = 0\n",
    "        for friend in self.friends[student]:\n",
    "            score += (4/(self.get_distance(student, friend)**2))\n",
    "        return score\n",
    "    \n",
    "    def enemy_score(self, student):\n",
    "        # return a students enemy score (described in instructions)\n",
    "        score = 0\n",
    "        for enemy in self.enemies[student]:\n",
    "            score += (3/(self.get_distance(student, enemy)**2))\n",
    "        return score\n",
    "    \n",
    "    def group_score(self,student):\n",
    "        # returns the group score for a given student (defined as g in formula above)\n",
    "        if self.seats[student][1] % 2:\n",
    "            ind_change = -1\n",
    "        else:\n",
    "            ind_change = 1\n",
    "        if self.locations[self.seats[student][0]][self.seats[student][1]+ind_change] in self.friends[student]:\n",
    "            return 5\n",
    "        elif self.locations[self.seats[student][0]][self.seats[student][1]+ind_change] in self.enemies[student]:\n",
    "            return -5\n",
    "        else:\n",
    "            return 0\n",
    "    \n",
    "    def total_score(self):\n",
    "        # returns the total score for the seating chart as it is currently configured\n",
    "        self.score = 0\n",
    "        for student in self.seats:\n",
    "            self.score += (self.group_score(student)+self.friend_score(student)-self.enemy_score(student))\n",
    "        return self.score\n",
    "    \n",
    "    def load_file(self,filename):\n",
    "        '''loads data from a file into the seating chart\n",
    "        the file should OVERWRITE any data that is already \n",
    "        in the seating chart including row/column'''\n",
    "        with open(filename) as file:\n",
    "            size_ = next(file)\n",
    "            next(file)\n",
    "            rows, columns = int(size_.split()[0]), int(size_.split()[1])\n",
    "            self.__init__(rows, columns)\n",
    "            # adding the names/locations\n",
    "            for row in range(rows):\n",
    "                for column in range(columns):\n",
    "                    name = file.readline().strip()\n",
    "                    self.place_student(name, row, column)\n",
    "            # adding friends/enemies\n",
    "            dicts = [self.friends, self.enemies]\n",
    "            for d in dicts:\n",
    "                next(file)\n",
    "                for i in range(rows*columns):\n",
    "                    line = file.readline().strip().split(':')\n",
    "                    d[line[0]] = list(set(line[1].strip().split(',')))  # cleaning the friend lists up\n",
    "                    if not d[line[0]][0]:  # if the only thing in there is an empty string\n",
    "                        d[line[0]] = []\n",
    "    \n",
    "    # implement on DAY 2\n",
    "    def get_students(self):\n",
    "        '''this method returns a list of the students in the class'''\n",
    "        return list(self.seats.keys())\n",
    "\n",
    "    def export_chart(self, filename):\n",
    "        # exports the chart in it's current state to a file with the name \n",
    "        # filename_<score_of_chart_rounded_to_integer>.txt\n",
    "        # should be same file format as test inputs\n",
    "        score = str(int(self.total_score()))\n",
    "        with open(filename+score+'.txt', 'w') as file:\n",
    "            file.write(f'{self.size[0]} {self.size[1]}\\n\\n')\n",
    "            for row in range(self.size[0]):\n",
    "                for column in range(self.size[1]):\n",
    "                    file.write(f'{self.locations[row][column]}\\n')\n",
    "            dicts = [self.friends, self.enemies]\n",
    "            for d in dicts:\n",
    "                file.write('\\n\\n')\n",
    "                for i in range(self.size[0]*self.size[1]):\n",
    "                    if i != self.size[0]*self.size[1]-1:\n",
    "                        file.write(f'''{list(self.seats.keys())[i]}: {str(d[list(self.seats.keys())[i]]).replace(\"'\", '').replace(' ', '')[1:-1]}\\n''')\n",
    "                    else:\n",
    "                        file.write(f'''{list(self.seats.keys())[i]}: {str(d[list(self.seats.keys())[i]]).replace(\"'\", '').replace(' ', '')[1:-1]}''')\n",
    "\n",
    "    def print_chart(self, show_friends = True):\n",
    "        '''this prints the seating chart in a human readable format \n",
    "        so students would know where to sit\n",
    "        if show_friends == True, students who are sitting with a Friend are in ALL CAPS\n",
    "        and students seated with an enemy are in (parentheses) and lower case\n",
    "        example:\n",
    "        WENDY Ursula    |  TYLER Wayne \n",
    "        Viola Stewart   |  Yvonne (steven) \n",
    "        Yolanda Tammy   |  Xavier Veronica \n",
    "        Theodore Tim    |  Wallace Tabitha \n",
    "        '''\n",
    "        for row in range(self.size[0]):\n",
    "            for column in range(self.size[1]):\n",
    "                name = self.locations[row][column]\n",
    "                ending = '    '\n",
    "                dif = 1\n",
    "                if column % 2:\n",
    "                    if column < self.size[1]-1:\n",
    "                        ending = '  |  '\n",
    "                    dif = -1\n",
    "                if show_friends:\n",
    "                    if self.locations[row][column+dif] in self.friends[name]:\n",
    "                        name = name.upper()\n",
    "                    elif self.locations[row][column+dif] in self.enemies[name]:\n",
    "                        name = f'({name.lower()})'\n",
    "                print(name, end = ending)\n",
    "            print()\n",
    "\n",
    "    def swap_students(self, a, b):\n",
    "        '''swaps student a with student b in the seating chart\n",
    "        updating all impacted lists and dictionaries\n",
    "\n",
    "        make use of existing methods where possible\n",
    "        '''\n",
    "        a = (a, self.seats[a][0], self.seats[a][1])\n",
    "        b = (b, self.seats[b][0], self.seats[b][1])\n",
    "        \n",
    "        self.place_student(a[0], b[1], b[2])\n",
    "        self.place_student(b[0], a[1], a[2])\n",
    "    \n",
    "    def hill_improve(self):\n",
    "        students = self.get_students()\n",
    "        for a in students:\n",
    "            for b in students:\n",
    "                base = self.total_score()\n",
    "                self.swap_students(a, b)\n",
    "                new = self.total_score()\n",
    "                if base > new:\n",
    "                    self.swap_students(a, b)\n",
    "## this stuff was me trying to make it faster\n",
    "#         for a in range(len(self.seats)-1):\n",
    "#             for b in range(a+1, len(self.seats)):\n",
    "#                 base = self.total_score()\n",
    "#                 self.swap_students(list(self.seats.keys())[a], list(self.seats.keys())[b])\n",
    "#                 new = self.total_score()\n",
    "#                 if base > new:\n",
    "#                     self.swap_students(list(self.seats.keys())[a], list(self.seats.keys())[b])\n",
    "    "
   ]
  },
  {
   "cell_type": "code",
   "execution_count": 5,
   "metadata": {
    "collapsed": false,
    "scrolled": true
   },
   "outputs": [
    {
     "data": {
      "text/plain": [
       "91.90790598290599"
      ]
     },
     "execution_count": 5,
     "metadata": {
     },
     "output_type": "execute_result"
    }
   ],
   "source": [
    "filename = \"4_by_4.txt\"\n",
    "test_chart = SeatingChart(4,4)\n",
    "test_chart.load_file(filename)\n",
    "# print(test_chart.locations)\n",
    "test_chart.hill_improve()\n",
    "test_chart.total_score()\n",
    "# test_chart.print_chart()"
   ]
  },
  {
   "cell_type": "code",
   "execution_count": 5,
   "metadata": {
    "collapsed": false
   },
   "outputs": [
   ],
   "source": [
    "test_chart.export_chart('test')"
   ]
  },
  {
   "cell_type": "markdown",
   "metadata": {
    "collapsed": false
   },
   "source": [
    "## Day 3"
   ]
  },
  {
   "cell_type": "markdown",
   "metadata": {
    "collapsed": false
   },
   "source": [
    "### Day 3, Part 1: A Genetic Algorithm\n",
    "​\n",
    "Add the following three new methods to the SeatingChart class.  \n",
    "​\n",
    "```python\n",
    "​\n",
    "    def random_duplicate(self):\n",
    "        '''returns an instance of a seatingchart that \n",
    "        is a randomized seating assignment based on the students in self\n",
    "        with same friends and enemies but students in random seats'''\n",
    "        pass\n",
    "        \n",
    "    def copy(self):\n",
    "        '''returns an exact duplicate of the chart'''\n",
    "        # be careful that it is a copy and not a pointer to the same instance\n",
    "        pass\n",
    "        \n",
    "    \n",
    "    def mutate(self):\n",
    "        '''mutates the self seating chart by\n",
    "        randomly selecting between 0 and 25% of students to move\n",
    "        by 0, 1 or 2 rows and by 0, 1 or 2 positions left or right.\n",
    "        if chosen to move, there is a 50% chance of moving 1 row/column \n",
    "        and a 25% chance of moving 0 or 2 row/columns\n",
    "        a \"move\" consists of a swap with the person sitting in that other other position\n",
    "        if the move is outside the possible row/cols, then ignore that swap'''\n",
    "        pass\n",
    "```         \n"
   ]
  },
  {
   "cell_type": "code",
   "execution_count": 52,
   "metadata": {
    "collapsed": false
   },
   "outputs": [
   ],
   "source": [
    "import copy\n",
    "import random\n",
    "\n",
    "class SeatingChart:\n",
    "    '''a class for holding data about a class seating chart'''\n",
    "    \n",
    "    def __init__(self, rows, columns):\n",
    "        # this dictionary tells you exactly where each student is sitting\n",
    "        # key: student\n",
    "        # value: tuple of seat location (0,0) is front left\n",
    "        self.seats = dict()\n",
    "        \n",
    "        # this lists the friends for each student\n",
    "        # key: student\n",
    "        # value: list of friends\n",
    "        self.friends = dict()\n",
    "        \n",
    "        # this lists the enemies for each\n",
    "        # key: student\n",
    "        # value: list of enemies\n",
    "        self.enemies = dict()\n",
    "        \n",
    "        # this is a list of list to be able to return who is sitting in which seat\n",
    "        # for example locations[0][2] = \"Matt\" indicates that \n",
    "        # Matt is in row zero (ie front row), seat index #2 \n",
    "        self.locations = [[None]*columns for i in range(rows)]\n",
    "        self.size = (rows, columns)\n",
    "        \n",
    "    def getRows(self):\n",
    "        return self.size[0]\n",
    "    \n",
    "    def getColumns(self):\n",
    "        return self.size[1]\n",
    "    \n",
    "    def place_student(self, student, row, column):\n",
    "        # add a student to the seating chart\n",
    "        # add them to the seats dictionary\n",
    "        # add them to the locations dictionary\n",
    "        # if it is outside the valid rows / columns, do nothing\n",
    "        if row-1 < self.size[0] and column-1 < self.size[1]:\n",
    "            self.seats[student] = (row, column)\n",
    "            self.locations[row][column] = student\n",
    "        else:\n",
    "            print('issue', student, row, column, self.size)\n",
    "        \n",
    "    def add_friend(self, student, friend):\n",
    "        # add a friend to the friend dictionary for that student\n",
    "        self.friends.setdefault(student, []).append(friend)\n",
    "        \n",
    "    def add_enemy(self, student, enemy):\n",
    "        # add an enemy to the enemy dictionary for that student\n",
    "        self.enemies.setdefault(student, []).append(enemy)\n",
    "        \n",
    "    def get_distance(self, studenta, studentb):\n",
    "        # find and return the Euclidian Distrance between studenta and studentb\n",
    "        return ((self.seats[studenta][0]-self.seats[studentb][0])**2+(self.seats[studenta][1]-self.seats[studentb][1])**2)**0.5\n",
    "    \n",
    "    def friend_score(self, student):\n",
    "        # return a students friends score (described in instructions)\n",
    "        score = 0\n",
    "        for friend in self.friends[student]:\n",
    "            score += (4/(self.get_distance(student, friend)**2))\n",
    "        return score\n",
    "    \n",
    "    def enemy_score(self, student):\n",
    "        # return a students enemy score (described in instructions)\n",
    "        score = 0\n",
    "        for enemy in self.enemies[student]:\n",
    "            score += (3/(self.get_distance(student, enemy)**2))\n",
    "        return score\n",
    "    \n",
    "    def group_score(self,student):\n",
    "        # returns the group score for a given student (defined as g in formula above)\n",
    "        if self.seats[student][1] % 2:\n",
    "            ind_change = -1\n",
    "        else:\n",
    "            ind_change = 1\n",
    "        if self.locations[self.seats[student][0]][self.seats[student][1]+ind_change] in self.friends[student]:\n",
    "            return 5\n",
    "        elif self.locations[self.seats[student][0]][self.seats[student][1]+ind_change] in self.enemies[student]:\n",
    "            return -5\n",
    "        else:\n",
    "            return 0\n",
    "    \n",
    "    def total_score(self):\n",
    "        # returns the total score for the seating chart as it is currently configured\n",
    "        self.score = 0\n",
    "        for student in self.seats:\n",
    "            self.score += (self.group_score(student)+self.friend_score(student)-self.enemy_score(student))\n",
    "        return self.score\n",
    "    \n",
    "    def load_file(self,filename):\n",
    "        '''loads data from a file into the seating chart\n",
    "        the file should OVERWRITE any data that is already \n",
    "        in the seating chart including row/column'''\n",
    "        with open(filename) as file:\n",
    "            size_ = next(file)\n",
    "            next(file)\n",
    "            rows, columns = int(size_.split()[0]), int(size_.split()[1])\n",
    "            self.__init__(rows, columns)\n",
    "            self.allstudents = []\n",
    "            # adding the names/locations\n",
    "            for row in range(rows):\n",
    "                for column in range(columns):\n",
    "                    name = file.readline().strip()\n",
    "                    self.place_student(name, row, column)\n",
    "            # adding friends/enemies\n",
    "            dicts = [self.friends, self.enemies]\n",
    "            for d in dicts:\n",
    "                next(file)\n",
    "                for i in range(rows*columns):\n",
    "                    line = file.readline().strip().split(':')\n",
    "                    d[line[0]] = list(set(line[1].strip().split(',')))  # cleaning the friend lists up\n",
    "                    if not d[line[0]][0]:  # if the only thing in there is an empty string\n",
    "                        d[line[0]] = []\n",
    "    \n",
    "    # implement on DAY 2\n",
    "    def get_students(self):\n",
    "        '''this method returns a list of the students in the class'''\n",
    "        return list(self.seats.keys())\n",
    "\n",
    "    def export_chart(self, filename):\n",
    "        # exports the chart in it's current state to a file with the name \n",
    "        # filename_<score_of_chart_rounded_to_integer>.txt\n",
    "        # should be same file format as test inputs\n",
    "        score = str(int(self.total_score()))\n",
    "        with open(filename+score+'.txt', 'w') as file:\n",
    "            file.write(f'{self.size[0]} {self.size[1]}\\n\\n')\n",
    "            for row in range(self.size[0]):\n",
    "                for column in range(self.size[1]):\n",
    "                    file.write(f'{self.locations[row][column]}\\n')\n",
    "            dicts = [self.friends, self.enemies]\n",
    "            for d in dicts:\n",
    "                file.write('\\n\\n')\n",
    "                for i in range(self.size[0]*self.size[1]):\n",
    "                    if i != self.size[0]*self.size[1]-1:\n",
    "                        file.write(f'''{list(self.seats.keys())[i]}: {str(d[list(self.seats.keys())[i]]).replace(\"'\", '').replace(' ', '')[1:-1]}\\n''')\n",
    "                    else:\n",
    "                        file.write(f'''{list(self.seats.keys())[i]}: {str(d[list(self.seats.keys())[i]]).replace(\"'\", '').replace(' ', '')[1:-1]}''')\n",
    "\n",
    "    def print_chart(self, show_friends = True):\n",
    "        '''this prints the seating chart in a human readable format \n",
    "        so students would know where to sit\n",
    "        if show_friends == True, students who are sitting with a Friend are in ALL CAPS\n",
    "        and students seated with an enemy are in (parentheses) and lower case\n",
    "        example:\n",
    "        WENDY Ursula    |  TYLER Wayne \n",
    "        Viola Stewart   |  Yvonne (steven) \n",
    "        Yolanda Tammy   |  Xavier Veronica \n",
    "        Theodore Tim    |  Wallace Tabitha \n",
    "        '''\n",
    "        for row in range(self.size[0]):\n",
    "            for column in range(self.size[1]):\n",
    "                name = self.locations[row][column]\n",
    "                ending = '    '\n",
    "                dif = 1\n",
    "                if column % 2:\n",
    "                    if column < self.size[1]-1:\n",
    "                        ending = '  |  '\n",
    "                    dif = -1\n",
    "                if show_friends:\n",
    "                    if self.locations[row][column+dif] in self.friends[name]:\n",
    "                        name = name.upper()\n",
    "                    elif self.locations[row][column+dif] in self.enemies[name]:\n",
    "                        name = f'({name.lower()})'\n",
    "                print(name, end = ending)\n",
    "            print()\n",
    "\n",
    "    def swap_students(self, a, b):\n",
    "        '''swaps student a with student b in the seating chart\n",
    "        updating all impacted lists and dictionaries\n",
    "\n",
    "        make use of existing methods where possible\n",
    "        '''\n",
    "        a = (a, self.seats[a][0], self.seats[a][1])\n",
    "        b = (b, self.seats[b][0], self.seats[b][1])\n",
    "        \n",
    "        self.place_student(a[0], b[1], b[2])\n",
    "        self.place_student(b[0], a[1], a[2])\n",
    "    \n",
    "    def hill_improve(self):\n",
    "        students = self.get_students()\n",
    "        for a in students:\n",
    "            for b in students:\n",
    "                base = self.total_score()\n",
    "                self.swap_students(a, b)\n",
    "                new = self.total_score()\n",
    "                if base > new:\n",
    "                    self.swap_students(a, b)\n",
    "    \n",
    "    def random_duplicate(self):\n",
    "        '''returns an instance of a seatingchart that \n",
    "        is a randomized seating assignment based on the students in self\n",
    "        with same friends and enemies but students in random seats'''\n",
    "        r = self.copy()\n",
    "        allstudents = r.get_students()\n",
    "        random.shuffle(allstudents)\n",
    "        for row in range(r.size[0]):\n",
    "            for column in range(r.size[1]):\n",
    "                r.place_student(allstudents.pop(), row, column)\n",
    "\n",
    "        return r\n",
    "    \n",
    "    def copy(self):\n",
    "        '''returns an exact duplicate of the chart'''\n",
    "        # be careful that it is a copy and not a pointer to the same instance\n",
    "        return copy.deepcopy(self)\n",
    "    \n",
    "    def mutate(self):\n",
    "        '''mutates the self seating chart by\n",
    "        randomly selecting between 0 and 25% of students to move\n",
    "        by 0, 1 or 2 rows and by 0, 1 or 2 positions left or right.\n",
    "        if chosen to move, there is a 50% chance of moving 1 row/column \n",
    "        and a 25% chance of moving 0 or 2 row/columns\n",
    "        a \"move\" consists of a swap with the person sitting in that other other position\n",
    "        if the move is outside the possible row/cols, then ignore that swap'''\n",
    "        moves = [-2, -1, -1, 0, 0, 1, 1, 2, ]  # assuming this is the ratio seeked\n",
    "        for swapping in random.choices(self.get_students(), k=random.randint(0, int(self.size[0]*self.size[1]/4))):\n",
    "            a = (swapping, self.seats[swapping][0], self.seats[swapping][1])\n",
    "            try:\n",
    "                b = self.locations[a[1]+random.choice(moves)][a[2]+random.choice(moves)]\n",
    "                self.swap_students(a[0], b)\n",
    "            except IndexError:\n",
    "                pass"
   ]
  },
  {
   "cell_type": "code",
   "execution_count": 54,
   "metadata": {
    "collapsed": false
   },
   "outputs": [
    {
     "name": "stdout",
     "output_type": "stream",
     "text": [
      "Trish    TREVOR  |  Wendall    Zelda  |  TERESA    Wendy  |  Violet    Ted    \n",
      "Timothy    Tabitha  |  Yvette    Tammy  |  Tommy    Trina  |  Victor    Yvonne    \n",
      "Thelma    Ulysses  |  TAYLOR    Victoria  |  Wally    Thomas  |  Vanessa    Xavier    \n",
      "Ward    TRAVIS  |  Vicky    Tracy  |  Zoe    Wallace  |  William    Veronica    \n",
      "Trent    Ursula  |  Tanya    Tricia  |  Tim    Yancy  |  Tina    Todd    \n",
      "Tyler    Tony  |  Wayne    Wanda  |  Yolanda    Tom  |  Steven    Stewart    \n",
      "\n",
      "Vanessa    Trevor  |  TAYLOR    Zelda  |  Teresa    Tom  |  Violet    Trina    \n",
      "Timothy    Tabitha  |  Yvette    Tammy  |  Tommy    Ted  |  Victor    Yvonne    \n",
      "Thelma    Ulysses  |  Tim    Victoria  |  Wally    Thomas  |  Trish    Xavier    \n",
      "Ward    TRAVIS  |  Vicky    Tracy  |  Zoe    Wallace  |  William    Veronica    \n",
      "Trent    Ursula  |  Tanya    Tricia  |  Wendall    Yancy  |  Wendy    Todd    \n",
      "Tony    Tyler  |  Wayne    Wanda  |  Yolanda    Tina  |  Steven    Stewart    \n"
     ]
    }
   ],
   "source": [
    "filename = \"6_by_8.txt\"\n",
    "test_chart = SeatingChart(4,4)\n",
    "test_chart.load_file(filename)\n",
    "test_chart.print_chart()\n",
    "print()\n",
    "test_chart.mutate()\n",
    "test_chart.print_chart()"
   ]
  },
  {
   "cell_type": "markdown",
   "metadata": {
    "collapsed": false
   },
   "source": [
    "### Day 3, Part 2, The Genetic Algorithm\n",
    "​\n",
    "In this part, you'll use the concept of a Genetic Algorithm to \"EVOLVE\" a better schedule.  In the natural world, species evolve over a period of generations to adapt and be successful in their given environment.  This evolution occurs through a process of natural selection -- animals that are not well suited will die off, and those that are better suited for their environment thrive and pass on their genes to the next generation.\n",
    "​\n",
    "This same process can be used as an algorithm to \"evolve\" solutions to problems whenever you have an objective function to compare one solution to another, as we have with our Seating Chart total_score.\n",
    "​\n",
    "Here is how will implement this approach.\n",
    "​\n",
    "1. Create a \"population\" of randomly generated seating charts along with their score (say 50 or 60 instances created using the \"random_duplicate\" method.  This population of initial schedules make up Generation 1\n",
    "​\n",
    "LOOP THIS PART for n GENERATIONS:\n",
    "​\n",
    "2. Order all the seating charts in the generation from best to worst score.\n",
    "3. Eliminate the lowest scoring half of the seating chart and duplicate the best scoring half\n",
    "4. Save the current best schedule so it doesn't get lost.\n",
    "5. \"mutate\" every schedule in the population and update the score ... if the best score is lower than the saved best schedule then insert that schedule back into the population (you don't want the best schedule lost from the population)\n",
    "6. This is your new generation ... sort that generation and do it again for n generations .... \n",
    "​\n",
    "​\n",
    "With this process, your seating chart score should evolve with each generation.  This is not a \"fast\" algorithm, but it is an amazing way to approach some very complicated problems and you have a way to rank solutions with an objective function.\n",
    "​\n",
    "Once you get the above working, make sure you have some way of demonstrating or visualizing the \"evoluation\" of your schedule.  For example, you could print the new score whenever the evolution creates a new best schedule.  Or you could graph the best score in every generation using Matplotlib to give you an idea when you may be arriving at near the best schedule possible.\n",
    "​\n",
    "Also, print the score and the visual seating chart of your best schedule.  If it is VERY good, also save the seating chart to a file so we can compare best results."
   ]
  },
  {
   "cell_type": "code",
   "execution_count": 7,
   "metadata": {
    "collapsed": false
   },
   "outputs": [
   ],
   "source": [
    "import copy\n",
    "import random\n",
    "\n",
    "class SeatingChart:\n",
    "    '''a class for holding data about a class seating chart'''\n",
    "    \n",
    "    def __init__(self, rows, columns):\n",
    "        # this dictionary tells you exactly where each student is sitting\n",
    "        # key: student\n",
    "        # value: tuple of seat location (0,0) is front left\n",
    "        self.seats = dict()\n",
    "        \n",
    "        # this lists the friends for each student\n",
    "        # key: student\n",
    "        # value: list of friends\n",
    "        self.friends = dict()\n",
    "        \n",
    "        # this lists the enemies for each\n",
    "        # key: student\n",
    "        # value: list of enemies\n",
    "        self.enemies = dict()\n",
    "        \n",
    "        # this is a list of list to be able to return who is sitting in which seat\n",
    "        # for example locations[0][2] = \"Matt\" indicates that \n",
    "        # Matt is in row zero (ie front row), seat index #2 \n",
    "        self.locations = [[None]*columns for i in range(rows)]\n",
    "        self.size = (rows, columns)\n",
    "        \n",
    "    def getRows(self):\n",
    "        return self.size[0]\n",
    "    \n",
    "    def getColumns(self):\n",
    "        return self.size[1]\n",
    "    \n",
    "    def place_student(self, student, row, column):\n",
    "        # add a student to the seating chart\n",
    "        # add them to the seats dictionary\n",
    "        # add them to the locations dictionary\n",
    "        # if it is outside the valid rows / columns, do nothing\n",
    "        if row-1 < self.size[0] and column-1 < self.size[1]:\n",
    "            self.seats[student] = (row, column)\n",
    "            self.locations[row][column] = student\n",
    "        else:\n",
    "            print('issue', student, row, column, self.size)\n",
    "        \n",
    "    def add_friend(self, student, friend):\n",
    "        # add a friend to the friend dictionary for that student\n",
    "        self.friends.setdefault(student, []).append(friend)\n",
    "        \n",
    "    def add_enemy(self, student, enemy):\n",
    "        # add an enemy to the enemy dictionary for that student\n",
    "        self.enemies.setdefault(student, []).append(enemy)\n",
    "        \n",
    "    def get_distance(self, studenta, studentb):\n",
    "        # find and return the Euclidian Distrance between studenta and studentb\n",
    "        return ((self.seats[studenta][0]-self.seats[studentb][0])**2+(self.seats[studenta][1]-self.seats[studentb][1])**2)**0.5\n",
    "    \n",
    "    def friend_score(self, student):\n",
    "        # return a students friends score (described in instructions)\n",
    "        score = 0\n",
    "        for friend in self.friends[student]:\n",
    "            score += (4/(self.get_distance(student, friend)**2))\n",
    "        return score\n",
    "    \n",
    "    def enemy_score(self, student):\n",
    "        # return a students enemy score (described in instructions)\n",
    "        score = 0\n",
    "        for enemy in self.enemies[student]:\n",
    "            score += (3/(self.get_distance(student, enemy)**2))\n",
    "        return score\n",
    "    \n",
    "    def group_score(self,student):\n",
    "        # returns the group score for a given student (defined as g in formula above)\n",
    "        if self.seats[student][1] % 2:\n",
    "            ind_change = -1\n",
    "        else:\n",
    "            ind_change = 1\n",
    "        if self.locations[self.seats[student][0]][self.seats[student][1]+ind_change] in self.friends[student]:\n",
    "            return 5\n",
    "        elif self.locations[self.seats[student][0]][self.seats[student][1]+ind_change] in self.enemies[student]:\n",
    "            return -5\n",
    "        else:\n",
    "            return 0\n",
    "    \n",
    "    def total_score(self):\n",
    "        # returns the total score for the seating chart as it is currently configured\n",
    "        self.score = 0\n",
    "        for student in self.seats:\n",
    "            self.score += (self.group_score(student)+self.friend_score(student)-self.enemy_score(student))\n",
    "        return self.score\n",
    "    \n",
    "    def load_file(self,filename):\n",
    "        '''loads data from a file into the seating chart\n",
    "        the file should OVERWRITE any data that is already \n",
    "        in the seating chart including row/column'''\n",
    "        with open(filename) as file:\n",
    "            size_ = next(file)\n",
    "            next(file)\n",
    "            rows, columns = int(size_.split()[0]), int(size_.split()[1])\n",
    "            self.__init__(rows, columns)\n",
    "            self.allstudents = []\n",
    "            # adding the names/locations\n",
    "            for row in range(rows):\n",
    "                for column in range(columns):\n",
    "                    name = file.readline().strip()\n",
    "                    self.place_student(name, row, column)\n",
    "            # adding friends/enemies\n",
    "            dicts = [self.friends, self.enemies]\n",
    "            for d in dicts:\n",
    "                next(file)\n",
    "                for i in range(rows*columns):\n",
    "                    line = file.readline().strip().split(':')\n",
    "                    d[line[0]] = list(set(line[1].strip().split(',')))  # cleaning the friend lists up\n",
    "                    if not d[line[0]][0]:  # if the only thing in there is an empty string\n",
    "                        d[line[0]] = []\n",
    "    \n",
    "    # implement on DAY 2\n",
    "    def get_students(self):\n",
    "        '''this method returns a list of the students in the class'''\n",
    "        return list(self.seats.keys())\n",
    "\n",
    "    def export_chart(self, filename=None):\n",
    "        # exports the chart in it's current state to a file with the name \n",
    "        # filename_<score_of_chart_rounded_to_integer>.txt\n",
    "        # should be same file format as test inputs\n",
    "        score = str(int(self.total_score()))\n",
    "        with open(filename+score+'.txt', 'w') as file:\n",
    "            file.write(f'{self.size[0]} {self.size[1]}\\n\\n')\n",
    "            for row in range(self.size[0]):\n",
    "                for column in range(self.size[1]):\n",
    "                    if (row+1)*(column+1) < self.size[1]*self.size[0]:\n",
    "                        file.write(f'{self.locations[row][column]}\\n')\n",
    "                    else:\n",
    "                        file.write(f'{self.locations[row][column]}')\n",
    "            dicts = [self.friends, self.enemies]\n",
    "            for d in dicts:\n",
    "                file.write('\\n\\n')\n",
    "                for i in range(self.size[0]*self.size[1]):\n",
    "                    if i != self.size[0]*self.size[1]-1:\n",
    "                        file.write(f'''{list(self.seats.keys())[i]}: {str(d[list(self.seats.keys())[i]]).replace(\"'\", '').replace(' ', '')[1:-1]}\\n''')\n",
    "                    else:\n",
    "                        file.write(f'''{list(self.seats.keys())[i]}: {str(d[list(self.seats.keys())[i]]).replace(\"'\", '').replace(' ', '')[1:-1]}''')\n",
    "\n",
    "    def print_chart(self, show_friends = True):\n",
    "        '''this prints the seating chart in a human readable format \n",
    "        so students would know where to sit\n",
    "        if show_friends == True, students who are sitting with a Friend are in ALL CAPS\n",
    "        and students seated with an enemy are in (parentheses) and lower case\n",
    "        example:\n",
    "        WENDY Ursula    |  TYLER Wayne \n",
    "        Viola Stewart   |  Yvonne (steven) \n",
    "        Yolanda Tammy   |  Xavier Veronica \n",
    "        Theodore Tim    |  Wallace Tabitha \n",
    "        '''\n",
    "        for row in range(self.size[0]):\n",
    "            for column in range(self.size[1]):\n",
    "                name = self.locations[row][column]\n",
    "                ending = '    '\n",
    "                dif = 1\n",
    "                if column % 2:\n",
    "                    if column < self.size[1]-1:\n",
    "                        ending = '  |  '\n",
    "                    dif = -1\n",
    "                if show_friends:\n",
    "                    if self.locations[row][column+dif] in self.friends[name]:\n",
    "                        name = name.upper()\n",
    "                    elif self.locations[row][column+dif] in self.enemies[name]:\n",
    "                        name = f'({name.lower()})'\n",
    "                print(name, end = ending)\n",
    "            print()\n",
    "\n",
    "    def swap_students(self, a, b):\n",
    "        '''swaps student a with student b in the seating chart\n",
    "        updating all impacted lists and dictionaries\n",
    "\n",
    "        make use of existing methods where possible\n",
    "        '''\n",
    "        a = (a, self.seats[a][0], self.seats[a][1])\n",
    "        b = (b, self.seats[b][0], self.seats[b][1])\n",
    "        \n",
    "        self.place_student(a[0], b[1], b[2])\n",
    "        self.place_student(b[0], a[1], a[2])\n",
    "    \n",
    "    def hill_improve(self):\n",
    "        students = self.get_students()\n",
    "        for a in students:\n",
    "            for b in students:\n",
    "                base = self.total_score()\n",
    "                self.swap_students(a, b)\n",
    "                new = self.total_score()\n",
    "                if base > new:\n",
    "                    self.swap_students(a, b)\n",
    "    \n",
    "    def random_duplicate(self):\n",
    "        '''returns an instance of a seatingchart that \n",
    "        is a randomized seating assignment based on the students in self\n",
    "        with same friends and enemies but students in random seats'''\n",
    "        r = self.copy()\n",
    "        allstudents = r.get_students()\n",
    "        random.shuffle(allstudents)\n",
    "        for row in range(r.size[0]):\n",
    "            for column in range(r.size[1]):\n",
    "                r.place_student(allstudents.pop(), row, column)\n",
    "        return r\n",
    "    \n",
    "    def copy(self):\n",
    "        '''returns an exact duplicate of the chart'''\n",
    "        # be careful that it is a copy and not a pointer to the same instance\n",
    "        return copy.deepcopy(self)\n",
    "    \n",
    "    def mutate(self, rate=1, mutate=0):\n",
    "        '''mutates the self seating chart by\n",
    "        randomly selecting between 0 and 25% of students to move\n",
    "        by 0, 1 or 2 rows and by 0, 1 or 2 positions left or right.\n",
    "        if chosen to move, there is a 50% chance of moving 1 row/column \n",
    "        and a 25% chance of moving 0 or 2 row/columns\n",
    "        a \"move\" consists of a swap with the person sitting in that other other position\n",
    "        if the move is outside the possible row/cols, then ignore that swap'''\n",
    "        if rate <= 0.05:\n",
    "            rate = 0.05\n",
    "        moves = [-2, -1, -1, 0, 0, 1, 1, 2, ]  # assuming this is the ratio seeked\n",
    "        for swapping in random.choices(self.get_students(), k=random.randint(mutate, int(self.size[0]*self.size[1]/(4*rate)))):  # the lower the rate value, the more likely to mutate\n",
    "            a = (swapping, self.seats[swapping][0], self.seats[swapping][1])\n",
    "            try:\n",
    "                b = self.locations[a[1]+random.choice(moves)][a[2]+random.choice(moves)]\n",
    "                self.swap_students(a[0], b)\n",
    "            except IndexError:\n",
    "                pass\n",
    "            \n",
    "    def genetic(self, ps=55, gen_count=3000):\n",
    "        population_ = [self.random_duplicate() for i in range(ps)]\n",
    "        population = [(i.total_score(), i) for i in population_]\n",
    "        instab = 1\n",
    "        last = 0\n",
    "        \n",
    "        for i in range(gen_count):\n",
    "            cb = max(population, key=lambda i:i[0])\n",
    "            cb = (cb[0], cb[1].copy())\n",
    "            population += copy.deepcopy(population)\n",
    "            \n",
    "            if not i % 500 and i:\n",
    "                print('hilling bottom 10')\n",
    "                for bot in range(len(population)-11, len(population)):\n",
    "                    population[bot][1].hill_improve()\n",
    "                    population[bot] = (population[bot][1].total_score(), population[bot][1])\n",
    "            \n",
    "            for trial in range(len(population)):\n",
    "                population[trial][1].mutate(instab)\n",
    "                population[trial] = (population[trial][1].total_score(), population[trial][1])\n",
    "            population = sorted(population, key=lambda i:i[0], reverse=True)[:ps+int(ps*((gen_count-i)/gen_count))]\n",
    "            \n",
    "            if instab < 0.0065:  # about 250 generations without improvement\n",
    "                print(f'hilling, generation: {i}')\n",
    "                for top in range(len(population)//random.randint(2, 5)):  # hill climb\n",
    "                    population[top][1].hill_improve()\n",
    "                    population[top] = (population[top][1].total_score(), population[top][1])\n",
    "                mut = int(cb[1].size[0]*cb[1].size[1]/1.2)\n",
    "                print('hilling complete, extra mutation starting')\n",
    "                for bottom in range(top, len(population)):  # mutate at 100% chance\n",
    "                    population[bottom][1].mutate(instab, mut)\n",
    "                    r = random.randint(0, 1)\n",
    "                    if not r:\n",
    "                        population[bottom][1].hill_improve()\n",
    "                    population[bottom] = (population[bottom][1].total_score(), population[bottom][1])\n",
    "                print('extra mutation complete')\n",
    "                instab = 1\n",
    "            \n",
    "            if cb[0] >= population[0][0]:\n",
    "                population.append(cb)  # append to the end to save time, will be sorted on the next loop around\n",
    "                instab *= 0.9801\n",
    "            if cb[0] < population[0][0]:\n",
    "                print(population[0][0], cb, f\"{i}th gen, instab: {instab}\")\n",
    "                if instab*1.125 <= 1:\n",
    "                    instab *= 1.125\n",
    "                else:\n",
    "                    instab = 1\n",
    "\n",
    "           \n",
    "        for trial in range(len(population)):# one last hill improve before returning\n",
    "            population[trial][1].hill_improve()\n",
    "            population[trial] = (population[trial][1].total_score(), population[trial][1])\n",
    "            \n",
    "        return max(population, key=lambda i:i[0])\n"
   ]
  },
  {
   "cell_type": "code",
   "execution_count": 8,
   "metadata": {
    "collapsed": false,
    "scrolled": true
   },
   "outputs": [
    {
     "name": "stdout",
     "output_type": "stream",
     "text": [
      "91.05559082841361 (89.45995904643607, <__main__.SeatingChart object at 0x7fed83dce610>) 1th gen, instab: 0.9801\n"
     ]
    },
    {
     "name": "stdout",
     "output_type": "stream",
     "text": [
      "100.29512678220017 (91.05559082841361, <__main__.SeatingChart object at 0x7fed83f8a9a0>) 3th gen, instab: 0.9801\n"
     ]
    },
    {
     "name": "stdout",
     "output_type": "stream",
     "text": [
      "106.35724917918421 (100.29512678220017, <__main__.SeatingChart object at 0x7fedacae8f40>) 6th gen, instab: 0.96059601\n"
     ]
    },
    {
     "name": "stdout",
     "output_type": "stream",
     "text": [
      "107.92618091770234 (106.35724917918421, <__main__.SeatingChart object at 0x7fed84172fa0>) 11th gen, instab: 0.92274469442792\n"
     ]
    },
    {
     "name": "stdout",
     "output_type": "stream",
     "text": [
      "111.95330039182781 (107.92618091770234, <__main__.SeatingChart object at 0x7fedaa53adf0>) 14th gen, instab: 0.96059601\n"
     ]
    },
    {
     "name": "stdout",
     "output_type": "stream",
     "text": [
      "113.24035694849783 (111.95330039182781, <__main__.SeatingChart object at 0x7fed83e23850>) 16th gen, instab: 0.9801\n"
     ]
    },
    {
     "name": "stdout",
     "output_type": "stream",
     "text": [
      "116.61689144484473 (113.24035694849783, <__main__.SeatingChart object at 0x7fedacae89d0>) 18th gen, instab: 0.9801\n"
     ]
    },
    {
     "name": "stdout",
     "output_type": "stream",
     "text": [
      "117.94181397608362 (116.61689144484473, <__main__.SeatingChart object at 0x7fed83ea6520>) 20th gen, instab: 0.9801\n"
     ]
    },
    {
     "name": "stdout",
     "output_type": "stream",
     "text": [
      "124.82079500892597 (117.94181397608362, <__main__.SeatingChart object at 0x7fed83f9a8b0>) 22th gen, instab: 0.9801\n"
     ]
    },
    {
     "name": "stdout",
     "output_type": "stream",
     "text": [
      "125.69139701942596 (124.82079500892597, <__main__.SeatingChart object at 0x7fed83f63ac0>) 36th gen, instab: 0.7700431458051551\n"
     ]
    },
    {
     "name": "stdout",
     "output_type": "stream",
     "text": [
      "125.81091528399953 (125.69139701942596, <__main__.SeatingChart object at 0x7fed83ea6bb0>) 39th gen, instab: 0.8321629200618151\n",
      "125.85541000496484 (125.81091528399953, <__main__.SeatingChart object at 0x7fedacae8e20>) 40th gen, instab: 0.9361832850695421\n"
     ]
    },
    {
     "name": "stdout",
     "output_type": "stream",
     "text": [
      "134.18506045584462 (125.85541000496484, <__main__.SeatingChart object at 0x7fed84186f70>) 63th gen, instab: 0.6426116020847181\n"
     ]
    },
    {
     "name": "stdout",
     "output_type": "stream",
     "text": [
      "138.85604015453222 (134.18506045584462, <__main__.SeatingChart object at 0x7fed83f9a3d0>) 65th gen, instab: 0.7085515851036363\n"
     ]
    },
    {
     "name": "stdout",
     "output_type": "stream",
     "text": [
      "139.8089077365783 (138.85604015453222, <__main__.SeatingChart object at 0x7fed8404d370>) 68th gen, instab: 0.7657108037209445\n"
     ]
    },
    {
     "name": "stdout",
     "output_type": "stream",
     "text": [
      "145.07140842419057 (139.8089077365783, <__main__.SeatingChart object at 0x7fedacb7dc40>) 72th gen, instab: 0.8110142121207988\n"
     ]
    },
    {
     "name": "stdout",
     "output_type": "stream",
     "text": [
      "hilling, generation: 319\n"
     ]
    },
    {
     "name": "stdout",
     "output_type": "stream",
     "text": [
      "hilling complete, extra mutation starting\n"
     ]
    },
    {
     "name": "stdout",
     "output_type": "stream",
     "text": [
      "extra mutation complete\n",
      "218.99407858042903 (145.07140842419057, <__main__.SeatingChart object at 0x7fed841860a0>) 319th gen, instab: 1\n"
     ]
    },
    {
     "name": "stdout",
     "output_type": "stream",
     "text": [
      "hilling bottom 10\n"
     ]
    },
    {
     "name": "stdout",
     "output_type": "stream",
     "text": [
      "hilling, generation: 571\n"
     ]
    },
    {
     "name": "stdout",
     "output_type": "stream",
     "text": [
      "hilling complete, extra mutation starting\n"
     ]
    },
    {
     "name": "stdout",
     "output_type": "stream",
     "text": [
      "extra mutation complete\n"
     ]
    },
    {
     "name": "stdout",
     "output_type": "stream",
     "text": [
      "hilling, generation: 822\n"
     ]
    },
    {
     "name": "stdout",
     "output_type": "stream",
     "text": [
      "hilling complete, extra mutation starting\n"
     ]
    },
    {
     "name": "stdout",
     "output_type": "stream",
     "text": [
      "extra mutation complete\n"
     ]
    },
    {
     "name": "stdout",
     "output_type": "stream",
     "text": [
      "hilling bottom 10\n"
     ]
    },
    {
     "name": "stdout",
     "output_type": "stream",
     "text": [
      "hilling, generation: 1073\n"
     ]
    },
    {
     "name": "stdout",
     "output_type": "stream",
     "text": [
      "hilling complete, extra mutation starting\n"
     ]
    },
    {
     "name": "stdout",
     "output_type": "stream",
     "text": [
      "extra mutation complete\n"
     ]
    },
    {
     "name": "stdout",
     "output_type": "stream",
     "text": [
      "hilling, generation: 1324\n"
     ]
    },
    {
     "name": "stdout",
     "output_type": "stream",
     "text": [
      "hilling complete, extra mutation starting\n"
     ]
    },
    {
     "name": "stdout",
     "output_type": "stream",
     "text": [
      "extra mutation complete\n",
      "269.6208318696681 (263.8585897002479, <__main__.SeatingChart object at 0x7fed83dcee80>) 1324th gen, instab: 1\n"
     ]
    },
    {
     "name": "stdout",
     "output_type": "stream",
     "text": [
      "hilling bottom 10\n"
     ]
    },
    {
     "name": "stdout",
     "output_type": "stream",
     "text": [
      "hilling, generation: 1576\n"
     ]
    },
    {
     "name": "stdout",
     "output_type": "stream",
     "text": [
      "hilling complete, extra mutation starting\n"
     ]
    },
    {
     "name": "stdout",
     "output_type": "stream",
     "text": [
      "extra mutation complete\n"
     ]
    },
    {
     "name": "stdout",
     "output_type": "stream",
     "text": [
      "hilling, generation: 1827\n"
     ]
    },
    {
     "name": "stdout",
     "output_type": "stream",
     "text": [
      "hilling complete, extra mutation starting\n"
     ]
    },
    {
     "name": "stdout",
     "output_type": "stream",
     "text": [
      "extra mutation complete\n"
     ]
    },
    {
     "name": "stdout",
     "output_type": "stream",
     "text": [
      "(269.78962373845997, <__main__.SeatingChart object at 0x7fed83f8ad60>)\n"
     ]
    }
   ],
   "source": [
    "filename = \"6_by_8.txt\"\n",
    "test_chart = SeatingChart(4,4)\n",
    "test_chart.load_file(filename)\n",
    "a = test_chart.genetic(70, 2000)\n",
    "print(a)"
   ]
  },
  {
   "cell_type": "code",
   "execution_count": 9,
   "metadata": {
    "collapsed": false
   },
   "outputs": [
    {
     "name": "stdout",
     "output_type": "stream",
     "text": [
      "(269.78962373845997, <__main__.SeatingChart object at 0x7fed83f8ad60>) <__main__.SeatingChart object at 0x7fed83f8ad60> 269.78962373845997\n"
     ]
    }
   ],
   "source": [
    "print(a, a[1], a[1].total_score())"
   ]
  },
  {
   "cell_type": "code",
   "execution_count": 10,
   "metadata": {
    "collapsed": false
   },
   "outputs": [
    {
     "name": "stdout",
     "output_type": "stream",
     "text": [
      "269.78962373845997\n"
     ]
    }
   ],
   "source": [
    "a[1].hill_improve()\n",
    "print(a[1].total_score())"
   ]
  },
  {
   "cell_type": "code",
   "execution_count": 11,
   "metadata": {
    "collapsed": false
   },
   "outputs": [
    {
     "name": "stdout",
     "output_type": "stream",
     "text": [
      "[['Stewart', 'Wendall', 'Trent', 'Victoria', 'Tricia', 'Trish', 'Trevor', 'William'], ['Trina', 'Tyler', 'Thomas', 'Ward', 'Tracy', 'Tommy', 'Zoe', 'Timothy'], ['Tom', 'Tim', 'Violet', 'Travis', 'Tabitha', 'Tammy', 'Veronica', 'Yolanda'], ['Taylor', 'Zelda', 'Ursula', 'Ulysses', 'Yancy', 'Ted', 'Vicky', 'Xavier'], ['Wanda', 'Vanessa', 'Teresa', 'Wayne', 'Yvonne', 'Tony', 'Todd', 'Tina'], ['Wally', 'Wendy', 'Victor', 'Thelma', 'Tanya', 'Steven', 'Yvette', 'Wallace']]\n",
      "STEWART    Wendall  |  TRENT    Victoria  |  TRICIA    Trish  |  Trevor    William    \n",
      "Trina    TYLER  |  Thomas    WARD  |  TRACY    Tommy  |  ZOE    Timothy    \n",
      "TOM    Tim  |  Violet    TRAVIS  |  Tabitha    Tammy  |  Veronica    YOLANDA    \n",
      "TAYLOR    Zelda  |  Ursula    ULYSSES  |  YANCY    Ted  |  Vicky    XAVIER    \n",
      "Wanda    Vanessa  |  Teresa    WAYNE  |  YVONNE    Tony  |  Todd    Tina    \n",
      "Wally    WENDY  |  VICTOR    Thelma  |  Tanya    STEVEN  |  Yvette    WALLACE    \n",
      "(6, 8)\n"
     ]
    }
   ],
   "source": [
    "print(a[1].locations)\n",
    "a[1].print_chart()\n",
    "print(a[1].size)"
   ]
  },
  {
   "cell_type": "code",
   "execution_count": 12,
   "metadata": {
    "collapsed": false
   },
   "outputs": [
   ],
   "source": [
    "a[1].export_chart(f'genetic{a[1].size[0]}x{a[1].size[1]}_')"
   ]
  },
  {
   "cell_type": "code",
   "execution_count": 17,
   "metadata": {
    "collapsed": false
   },
   "outputs": [
    {
     "name": "stdout",
     "output_type": "stream",
     "text": [
      "(261.4479987696496, <__main__.SeatingChart object at 0x7f854cc343d0>)\n"
     ]
    }
   ],
   "source": [
    "print(a)"
   ]
  },
  {
   "cell_type": "code",
   "execution_count": 0,
   "metadata": {
    "collapsed": false
   },
   "outputs": [
   ],
   "source": [
   ]
  }
 ],
 "metadata": {
  "kernelspec": {
   "display_name": "Python 3 (system-wide)",
   "language": "python",
   "metadata": {
    "cocalc": {
     "description": "Python 3 programming language",
     "priority": 100,
     "url": "https://www.python.org/"
    }
   },
   "name": "python3",
   "resource_dir": "/ext/jupyter/kernels/python3"
  },
  "language_info": {
   "codemirror_mode": {
    "name": "ipython",
    "version": 3
   },
   "file_extension": ".py",
   "mimetype": "text/x-python",
   "name": "python",
   "nbconvert_exporter": "python",
   "pygments_lexer": "ipython3",
   "version": "3.8.5"
  }
 },
 "nbformat": 4,
 "nbformat_minor": 4
}