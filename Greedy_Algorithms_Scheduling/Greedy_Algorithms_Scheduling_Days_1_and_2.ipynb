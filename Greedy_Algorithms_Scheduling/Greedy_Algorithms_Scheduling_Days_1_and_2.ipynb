{
 "cells": [
  {
   "cell_type": "code",
   "execution_count": 0,
   "metadata": {
    "collapsed": false
   },
   "outputs": [
   ],
   "source": [
   ]
  },
  {
   "cell_type": "markdown",
   "metadata": {
    "collapsed": false
   },
   "source": [
    "### Intro to Greedy Algorithms\n",
    "* Assignment inspired from example in *Algorithms Illuminiated Volume 3* by Tim Roughgarden\n",
    "\n",
    "A greedy algorithm is an approach that constructs solutions by making a series of short-sighted decisions based on a \"rule\" and hoping this creates the best solution in the end.  We have already seen one such algorithm in Dijkstra's Single Source Shortest Path Algorithm, with the only rule being to add the node that creates the shortest path from the explored nodes to the unexplored.  This simple rule applied over and over until all nodes have been reached results in the correct result of the shortest path from a single node to every other node on the graph.\n",
    "\n",
    "While it may be easy to come up with a \"rule\" to implement, and it may be that this rule creates a good result, it is often the case the the rule will not necessarily produce the correct or BEST result.\n",
    "\n",
    "Proving that your rule produces the best result is often very difficult.\n",
    "\n",
    "#### Example 1: A simple Scheduling Problem\n",
    "\n",
    "Often, when things need to be sheduled, you have to prioritize which jobs or \"tasks\" to complete first.  This can be true when assigning a computer to do tasks in a certain order, but can also be used in your own life like doing homework or determining the best order for completing the tasks on a to-do list.\n",
    "\n",
    "The first step in the process is to determine an **objective function** which gives you a way to evaluate and compare different potential schedules.  To do this, we'll use two ideas:\n",
    "    1. Completion Time of a task\n",
    "    2. The Sum of Weighted Completion Times.\n",
    "    \n",
    "#### Calculating Completion Times\n",
    "Given a series of tasks of length 1, 2 and 3\n",
    "\n",
    "<table>\n",
    "    <tr>\n",
    "        <th>&nbsp;</th>\n",
    "        <th>Task1</th>\n",
    "        <th>Task2</th>\n",
    "        <th>Task3</th>\n",
    "    </tr>\n",
    "    <tr>\n",
    "        <td>Length</td>\n",
    "        <td>1</td>\n",
    "        <td>2</td>\n",
    "        <td>3</td>\n",
    "    </tr>\n",
    "    <tr>\n",
    "        <td>Completion Time</td>\n",
    "        <td>1</td>\n",
    "        <td>3</td>\n",
    "        <td>6</td>\n",
    "    </tr>\n",
    "</table>\n",
    "\n",
    "The completion time of a task is the time elapsed before the task is complete.  So, task 1 is complete after 1 minute, but task 2 must wait for task 1 to finish before it can start, so its completion time is 1 + 2 = 3 minutes.  Similarly, task 3 must wait for both 1 and 2 to finish, so its completion time is 1+2+3 = 6.  The sum of these completion times would be 10 minutes.  If you reversed the order however, your completion times would be 3, then 5 then 6, for a total of 14.  Clearly, scheduling the shortest tasks first makes for a better schedule.  \n",
    "\n",
    "Of course, some tasks are usually more important than others.  This can be determined by a weight or priority.  The higher the weight of the task, the more important it is.  In this case, the goal of a good schedule is to minimize the sum of the weighted completion times, or equivalently, minimizing the average weighted completion time.\n",
    "\n",
    "for example, given 3 tasks with completion times and weights:\n",
    "\n",
    "<table>\n",
    "    <tr>\n",
    "        <th>&nbsp;</th>\n",
    "        <th>Task1</th>\n",
    "        <th>Task2</th>\n",
    "        <th>Task3</th>\n",
    "    </tr>\n",
    "    <tr>\n",
    "        <td>Length</td>\n",
    "        <td>1</td>\n",
    "        <td>2</td>\n",
    "        <td>3</td>\n",
    "    </tr>\n",
    "    <tr>\n",
    "        <td>Weight</td>\n",
    "        <td>3</td>\n",
    "        <td>2</td>\n",
    "        <td>1</td>\n",
    "    </tr>\n",
    "        <tr>\n",
    "        <td>Completion Time</td>\n",
    "        <td>1</td>\n",
    "        <td>3</td>\n",
    "        <td>6</td>\n",
    "    </tr>\n",
    "        <tr>\n",
    "        <td>Weighted Completion time</td>\n",
    "        <td>3*1=3</td>\n",
    "        <td>2*3=6</td>\n",
    "        <td>1*6=6</td>\n",
    "    </tr>\n",
    "</table>\n",
    "\n",
    "So, the sum of the weighted completion times is 15.  Mathematically, this can be expressed as the minimum over all possible schedules **x** of the sum of the weighted completion times for all jobs, *j*, times the completion time $C_j(x)$ for all jobs in **x**.\n",
    "\n",
    "$min\\sum_{j=1}^{n} w_jC_j(x)$\n",
    "\n",
    "### Day 1, Excercise 1: Write a Function to return the weighted sum of completion times for a given schedule\n"
   ]
  },
  {
   "cell_type": "code",
   "execution_count": 17,
   "metadata": {
    "collapsed": false
   },
   "outputs": [
    {
     "name": "stdout",
     "output_type": "stream",
     "text": [
      "15\n",
      "31\n",
      "10431\n"
     ]
    }
   ],
   "source": [
    "# list of tasks in their order of completion\n",
    "# format of task tuples is (length, weight)\n",
    "tasks_1 = [(1,3),(2,2),(3,1)] # should return 15\n",
    "tasks_2 = [(3,1),(2,2),(1,3)] # should return 31\n",
    "\n",
    "# tasks 3 should return 10431\n",
    "tasks_3 = [(6, 6), (4, 3), (3, 4), (1, 3), (2, 7), (4, 5), (5, 5), (2, 5), (6, 10), (6, 10), (6, 2), (7, 9), (5, 9), (4, 3), (6, 8), (2, 6), (3, 8), (4, 5), (7, 4), (3, 2), (2, 6), (6, 4), (5, 1), (6, 6), (3, 7), (3, 5), (6, 2), (3, 2), (2, 7), (5, 9)]\n",
    "\n",
    "\n",
    "\n",
    "def weighted_sum(tasks):\n",
    "    '''\n",
    "    return the weighted sum of completion times for a given schedule\n",
    "    '''\n",
    "    tot = 0\n",
    "    s = 0\n",
    "    for task in tasks:\n",
    "        s += task[0]\n",
    "        tot += s*task[1]\n",
    "    return tot\n",
    "\n",
    "\n",
    "# test your function with the small samples above\n",
    "print(weighted_sum(tasks_1))\n",
    "print(weighted_sum(tasks_2))\n",
    "print(weighted_sum(tasks_3))"
   ]
  },
  {
   "cell_type": "markdown",
   "metadata": {
    "collapsed": false
   },
   "source": [
    "### Day 1, Exercise 2\n",
    "\n",
    "If the weights of all tasks were equal, which tasks should come first to decrease the sum of completion times?  Explain."
   ]
  },
  {
   "cell_type": "code",
   "execution_count": 18,
   "metadata": {
    "collapsed": false
   },
   "outputs": [
    {
     "data": {
      "text/plain": [
       "'\\nthe shortest in length because this way the later tasks will have a shorter base time(the time of completion) that will be multiplied by the weights overall as each time the the weights is multiplied by the completion time, by having the longest it means the weights will only have to multiply by the longest time once.\\n'"
      ]
     },
     "execution_count": 18,
     "metadata": {
     },
     "output_type": "execute_result"
    }
   ],
   "source": [
    "### your explanation here\n",
    "\"\"\"\n",
    "the shortest in length because this way the later tasks will have a shorter base time(the time of completion) that will be multiplied by the weights overall as each time the the weights is multiplied by the completion time, by having the longest it means the weights will only have to multiply by the longest time once.\n",
    "\"\"\""
   ]
  },
  {
   "cell_type": "markdown",
   "metadata": {
    "collapsed": false
   },
   "source": [
    "### Day 1 , Exercise 3\n",
    "\n",
    "If the lengths of all tasks were equal, which tasks should come first to decrease total weighted completion times? Explain."
   ]
  },
  {
   "cell_type": "code",
   "execution_count": 19,
   "metadata": {
    "collapsed": false
   },
   "outputs": [
    {
     "data": {
      "text/plain": [
       "\"\\nthe heaviest in weight because the longer the time already spent the more the heavier weights would be multiplied by, therefore putting the heaviest first ensures that they aren't multiplied by a long amount of time(time of completion) as the completion time at the start is the shortest.\\n\""
      ]
     },
     "execution_count": 19,
     "metadata": {
     },
     "output_type": "execute_result"
    }
   ],
   "source": [
    "### Your explanation here\n",
    "\"\"\"\n",
    "the heaviest in weight because the longer the time already spent the more the heavier weights would be multiplied by, therefore putting the heaviest first ensures that they aren't multiplied by a long amount of time(time of completion) as the completion time at the start is the shortest.\n",
    "\"\"\""
   ]
  },
  {
   "cell_type": "markdown",
   "metadata": {
    "collapsed": false
   },
   "source": [
    "### Day 1, Exercise 4a, GreedyDiff\n",
    "\n",
    "Given the answers to 2 and 3 above, it seems that shorter tasks should come earlier than longer tasks, and higher weighted tasks should come before lower weighted tasks (your explanations above should explain why).  This suggests a couple different Greedy Algorithm options for minimizing the sum of weighted completion times.\n",
    "\n",
    "4a. GreedyDiff -- This sorts the tasks in non-increasing order of the $weight - length$ of tasks.  So high weights of short length would come before low weights of high length.\n",
    "  \n",
    "### Day 1, Exercise 4b, GreedyRatio\n",
    "\n",
    "4b. GreedyRatio -- This schedules jobs in non-incrasing order of $\\frac{weight}{length}$ of tasks.  Those with a higher weight to length ratio would come before lower ratios.\n",
    "\n",
    "\n",
    "### Day 1, Exercise 4c, TEST each agains 2 test files, and indicate which seems better"
   ]
  },
  {
   "cell_type": "code",
   "execution_count": 20,
   "metadata": {
    "collapsed": false
   },
   "outputs": [
   ],
   "source": [
    "# NOTE: you may want to review how to sort using the key parameter in python\n",
    "# as explained here: https://wiki.python.org/moin/HowTo/Sorting\n",
    "\n",
    "# 4a\n",
    "def GreedyDiff(list_of_tasks):\n",
    "    '''Takes in a list of tuples of form (length, weight) representing tasks/jobs in order\n",
    "    returns the list sorted, in place, in non-increasing order of the difference between weight and length\n",
    "    ie, weight-length'''\n",
    "    return sorted(list_of_tasks, key=lambda task: task[0]-task[1])\n",
    "\n",
    "\n",
    "# 4b\n",
    "def GreedyRatio(list_of_tasks):\n",
    "    '''Takes in a list of tuples of form (length, weight) representing tasks/jobs in order\n",
    "    returns the list sorted, in place, in non-increasing order of the weight/length ratio'''\n",
    "    return sorted(list_of_tasks, key=lambda task: task[1]/task[0], reverse=True)\n",
    "\n"
   ]
  },
  {
   "cell_type": "code",
   "execution_count": 21,
   "metadata": {
    "collapsed": false
   },
   "outputs": [
    {
     "name": "stdout",
     "output_type": "stream",
     "text": [
      "69581\n",
      "67247\n",
      "69120882574\n",
      "67311454237\n"
     ]
    }
   ],
   "source": [
    "# 4c: Test your algorithms agains the two test files `weighted_jobs_12.txt` and `weighted_jobs_10000.txt`\n",
    "\n",
    "# test file  'weighted_jobs_12.txt' should return weighted sums of completion times \n",
    "# of 69581 and 67247 for the two Greedy Algorithms\n",
    "\n",
    "# the second test file is weighted_jobs_10000 with 10,000 tasks.\n",
    "# feel free to post your solutions to this test file the #general channel\n",
    "\n",
    "# note, the file format is different than the tuples above\n",
    "# file format is:\n",
    "'''\n",
    "num jobs\n",
    "weight length\n",
    "weight length\n",
    "...\n",
    "'''\n",
    "\n",
    "\n",
    "def read_file(filename):\n",
    "    tasks = []\n",
    "    with open(filename) as file:\n",
    "        next(file)\n",
    "        for task in file:\n",
    "            tasks.append((int(task.split()[1]), int(task.split()[0])))\n",
    "    return tasks\n",
    "\n",
    "\n",
    "# your testing goes here\n",
    "# decided not to bother with exec/eval because there is only 2 items here xD\n",
    "tasks1 = read_file('weighted_jobs_12.txt')\n",
    "print(weighted_sum(GreedyDiff(tasks1)))\n",
    "print(weighted_sum(GreedyRatio(tasks1)))\n",
    "tasks2 = read_file('weighted_jobs_10000.txt')\n",
    "print(weighted_sum(GreedyDiff(tasks2)))\n",
    "print(weighted_sum(GreedyRatio(tasks2)))"
   ]
  },
  {
   "cell_type": "markdown",
   "metadata": {
    "collapsed": false
   },
   "source": [
    "### Day 2, Creating your own Greedy Algorithm Rule\n",
    "\n",
    "You are given a list of $n$ jobs, each with processing time length $l_j$ and a deadline $d_j$.  Define the *lateness* $\\lambda$ (pronounced lambda) of a job $j$ in a schedule $\\sigma$ (sigma) to be the difference between the completion time (see Day 1 above for completion time definition) minus the deadline, ie, $C(\\sigma)-d_j$\n",
    "\n",
    "Your goal for Day 2 is to design a greedy algorithm rule to minimize the total lateness of the jobs.\n",
    "\n",
    "To guide your thinking, create small samples sets (maybe 2 tasks) to brainstorm candidates for \"Greedy\" Rules for your algorithm.  To prove correctness of your solution, consider an exchange argument as discussed in lecture and this [Tim Roughgarden Video](https://youtu.be/oyLxydVkQwo)\n",
    "\n",
    "\n",
    "#### Day 2, Exercise 1\n",
    "Write a function to determine the total lateness of a given schedule"
   ]
  },
  {
   "cell_type": "code",
   "execution_count": 4,
   "metadata": {
    "collapsed": false
   },
   "outputs": [
    {
     "data": {
      "text/plain": [
       "0"
      ]
     },
     "execution_count": 4,
     "metadata": {
     },
     "output_type": "execute_result"
    }
   ],
   "source": [
    "minus = lambda a, b: a-b if a>b else 0\n",
    "minus(5, 0)\n",
    "minus(0, 5)"
   ]
  },
  {
   "cell_type": "code",
   "execution_count": 1,
   "metadata": {
    "collapsed": false
   },
   "outputs": [
    {
     "data": {
      "text/plain": [
       "58"
      ]
     },
     "execution_count": 1,
     "metadata": {
     },
     "output_type": "execute_result"
    }
   ],
   "source": [
    "def lateness(list_of_tasks):\n",
    "    '''\n",
    "    given list_of_tasks as a list of tuples (length, deadline) where the length\n",
    "    is the processing time required for the task in minutes\n",
    "    and deadline is the time from the start, 0 when the task should be complete\n",
    "    lateness for any given task is defined as the difference between completion time and\n",
    "    the deadlin C-d.  If completion time is before the deadline, lateness\n",
    "    for that task should be 0, ie if C-d is negative, lateness = 0'''\n",
    "    late = 0\n",
    "    completion = 0\n",
    "    minus = lambda a, b: a-b if a>b else 0\n",
    "    for task in list_of_tasks:\n",
    "        completion += task[0]\n",
    "        late += minus(completion, task[1])\n",
    "    return late\n",
    "\n",
    "# tasks in form (length, deadline)\n",
    "tasks_3 = [(1,3),(2,3),(3,5),(4,5),(3,7),(1,4),(1,3),(2,7),(3,6)]\n",
    "\n",
    "lateness(tasks_3)\n",
    "            \n",
    "        \n",
    "        \n",
    "        "
   ]
  },
  {
   "cell_type": "code",
   "execution_count": 20,
   "metadata": {
    "collapsed": false
   },
   "outputs": [
    {
     "data": {
      "text/plain": [
       "336946"
      ]
     },
     "execution_count": 20,
     "metadata": {
     },
     "output_type": "execute_result"
    }
   ],
   "source": [
    "tasks_2 = [(72, 10), (46, 401), (13, 905), (57, 2713), (20, 8662), (3, 3673), (66, 3212), (25, 6273), (51, 8946), (28, 3990), (73, 5276), (11, 6516), (64, 811), (54, 2670), (45, 9620), (72, 9626), (29, 4870), (3, 8026), (23, 4981), (22, 6427), (20, 5560), (72, 2967), (53, 5050), (22, 4616), (25, 7518), (2, 1717), (64, 9063), (65, 7679), (9, 8413), (68, 8952), (33, 6844), (31, 6044), (63, 4675), (10, 7101), (12, 9242), (18, 7339), (62, 1110), (61, 2736), (68, 1447), (29, 1783), (14, 8027), (62, 8815), (43, 4355), (5, 6028), (25, 9981), (70, 4438), (67, 8173), (6, 900), (64, 9936), (59, 8188), (61, 6674), (41, 1593), (56, 5647), (46, 3443), (75, 890), (24, 5218), (70, 8925), (65, 873), (75, 4190), (40, 7461), (38, 1526), (1, 965), (44, 8947), (18, 1778), (67, 4816), (70, 1897), (22, 5841), (17, 1891), (20, 4838), (19, 3589), (1, 7101), (6, 6107), (47, 3365), (51, 806), (35, 5310), (67, 192), (39, 8689), (53, 2028), (60, 198), (33, 9530), (21, 8930), (71, 8847), (21, 5980), (11, 4609), (53, 738), (60, 5190), (73, 3116), (15, 4202), (47, 3431), (17, 1551), (29, 2189), (8, 4193), (18, 7816), (63, 9943), (8, 1545), (72, 3478), (42, 6560), (5, 7888), (73, 1245), (28, 9055), (60, 7165), (15, 3593), (72, 3979), (29, 1894), (31, 5502), (72, 1370), (68, 2766), (48, 395), (68, 8462), (75, 8944), (59, 6173), (75, 6815), (47, 9621), (45, 478), (15, 6189), (72, 6358), (69, 8715), (35, 8404), (17, 7408), (23, 9889), (71, 5695), (16, 8957), (38, 859), (54, 8188), (74, 6407), (49, 6394), (74, 8333), (53, 6386), (33, 8252), (11, 9171), (19, 9420), (41, 2140), (65, 9686), (55, 9038), (71, 1795), (16, 8619), (34, 2498), (24, 1641), (64, 4702), (44, 5584), (59, 7490), (59, 8427), (7, 6191), (49, 943), (44, 3298), (26, 1021), (14, 9988), (35, 489), (12, 6992), (22, 8074), (28, 5784), (60, 9958), (20, 6646), (60, 7087), (68, 8584), (62, 9959), (46, 182), (9, 1037), (15, 1342), (39, 9519), (14, 6499), (14, 5407), (10, 4183), (62, 8233), (44, 1682), (59, 3835), (64, 3787), (8, 1110), (46, 9132), (26, 105), (67, 1190), (20, 9195), (43, 4937), (23, 2649), (16, 9619), (54, 7093), (33, 1409), (20, 3508), (19, 7420), (66, 4869), (32, 5380), (31, 192), (26, 6274), (13, 3319), (43, 1996), (47, 540), (74, 6738), (51, 5771), (70, 4031), (40, 7693), (35, 5354), (44, 9545), (65, 4075), (1, 5121), (41, 4425), (24, 1048), (18, 4757), (17, 1225), (31, 1033), (26, 7203), (34, 6366), (55, 1335), (69, 1613), (42, 9897), (35, 6685), (44, 3179), (44, 7045), (67, 4535), (22, 6593), (14, 8120), (64, 6239), (36, 909), (14, 249), (26, 4805), (28, 4771), (18, 1983), (46, 3138), (9, 5029), (33, 8553), (30, 5631), (30, 3258), (25, 9552), (24, 3676), (66, 9369), (29, 4752), (32, 5256), (40, 2845), (18, 6541), (58, 1250), (28, 7912)]\n",
    "lateness(tasks_2)"
   ]
  },
  {
   "cell_type": "markdown",
   "metadata": {
    "collapsed": false
   },
   "source": [
    "### Day 2, Exercise 2\n",
    "Define a rule for sorting the tasks that would minimize the total lateness."
   ]
  },
  {
   "cell_type": "code",
   "execution_count": 45,
   "metadata": {
    "collapsed": false
   },
   "outputs": [
    {
     "name": "stdout",
     "output_type": "stream",
     "text": [
      "45587\n",
      "3756\n",
      "3756\n",
      "202500\n",
      "27768\n",
      "3756\n",
      "66736\n",
      "3925\n"
     ]
    }
   ],
   "source": [
    "tasks_3 = [(72, 10), (46, 401), (13, 905), (57, 2713), (20, 8662), (3, 3673), (66, 3212), (25, 6273), (51, 8946), (28, 3990), (73, 5276), (11, 6516), (64, 811), (54, 2670), (45, 9620), (72, 9626), (29, 4870), (3, 8026), (23, 4981), (22, 6427), (20, 5560), (72, 2967), (53, 5050), (22, 4616), (25, 7518), (2, 1717), (64, 9063), (65, 7679), (9, 8413), (68, 8952), (33, 6844), (31, 6044), (63, 4675), (10, 7101), (12, 9242), (18, 7339), (62, 1110), (61, 2736), (68, 1447), (29, 1783), (14, 8027), (62, 8815), (43, 4355), (5, 6028), (25, 9981), (70, 4438), (67, 8173), (6, 900), (64, 9936), (59, 8188), (61, 6674), (41, 1593), (56, 5647), (46, 3443), (75, 890), (24, 5218), (70, 8925), (65, 873), (75, 4190), (40, 7461), (38, 1526), (1, 965), (44, 8947), (18, 1778), (67, 4816), (70, 1897), (22, 5841), (17, 1891), (20, 4838), (19, 3589), (1, 7101), (6, 6107), (47, 3365), (51, 806), (35, 5310), (67, 192), (39, 8689), (53, 2028), (60, 198), (33, 9530), (21, 8930), (71, 8847), (21, 5980), (11, 4609), (53, 738), (60, 5190), (73, 3116), (15, 4202), (47, 3431), (17, 1551), (29, 2189), (8, 4193), (18, 7816), (63, 9943), (8, 1545), (72, 3478), (42, 6560), (5, 7888), (73, 1245), (28, 9055), (60, 7165), (15, 3593), (72, 3979), (29, 1894), (31, 5502), (72, 1370), (68, 2766), (48, 395), (68, 8462), (75, 8944), (59, 6173), (75, 6815), (47, 9621), (45, 478), (15, 6189), (72, 6358), (69, 8715), (35, 8404), (17, 7408), (23, 9889), (71, 5695), (16, 8957), (38, 859), (54, 8188), (74, 6407), (49, 6394), (74, 8333), (53, 6386), (33, 8252), (11, 9171), (19, 9420), (41, 2140), (65, 9686), (55, 9038), (71, 1795), (16, 8619), (34, 2498), (24, 1641), (64, 4702), (44, 5584), (59, 7490), (59, 8427), (7, 6191), (49, 943), (44, 3298), (26, 1021), (14, 9988), (35, 489), (12, 6992), (22, 8074), (28, 5784), (60, 9958), (20, 6646), (60, 7087), (68, 8584), (62, 9959), (46, 182), (9, 1037), (15, 1342), (39, 9519), (14, 6499), (14, 5407), (10, 4183), (62, 8233), (44, 1682), (59, 3835), (64, 3787), (8, 1110), (46, 9132), (26, 105), (67, 1190), (20, 9195), (43, 4937), (23, 2649), (16, 9619), (54, 7093), (33, 1409), (20, 3508), (19, 7420), (66, 4869), (32, 5380), (31, 192), (26, 6274), (13, 3319), (43, 1996), (47, 540), (74, 6738), (51, 5771), (70, 4031), (40, 7693), (35, 5354), (44, 9545), (65, 4075), (1, 5121), (41, 4425), (24, 1048), (18, 4757), (17, 1225), (31, 1033), (26, 7203), (34, 6366), (55, 1335), (69, 1613), (42, 9897), (35, 6685), (44, 3179), (44, 7045), (67, 4535), (22, 6593), (14, 8120), (64, 6239), (36, 909), (14, 249), (26, 4805), (28, 4771), (18, 1983), (46, 3138), (9, 5029), (33, 8553), (30, 5631), (30, 3258), (25, 9552), (24, 3676), (66, 9369), (29, 4752), (32, 5256), (40, 2845), (18, 6541), (58, 1250), (28, 7912)]\n",
    "tasks_4 = [(4, 40), (27, 137), (24, 231), (48, 332), (53, 373), (13, 19), (6, 391), (38, 502), (30, 390), (21, 161), (12, 518), (24, 300), (32, 630), (61, 1013), (64, 184), (37, 1045), (33, 968), (63, 315), (64, 159), (11, 231), (75, 1440), (43, 791), (67, 550), (15, 423), (62, 1462), (30, 1148), (66, 1713), (70, 1414), (10, 1373), (28, 1558), (67, 1865), (4, 1156), (33, 495), (48, 1578), (54, 404), (46, 1774), (63, 433), (68, 638), (52, 793), (56, 2536), (71, 2326), (29, 1667), (26, 843), (62, 766), (1, 2431), (59, 2221), (67, 913), (68, 1652), (70, 1883), (60, 2412), (28, 1728), (59, 110), (1, 1613), (55, 3447), (54, 2916), (19, 2494), (1, 2689), (17, 1043), (13, 3551), (72, 2078), (20, 4340), (37, 3392), (68, 750), (57, 3900), (2, 4034), (65, 2600), (59, 3029), (57, 1263), (35, 1939), (64, 3307), (71, 4201), (32, 2943), (31, 1255), (37, 329), (70, 4954), (4, 3304), (8, 4112), (58, 5371), (57, 4581), (75, 1339), (37, 437), (8, 5273), (9, 1485), (33, 2274), (24, 108), (7, 4342), (72, 6522), (59, 2669), (18, 2218), (7, 6148), (27, 6057), (65, 5980), (31, 1411), (58, 6847), (39, 5209), (30, 410), (68, 1700), (56, 3548), (35, 1603), (29, 7157), (25, 817), (74, 6074), (15, 4661), (14, 5114), (29, 7136), (14, 1470), (42, 4767), (15, 5739), (2, 7385), (16, 4984), (65, 4207), (23, 1893), (14, 8228), (11, 3707), (65, 1986), (5, 7985), (4, 1499), (34, 4790), (32, 6467), (51, 8193), (3, 3454), (22, 7222), (43, 6698), (7, 3057), (8, 1115), (15, 2867), (27, 2902), (49, 679), (59, 7425), (19, 4243), (15, 6078), (5, 7025), (10, 3416), (29, 9401), (66, 465), (43, 1517), (10, 7435), (65, 2649), (40, 5931), (5, 2489), (40, 5044), (38, 7878), (59, 9365), (60, 6166), (58, 2060), (6, 5910), (75, 5875), (70, 11020), (54, 3876), (37, 10545), (67, 8113), (45, 7942), (24, 9174), (41, 4420), (25, 11425), (60, 8934), (29, 7883), (51, 7801), (45, 8937), (14, 3311), (58, 2270), (7, 5731), (59, 2779), (43, 11313), (2, 1622), (43, 1510), (56, 8584), (21, 9756), (42, 4856), (9, 10530), (36, 1380), (61, 3779), (55, 11955), (56, 9632), (7, 5339), (44, 2985), (69, 6681), (67, 242), (12, 540), (3, 6021), (8, 10154), (74, 11351), (31, 5611), (20, 7984), (18, 1110), (28, 10093), (66, 12026), (60, 5055), (69, 11787), (57, 10903), (33, 3229), (57, 12531), (8, 4188), (23, 1169), (7, 1351), (2, 1739), (3, 10091), (35, 13295), (53, 1033), (26, 223)]\n",
    "\n",
    "# tasks_3 = [(4, 0), (27, 97), (24, 191), (48, 292)]\n",
    "tasks_3.sort(key=lambda task: task[0]*task[1])\n",
    "# print(tasks_3)\n",
    "print(lateness(tasks_3))\n",
    "\n",
    "tasks_3.sort(key=lambda task: (task[1],task[0]))\n",
    "# print(tasks_3)\n",
    "print(lateness(tasks_3))\n",
    "\n",
    "tasks_3.sort(key=lambda task: task[1])  # same as the solution above\n",
    "# print(tasks_3)\n",
    "print(lateness(tasks_3))\n",
    "\n",
    "tasks_3.sort(key=lambda task: task[0])\n",
    "# print(tasks_3)\n",
    "print(lateness(tasks_3))\n",
    "\n",
    "# the exponential idea was from discussion with classmate\n",
    "tasks_3.sort(key=lambda task: (task[0]**2)*(task[1]**3))\n",
    "# print(tasks_3)\n",
    "print(lateness(tasks_3))\n",
    "\n",
    "tasks_3.sort(key=lambda task: (task[0]**2)+(task[1]**3))\n",
    "# print(tasks_3)\n",
    "print(lateness(tasks_3))\n",
    "\n",
    "tasks_3.sort(key=lambda task: (task[0]**3)*(task[1]**2))\n",
    "# print(tasks_3)\n",
    "print(lateness(tasks_3))\n",
    "\n",
    "tasks_3.sort(key=lambda task: (task[0]**3)+(task[1]**2))\n",
    "# print(tasks_3)\n",
    "print(lateness(tasks_3))"
   ]
  },
  {
   "cell_type": "code",
   "execution_count": 12,
   "metadata": {
    "collapsed": false
   },
   "outputs": [
    {
     "name": "stdout",
     "output_type": "stream",
     "text": [
      "90454\n",
      "448290\n"
     ]
    }
   ],
   "source": [
    "# testing\n",
    "\n",
    "\n",
    "# Feel free to discuss in your groups some potential candidates for Greedy Rules\n",
    "# Describe your Greedy Rule for sorting here\n",
    "# testing with non-decreasing order of length+deadline\n",
    "# I decided to try the adding method because contrasting the \n",
    "#\n",
    "\n",
    "# Write a function to minimize total lateness\n",
    "tasks_3.sort(key=lambda task: task[0]+task[1])\n",
    "print(lateness(tasks_3))\n",
    "\n",
    "# testing a method I heard from a classmate\n",
    "tasks_3.sort(key=lambda task: (task[0]**3)+(task[1]**2), reverse=True)\n",
    "print(lateness(tasks_3))"
   ]
  },
  {
   "cell_type": "code",
   "execution_count": 77,
   "metadata": {
    "collapsed": false
   },
   "outputs": [
    {
     "name": "stdout",
     "output_type": "stream",
     "text": [
      "multiplication sorts tested, addition sorts tested, deadline sort tested (sorting by index 1), duration sort tested (sorting by index 0), exponential methods tested\n",
      "\n",
      "(63197, [(4, 40), (13, 19), (11, 231), (6, 391), (21, 161), (24, 108), (15, 423), (27, 137), (12, 518), (24, 231), (12, 540), (26, 223), (24, 300), (30, 390), (30, 410), (37, 329), (4, 1156), (33, 495), (8, 1115), (37, 437), (32, 630), (38, 502), (25, 817), (17, 1043), (26, 843), (48, 332), (7, 1351), (59, 110), (18, 1110), (4, 1499), (10, 1373), (1, 1613), (53, 373), (2, 1622), (64, 159), (54, 404), (9, 1485), (64, 184), (23, 1169), (33, 968), (2, 1739), (14, 1470), (43, 791), (63, 315), (67, 242), (49, 679), (30, 1148), (37, 1045), (63, 433), (31, 1255), (52, 793), (66, 465), (31, 1411), (67, 550), (28, 1558), (36, 1380), (62, 766), (68, 638), (53, 1033), (29, 1667), (68, 750), (28, 1728), (35, 1603), (23, 1893), (1, 2431), (61, 1013), (67, 913), (43, 1510), (43, 1517), (5, 2489), (57, 1263), (18, 2218), (1, 2689), (48, 1578), (35, 1939), (46, 1774), (19, 2494), (62, 1462), (33, 2274), (70, 1414), (75, 1339), (7, 3057), (15, 2867), (75, 1440), (68, 1652), (66, 1713), (68, 1700), (4, 3304), (58, 2060), (67, 1865), (3, 3454), (65, 1986), (27, 2902), (70, 1883), (59, 2221), (14, 3311), (10, 3416), (58, 2270), (32, 2943), (72, 2078), (60, 2412), (13, 3551), (56, 2536), (11, 3707), (33, 3229), (71, 2326), (44, 2985), (2, 4034), (59, 2669), (65, 2600), (59, 2779), (65, 2649), (54, 2916), (37, 3392), (8, 4112), (8, 4188), (59, 3029), (7, 4342), (19, 4243), (55, 3447), (20, 4340), (64, 3307), (56, 3548), (15, 4661), (54, 3876), (61, 3779), (57, 3900), (16, 4984), (41, 4420), (14, 5114), (8, 5273), (7, 5339), (34, 4790), (65, 4207), (42, 4767), (42, 4856), (7, 5731), (71, 4201), (57, 4581), (40, 5044), (6, 5910), (3, 6021), (15, 5739), (39, 5209), (7, 6148), (31, 5611), (15, 6078), (60, 5055), (70, 4954), (27, 6057), (58, 5371), (40, 5931), (5, 7025), (32, 6467), (2, 7385), (65, 5980), (60, 6166), (10, 7435), (75, 5875), (43, 6698), (22, 7222), (29, 7136), (74, 6074), (29, 7157), (5, 7985), (58, 6847), (72, 6522), (69, 6681), (20, 7984), (14, 8228), (29, 7883), (38, 7878), (59, 7425), (45, 7942), (51, 7801), (51, 8193), (67, 8113), (24, 9174), (56, 8584), (45, 8937), (29, 9401), (3, 10091), (21, 9756), (8, 10154), (60, 8934), (9, 10530), (28, 10093), (59, 9365), (56, 9632), (37, 10545), (25, 11425), (57, 10903), (43, 11313), (70, 11020), (74, 11351), (55, 11955), (69, 11787), (66, 12026), (57, 12531), (35, 13295)])\n"
     ]
    }
   ],
   "source": [
    "# best results\n",
    "\n",
    "# Feel free to discuss in your groups some potential candidates for Greedy Rules\n",
    "# Describe your Greedy Rule for sorting here\n",
    "# due to the previous methods being rather speedy, I decided to implement something humans do:\n",
    "# working together and presenting the best solution! I will run all of the basic solutions and present the best 1 for a certain case\n",
    "\n",
    "def combined_efforts(tasks):\n",
    "    '''\n",
    "    Since the several methods tested all had their own lengths and shortcomings, the combined method was created\n",
    "    Not concerned about the run time since these are all very fast\n",
    "    \n",
    "    prerequist function (included): lateness\n",
    "    input: the task list formatted (duration, deadline)\n",
    "    returns: tuple in the form (shortest completion time, sorted list)\n",
    "    '''\n",
    "    \n",
    "    def lateness(list_of_tasks):\n",
    "        '''\n",
    "        given list_of_tasks as a list of tuples (length, deadline) where the length\n",
    "        is the processing time required for the task in minutes\n",
    "        and deadline is the time from the start, 0 when the task should be complete\n",
    "        lateness for any given task is defined as the difference between completion time and\n",
    "        the deadlin C-d.  If completion time is before the deadline, lateness\n",
    "        for that task should be 0, ie if C-d is negative, lateness = 0'''\n",
    "        late = 0\n",
    "        completion = 0\n",
    "        minus = lambda a, b: a-b if a>b else 0\n",
    "        for task in list_of_tasks:\n",
    "            completion += task[0]\n",
    "            late += minus(completion, task[1])\n",
    "        return late\n",
    "    \n",
    "    completion = dict()\n",
    "    \n",
    "    # multiplication method and addition method\n",
    "    for i in range(0, 101):  # the for loops interchanges the relative weight of each of the original from 100%(0% for the addition case) to 10000%\n",
    "        if i != 0:  # would be pointless, lambda would just return 0\n",
    "            tasks.sort(key=lambda task: ((100-i) * task[0]) * (i * task[1]))\n",
    "            completion.setdefault(lateness(tasks), []).append(tasks[::])\n",
    "            \n",
    "        tasks.sort(key=lambda task: ((100-i) * task[0]) + (i * task[1]))\n",
    "        completion.setdefault(lateness(tasks), []).append(tasks[::])\n",
    "    \n",
    "    # sort by deadline and sort by duration were achieved when i was 0 and 100\n",
    "    print('multiplication sorts tested, addition sorts tested, deadline sort tested (sorting by index 1), duration sort tested (sorting by index 0)', end=', ')\n",
    "    \n",
    "    # exponential methods\n",
    "    for i in range(5):\n",
    "        tasks.sort(key=lambda task: (task[0]**i)*(task[1]**(4-i)))\n",
    "        completion.setdefault(lateness(tasks), []).append(tasks[::])\n",
    "        \n",
    "        tasks.sort(key=lambda task: (task[0]**i)+(task[1]**(4-i)))\n",
    "        completion.setdefault(lateness(tasks), []).append(tasks[::])\n",
    "    print('exponential methods tested', end = '\\n\\n')\n",
    "    \n",
    "    shortest = sorted(list(completion.keys()))[0]  # the best run time\n",
    "    \n",
    "    return shortest, completion[shortest][0]\n",
    "\n",
    "\n",
    "print(combined_efforts(tasks_4))"
   ]
  },
  {
   "cell_type": "code",
   "execution_count": 71,
   "metadata": {
    "collapsed": false
   },
   "outputs": [
    {
     "name": "stdout",
     "output_type": "stream",
     "text": [
      "64\n",
      "155654\n",
      "167912\n"
     ]
    }
   ],
   "source": [
    "# take the difference of deadlines\n",
    "# then using that difference to find a more optimal method\n",
    "def timewaste_sort(tasks):\n",
    "    '''\n",
    "    DO NOT USE, JUST TESTING IDEA\n",
    "    wip experimental function\n",
    "    meant to take into consider ration of the relative deadlines\n",
    "    '''\n",
    "    tasks_ = tasks[::]\n",
    "    tasks_.sort(key=lambda task: task[0])\n",
    "    l = [(tasks_[0][0], tasks_[0][1], 0)]\n",
    "    for task in range(1, len(tasks_)):\n",
    "        l.append((tasks_[task][0], tasks_[task][1], tasks_[task][1]-tasks_[task-1][1]))\n",
    "    l.sort(key=lambda task:task[2])\n",
    "    return l\n",
    "\n",
    "\n",
    "tasks = timewaste_sort(tasks_1)\n",
    "# print(tasks)\n",
    "print(lateness(tasks))\n",
    "tasks = timewaste_sort(tasks_3)\n",
    "# print(tasks)\n",
    "print(lateness(tasks))\n",
    "tasks = timewaste_sort(tasks_4)\n",
    "# print(tasks)\n",
    "print(lateness(tasks))"
   ]
  },
  {
   "cell_type": "markdown",
   "metadata": {
    "collapsed": false
   },
   "source": [
    "### Day 2, Exercise 3\n",
    "\n",
    "Test your Algorthm(s) using your `lateness` function and determine if you have a good Greedy Algorithm"
   ]
  },
  {
   "cell_type": "code",
   "execution_count": 69,
   "metadata": {
    "collapsed": false
   },
   "outputs": [
    {
     "name": "stdout",
     "output_type": "stream",
     "text": [
      "multiplication sorts tested, addition sorts tested, deadline sort tested (sorting by index 1), duration sort tested (sorting by index 0), exponential methods tested\n",
      "\n",
      "results:  38\n",
      "----\n",
      "multiplication sorts tested, addition sorts tested, deadline sort tested (sorting by index 1), duration sort tested (sorting by index 0), exponential methods tested\n",
      "\n",
      "results:  3077\n",
      "----\n",
      "multiplication sorts tested, addition sorts tested, deadline sort tested (sorting by index 1), duration sort tested (sorting by index 0), exponential methods tested\n",
      "\n",
      "results:  3077\n",
      "----\n",
      "multiplication sorts tested, addition sorts tested, deadline sort tested (sorting by index 1), duration sort tested (sorting by index 0), exponential methods tested\n",
      "\n",
      "results:  63197\n",
      "----\n",
      "multiplication sorts tested, addition sorts tested, deadline sort tested (sorting by index 1), duration sort tested (sorting by index 0), exponential methods tested\n",
      "\n",
      "results:  558\n",
      "----\n",
      "multiplication sorts tested, addition sorts tested, deadline sort tested (sorting by index 1), duration sort tested (sorting by index 0), exponential methods tested\n",
      "\n",
      "results:  63197\n",
      "----\n"
     ]
    }
   ],
   "source": [
    "# Test your Greedy Algorithm(s) by using your lateness function to determine how well they work\n",
    "\n",
    "# Simple set of tasks for testing your rule in the form (length, deadline)\n",
    "tasks_1 = [(1,3),(2,3),(3,5),(4,5),(3,7),(1,4),(1,3),(2,7),(3,6)]\n",
    "\n",
    "# larger set of 222 tasks to test your rule\n",
    "tasks_big = [(26, 8716), (36, 6737), (32, 2403), (21, 191), (27, 4930), (7, 2265), (2, 2209), (23, 9807), (12, 7092), (5, 8664), (70, 9827), (25, 7259), (38, 4132), (3, 5030), (14, 3251), (53, 7712), (31, 9298), (49, 17), (52, 6742), (3, 6858), (21, 1526), (47, 1826), (63, 7468), (71, 2029), (2, 5546), (30, 1977), (47, 7234), (65, 1762), (45, 1825), (16, 9265), (48, 3277), (43, 8201), (73, 8799), (9, 1383), (14, 1431), (60, 7042), (47, 5513), (6, 5503), (25, 2651), (52, 1350), (65, 8825), (48, 7945), (28, 1993), (27, 2431), (74, 1627), (1, 9388), (51, 4863), (48, 2116), (74, 2219), (56, 4219), (65, 1761), (73, 9721), (75, 3980), (35, 7162), (21, 2651), (59, 4128), (12, 7796), (52, 8199), (69, 2988), (59, 3535), (21, 61), (65, 7995), (11, 2458), (55, 8907), (43, 3491), (2, 4900), (26, 4073), (35, 3801), (39, 6872), (67, 8082), (48, 9241), (74, 1617), (60, 5932), (62, 6808), (39, 2690), (8, 4511), (11, 6995), (20, 3724), (64, 7577), (49, 9881), (22, 745), (30, 5984), (61, 5743), (68, 9065), (27, 8006), (25, 8917), (32, 6451), (25, 2364), (20, 6858), (61, 2433), (33, 924), (73, 2096), (71, 2335), (54, 1897), (24, 7389), (23, 8621), (55, 1509), (57, 8367), (23, 5613), (35, 5313), (53, 1760), (44, 3300), (52, 5487), (64, 2556), (8, 3956), (62, 9343), (26, 6633), (62, 1822), (53, 4644), (75, 5964), (59, 9942), (24, 8462), (8, 4086), (38, 7454), (59, 8119), (27, 5280), (61, 2472), (5, 8283), (59, 399), (28, 2635), (40, 9489), (55, 6214), (67, 3322), (40, 5897), (9, 2016), (48, 6886), (30, 4587), (52, 3247), (30, 2229), (73, 3020), (46, 3803), (49, 480), (34, 6653), (2, 5512), (30, 5901), (45, 6022), (35, 1665), (17, 5323), (51, 2980), (70, 4343), (57, 7090), (31, 8690), (17, 878), (39, 3142), (68, 8276), (30, 9909), (29, 6758), (71, 810), (51, 1274), (35, 4893), (39, 8608), (74, 2541), (68, 1246), (8, 6473), (64, 9614), (34, 10000), (2, 4347), (61, 6045), (68, 4668), (16, 2384), (52, 979), (4, 4974), (35, 8766), (53, 7792), (44, 6688), (68, 2092), (54, 1962), (8, 3627), (35, 2827), (68, 1370), (26, 1735), (51, 8526), (1, 7966), (17, 978), (8, 4901), (31, 6102), (45, 7884), (17, 6251), (73, 9697), (21, 4313), (69, 237), (24, 1640), (7, 3325), (38, 5575), (23, 5092), (35, 6622), (22, 644), (60, 3417), (20, 3087), (40, 7810), (59, 7915), (26, 4541), (17, 8511), (30, 3019), (5, 2970), (29, 5318), (57, 3889), (35, 217), (74, 7540), (63, 6702), (9, 2596), (44, 5756), (61, 4399), (63, 8497), (27, 6494), (62, 4065), (72, 1687), (72, 4955), (58, 3646), (7, 7924), (35, 8564), (53, 7869), (75, 6730), (2, 5560), (75, 2211), (75, 7854), (47, 8017), (3, 8965), (72, 2417), (1, 4466), (73, 8479), (57, 4407)]\n",
    "\n",
    "# another test set of 200 tasks\n",
    "tasks_big2 = [(4, 40), (27, 137), (24, 231), (48, 332), (53, 373), (13, 19), (6, 391), (38, 502), (30, 390), (21, 161), (12, 518), (24, 300), (32, 630), (61, 1013), (64, 184), (37, 1045), (33, 968), (63, 315), (64, 159), (11, 231), (75, 1440), (43, 791), (67, 550), (15, 423), (62, 1462), (30, 1148), (66, 1713), (70, 1414), (10, 1373), (28, 1558), (67, 1865), (4, 1156), (33, 495), (48, 1578), (54, 404), (46, 1774), (63, 433), (68, 638), (52, 793), (56, 2536), (71, 2326), (29, 1667), (26, 843), (62, 766), (1, 2431), (59, 2221), (67, 913), (68, 1652), (70, 1883), (60, 2412), (28, 1728), (59, 110), (1, 1613), (55, 3447), (54, 2916), (19, 2494), (1, 2689), (17, 1043), (13, 3551), (72, 2078), (20, 4340), (37, 3392), (68, 750), (57, 3900), (2, 4034), (65, 2600), (59, 3029), (57, 1263), (35, 1939), (64, 3307), (71, 4201), (32, 2943), (31, 1255), (37, 329), (70, 4954), (4, 3304), (8, 4112), (58, 5371), (57, 4581), (75, 1339), (37, 437), (8, 5273), (9, 1485), (33, 2274), (24, 108), (7, 4342), (72, 6522), (59, 2669), (18, 2218), (7, 6148), (27, 6057), (65, 5980), (31, 1411), (58, 6847), (39, 5209), (30, 410), (68, 1700), (56, 3548), (35, 1603), (29, 7157), (25, 817), (74, 6074), (15, 4661), (14, 5114), (29, 7136), (14, 1470), (42, 4767), (15, 5739), (2, 7385), (16, 4984), (65, 4207), (23, 1893), (14, 8228), (11, 3707), (65, 1986), (5, 7985), (4, 1499), (34, 4790), (32, 6467), (51, 8193), (3, 3454), (22, 7222), (43, 6698), (7, 3057), (8, 1115), (15, 2867), (27, 2902), (49, 679), (59, 7425), (19, 4243), (15, 6078), (5, 7025), (10, 3416), (29, 9401), (66, 465), (43, 1517), (10, 7435), (65, 2649), (40, 5931), (5, 2489), (40, 5044), (38, 7878), (59, 9365), (60, 6166), (58, 2060), (6, 5910), (75, 5875), (70, 11020), (54, 3876), (37, 10545), (67, 8113), (45, 7942), (24, 9174), (41, 4420), (25, 11425), (60, 8934), (29, 7883), (51, 7801), (45, 8937), (14, 3311), (58, 2270), (7, 5731), (59, 2779), (43, 11313), (2, 1622), (43, 1510), (56, 8584), (21, 9756), (42, 4856), (9, 10530), (36, 1380), (61, 3779), (55, 11955), (56, 9632), (7, 5339), (44, 2985), (69, 6681), (67, 242), (12, 540), (3, 6021), (8, 10154), (74, 11351), (31, 5611), (20, 7984), (18, 1110), (28, 10093), (66, 12026), (60, 5055), (69, 11787), (57, 10903), (33, 3229), (57, 12531), (8, 4188), (23, 1169), (7, 1351), (2, 1739), (3, 10091), (35, 13295), (53, 1033), (26, 223)]\n",
    "\n",
    "\n",
    "# Run your algorithm(s) on the above test cases\n",
    "tasks_list = [tasks_1, tasks_2, tasks_3, tasks_4, tasks_big, tasks_big2]\n",
    "for tasks in tasks_list:\n",
    "    print('results: ', combined_efforts(tasks)[0], end='\\n----\\n')"
   ]
  },
  {
   "cell_type": "code",
   "execution_count": 70,
   "metadata": {
    "collapsed": false
   },
   "outputs": [
    {
     "name": "stdout",
     "output_type": "stream",
     "text": [
      "45587\n",
      "3756\n",
      "3756\n",
      "202500\n"
     ]
    }
   ],
   "source": [
    "tasks_3.sort(key=lambda task: task[0]*task[1])\n",
    "# print(tasks_3)\n",
    "print(lateness(tasks_3))\n",
    "\n",
    "tasks_3.sort(key=lambda task: (task[1],task[0]))\n",
    "# print(tasks_3)\n",
    "print(lateness(tasks_3))\n",
    "\n",
    "tasks_3.sort(key=lambda task: task[1])  # same as the solution above\n",
    "# print(tasks_3)\n",
    "print(lateness(tasks_3))\n",
    "\n",
    "tasks_3.sort(key=lambda task: task[0])\n",
    "# print(tasks_3)\n",
    "print(lateness(tasks_3))"
   ]
  },
  {
   "cell_type": "code",
   "execution_count": 0,
   "metadata": {
    "collapsed": false
   },
   "outputs": [
   ],
   "source": [
   ]
  }
 ],
 "metadata": {
  "kernelspec": {
   "display_name": "Python 3 (system-wide)",
   "language": "python",
   "metadata": {
    "cocalc": {
     "description": "Python 3 programming language",
     "priority": 100,
     "url": "https://www.python.org/"
    }
   },
   "name": "python3"
  },
  "language_info": {
   "codemirror_mode": {
    "name": "ipython",
    "version": 3
   },
   "file_extension": ".py",
   "mimetype": "text/x-python",
   "name": "python",
   "nbconvert_exporter": "python",
   "pygments_lexer": "ipython3",
   "version": "3.8.5"
  }
 },
 "nbformat": 4,
 "nbformat_minor": 4
}