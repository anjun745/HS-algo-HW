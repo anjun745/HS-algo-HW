{
 "cells": [
  {
   "cell_type": "markdown",
   "metadata": {
    "collapsed": false
   },
   "source": [
    "### Binary Search Algorithm\n",
    "\n",
    "If you have ever played a guessing game where you guess a number between 1 and 100, you know it's a lot easier to guess the answer if they say \"higher\" or \"lower\" after you guess.\n",
    "\n",
    "In fact, if you are clever about your next guess, you can reduce your average number of guesses from $O(n)$ to the much faster $O\\log_2(n)$\n",
    "\n",
    "This is the \"Binary Guessing Strategy\": your next guess should always be as close to halfway between the remaining possible numbers.  If you were playing [\"Guess Who\"](https://www.youtube.com/watch?v=FRlbNOno5VA) you'd want to try to eliminate half of the characters on each turn.\n",
    "\n",
    "If you have a sorted list, you can use this strategy to very quickly determine if a given number is in the list.  The technique is called a **Binary Search** over a sorted list.\n",
    "\n",
    "To conduct a binary search, divide the list in half and then recursively do a binary search over the half of the list that could contain the number you are looking for until you are down to just a single number.\n",
    "\n",
    "**Exercise 1** involves coding a recursive binary search over a sorted list, so you can avoid the embarrassing mistake Richard is reminded of in [this meeting.](https://www.youtube.com/watch?v=KmHZMiohXVM) \n"
   ]
  },
  {
   "cell_type": "markdown",
   "metadata": {
    "collapsed": false
   },
   "source": [
    "#### Exercise 1: Code a Recursive Binary Search Algorithm\n",
    "\n",
    "Write a function called `binary_search` that takes in a sorted list and a number and conducts a binary search the list and returns True if the_num is in the list, and False otherwise\n",
    "\n",
    "Post a video explanation of your `binary_search` on the [ALGORITHMS DOC](https://docs.google.com/spreadsheets/d/1QgLD9CET85d9O7AMwoSCk7IIS5JaTNzUc2upwfNlVxM/edit?usp=sharing)"
   ]
  },
  {
   "cell_type": "code",
   "execution_count": 5,
   "metadata": {
    "collapsed": false
   },
   "outputs": [
    {
     "name": "stdout",
     "output_type": "stream",
     "text": [
      "[1]\n"
     ]
    }
   ],
   "source": [
    "l = [1, 2]\n",
    "print(l[0:1])"
   ]
  },
  {
   "cell_type": "code",
   "execution_count": 10,
   "metadata": {
    "collapsed": false
   },
   "outputs": [
    {
     "data": {
      "text/plain": [
       "True"
      ]
     },
     "execution_count": 10,
     "metadata": {
     },
     "output_type": "execute_result"
    }
   ],
   "source": [
    "def binary_search(the_list, the_num):\n",
    "    '''Conducts a binary search of an already sorted input, the_list, for the_num\n",
    "    returns True if the_num is in the list, and False otherwise'''\n",
    "    if not the_list:\n",
    "        return False\n",
    "    # works by dividing the sorted list in half, then recursing on left half\n",
    "    # if first number in second list is larger than the_num \n",
    "    # otherwise recurse on first half\n",
    "    if len(the_list) == 1:\n",
    "        if the_list[0] == the_num:\n",
    "            return True\n",
    "        return False\n",
    "    split_pt = len(the_list) // 2\n",
    "    ll = the_list[:split_pt]\n",
    "    lr = the_list[split_pt:]\n",
    "    if lr[0] > the_num:\n",
    "        return binary_search(ll, the_num)\n",
    "    return binary_search(lr, the_num)\n",
    "binary_search([1, 2, 3, 5, 15, 23, 29, 33, 214, 222, 458], 33)\n",
    "# runs in log(n) time according to Master Method\n"
   ]
  },
  {
   "cell_type": "markdown",
   "metadata": {
    "collapsed": false
   },
   "source": [
    "#### Exercise 2: Merge Sort Algorithm\n",
    "\n",
    "Merge Sort is a classic algorithm that is our first sorting algorithm to actually run faster than $O(n^2)$\n",
    "\n",
    "Your task is to write a recursive function called `merge_sort` that takes in an unsorted list and returns a sorted list of the same elements.\n",
    "\n",
    "Before you begin, watch and **take notes** on this Tim Roughgarden video explaining 1) the pseudocode of how merge sort works, 2) an analysis of the run time and 3) a refresher on logorithms:\n",
    "\n",
    "[Tim Roughgarden PseudoCode and Analysis of MergeSort](https://www.youtube.com/watch?v=rBd5w0rQaFo)\n",
    "\n",
    "\n",
    "\n",
    "\n",
    "\n",
    "![Merge Sort Pic](https://www.geeksforgeeks.org/wp-content/uploads/Merge-Sort-Tutorial.png)"
   ]
  },
  {
   "cell_type": "markdown",
   "metadata": {
    "collapsed": false
   },
   "source": [
    "**Remember**: Post a video explanation of your `mergeSort` on the [ALGORITHMS DOC](https://docs.google.com/spreadsheets/d/1QgLD9CET85d9O7AMwoSCk7IIS5JaTNzUc2upwfNlVxM/edit?usp=sharing)"
   ]
  },
  {
   "cell_type": "code",
   "execution_count": 15,
   "metadata": {
    "collapsed": false
   },
   "outputs": [
    {
     "name": "stdout",
     "output_type": "stream",
     "text": [
      "[2] [1]\n",
      "[0] [4]\n",
      "[1, 2] [0, 4]\n",
      "[1, 2] [4]\n",
      "[2] [4]\n",
      "[0, 1, 2, 4]\n"
     ]
    }
   ],
   "source": [
    "def mergeSort(some_list):\n",
    "    '''\n",
    "    takes in a list of unsorted numbers, some_list and recursively sorts\n",
    "    the left and right halves using mergeSort\n",
    "    \n",
    "    should return the input list in sorted order\n",
    "    '''\n",
    "    if len(some_list) == 1:\n",
    "        return some_list\n",
    "    cut_pt = len(some_list) // 2\n",
    "    l_a = mergeSort(some_list[:cut_pt])\n",
    "    l_b = mergeSort(some_list[cut_pt:])\n",
    "    \n",
    "    s = []\n",
    "    \n",
    "    while l_a and l_b:\n",
    "        if l_a[0] < l_b[0]:\n",
    "            s.append(l_a.pop(0))\n",
    "        else:\n",
    "            s.append(l_b.pop(0))\n",
    "    for ele in l_a + l_b:\n",
    "        s.append(ele)\n",
    "    return s\n",
    "\n",
    "l = [2, 1, 0, 4]\n",
    "l = mergeSort(l)\n",
    "print(l)"
   ]
  },
  {
   "cell_type": "code",
   "execution_count": 0,
   "metadata": {
    "collapsed": false
   },
   "outputs": [
   ],
   "source": [
    "# put your test cases here\n"
   ]
  }
 ],
 "metadata": {
  "kernelspec": {
   "display_name": "Python 3 (system-wide)",
   "language": "python",
   "metadata": {
    "cocalc": {
     "description": "Python 3 programming language",
     "priority": 100,
     "url": "https://www.python.org/"
    }
   },
   "name": "python3"
  },
  "language_info": {
   "codemirror_mode": {
    "name": "ipython",
    "version": 3
   },
   "file_extension": ".py",
   "mimetype": "text/x-python",
   "name": "python",
   "nbconvert_exporter": "python",
   "pygments_lexer": "ipython3",
   "version": "3.8.2"
  },
  "toc": {
   "base_numbering": 1,
   "nav_menu": {
   },
   "number_sections": false,
   "sideBar": true,
   "skip_h1_title": false,
   "title_cell": "Table of Contents",
   "title_sidebar": "Contents",
   "toc_cell": false,
   "toc_position": {
   },
   "toc_section_display": true,
   "toc_window_display": false
  }
 },
 "nbformat": 4,
 "nbformat_minor": 4
}