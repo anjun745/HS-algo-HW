{
 "cells": [
  {
   "cell_type": "markdown",
   "metadata": {
    "collapsed": false,
    "slideshow": {
     "slide_type": "slide"
    }
   },
   "source": [
    "# Problem Set 1.2: Recursion\n",
    "\n",
    "    \n",
    "\"To understand recursion,  you must first understand recursion.\"\n",
    "\n",
    "When a programming challenge can be broken into smaller and smaller problems, each of which can be solved with the same method, it may lend itself to RECURSION.  \n",
    "\n",
    "Recursion is a method of solving a problem by breaking it into increasingly smaller problems until the answer to the smallest problem can be solved easily.  Then building these results back together to get the solution to the larger problem.\n",
    "\n",
    "A function is RECURSIVE if it makes a call to itself inside the function.  Like this:\n",
    "```python\n",
    "def count_down(x):\n",
    "    if x == 0:\n",
    "        print(\"Blast Off\")\n",
    "        return\n",
    "    print(x)\n",
    "    return count_down(x-1)\n",
    "    \n",
    "```\n",
    "In the `count_down` example, if the input is 0, the function prints BLASTOFF and then ends, but if `x` is greater than 0, `x` is printed and then the function calls itself (the **RECURSIVE call**) with `x-1`.  This repeats until the **\"Base Case\"** is reached at `x == 0`\n",
    "\n",
    "Watch the 2 videos below and Read the Article:\n",
    "\n",
    "\n",
    "* [Recursion with 2 examples in 3 minutes](https://www.youtube.com/watch?v=YZcO_jRhvxs)\n",
    "* [The Importance of a Base Case](https://www.loom.com/share/1caa2d176a504ecb8c042e03a2f6c364)\n",
    "* [Read this Article on Recursion](https://www.freecodecamp.org/news/how-recursion-works-explained-with-flowcharts-and-a-video-de61f40cb7f9/) -- pay close attention to the \"Call Stack\" section\n",
    "* [Understanding the Call Stack](https://www.loom.com/share/b3199b6c05bd44a995bfb9baaea66a7e)\n",
    "\n",
    "Today's Assignment: \n",
    "\n",
    "Example 1: overflow\n",
    "\n",
    "Example 2: count_down\n",
    "\n",
    "**Exercise 1**: count_up\n",
    "\n",
    "**Exercise 2**: reverse_string\n",
    "\n",
    "**Exercise 3**: Euclid's method of finding GCF `euclid`\n",
    "\n",
    "**Excerise 4**: factorial\n",
    "\n",
    "**Exercise 5**: fibonacci sequence\n",
    "\n",
    "**Exercise 6**: str_len\n",
    "\n",
    "**Exercise 7**: write a recursive function to check if a string is a palindrome\n",
    "\n",
    "**Challenge Exercise 8**:\n",
    "Play the [Towers of Hanoi](https://www.mathsisfun.com/games/towerofhanoi.html)\n",
    "Challenge: write a recursive function to solve the towers of hanoi.\n",
    "\n",
    "### Explain with Loom  (~5 - 15 minutes)\n",
    "\n",
    "AFTER you have completed the exercises, post ONE 3 minute or shorter Loom Video explaining ONE of your recursive functions (Euclid, Fibonacci or Towers of Hanoi), how it works and any specific parts you found most challenging to figure out.  Post your Loom video explanation to the [ALGORITHMS DOC](https://docs.google.com/spreadsheets/d/1QgLD9CET85d9O7AMwoSCk7IIS5JaTNzUc2upwfNlVxM/edit?usp=sharing)\n",
    "\n",
    "After you have posted your video, choose one other video that has not been commented on yet and watch that video.  After watching, use the Google Commenting feature to add comments to the video cell that you are commenting on.  You MAY watch more than one video to see how others did it after you have made your first comment.  If you watch another video, however, you must leave a comment with feedback so they know it has been watched.\n",
    "\n",
    "REMEMBER: it may take you more than one try to get a good video that's under 3 minutes!\n",
    "\n",
    "\n",
    "\n",
    "NOTE: Recursion is challenging to wrap your head around. It takes lots of practice and examples.  Please communicate in the #general channel with questions and help each other out.  If you just can't figure any of them out and you find help or a solution online, make sure your cite your source and ALSO rewrite with your own code and your own extensive commenting.  Plagiarism does not make you a better coder.\n",
    "\n",
    "\n"
   ]
  },
  {
   "cell_type": "code",
   "execution_count": 1,
   "metadata": {
    "collapsed": false,
    "slideshow": {
     "slide_type": "slide"
    }
   },
   "outputs": [
    {
     "name": "stdout",
     "output_type": "stream",
     "text": [
      "1\n",
      "2\n",
      "3\n",
      "4\n",
      "5\n",
      "6\n",
      "7\n",
      "8\n",
      "9\n",
      "10\n",
      "11\n",
      "12\n",
      "13\n",
      "14\n",
      "15\n",
      "16\n",
      "17\n",
      "18\n",
      "19\n",
      "20\n"
     ]
    }
   ],
   "source": [
    "# EXAMPLE 1: \n",
    "\n",
    "def overflow(x:int):\n",
    "    '''\n",
    "    This function takes in an integer and calls itself again until the input is 21\n",
    "    '''\n",
    "    \n",
    "    # this is the \"base case\" the case that will cause the function to end or \"return\"\n",
    "    if x == 21:\n",
    "        return\n",
    "    print(x)\n",
    "    \n",
    "    # this is the recursive call\n",
    "    # notice, on this example, I don't \"return\" the recursive call, I just make the call\n",
    "    # return overflow(x+1) would have the same result, though\n",
    "    overflow(x+1)\n",
    "    \n",
    "overflow(1)\n"
   ]
  },
  {
   "cell_type": "code",
   "execution_count": 2,
   "metadata": {
    "collapsed": false
   },
   "outputs": [
    {
     "name": "stdout",
     "output_type": "stream",
     "text": [
      "10\n",
      "9\n",
      "8\n",
      "7\n",
      "6\n",
      "5\n",
      "4\n",
      "3\n",
      "2\n",
      "1\n",
      "Blast Off\n"
     ]
    }
   ],
   "source": [
    "# EXAMPLE 2\n",
    "# LABEL the BASE CASE and Recursive Call with #comments\n",
    "\n",
    "def count_down(x):\n",
    "    if x == 0:\n",
    "        print(\"Blast Off\")\n",
    "        return\n",
    "    print(x)\n",
    "    return count_down(x-1)\n",
    "\n",
    "count_down(10)"
   ]
  },
  {
   "cell_type": "markdown",
   "metadata": {
    "collapsed": false
   },
   "source": [
    "### Exercise 1\n",
    "\n",
    "Write a recursive function that counts up from a given integer to 50.\n",
    "\n",
    "Make sure the base case does not allow for a stack overflow."
   ]
  },
  {
   "cell_type": "code",
   "execution_count": 27,
   "metadata": {
    "collapsed": false,
    "slideshow": {
     "slide_type": "skip"
    }
   },
   "outputs": [
    {
     "name": "stdout",
     "output_type": "stream",
     "text": [
      "50\n"
     ]
    }
   ],
   "source": [
    "# write a recursive function that counts down from a given integer to 0\n",
    "# input = integer to start counting from\n",
    "\n",
    "def count_up(x:int):\n",
    "    \"\"\"\n",
    "    assuming the input x is less than 50\n",
    "    \"\"\"\n",
    "    # your code here\n",
    "    if x >= 50:\n",
    "        print(50)\n",
    "        return\n",
    "    print(x)\n",
    "    return count_up(x+1)\n",
    "\n",
    "count_up(69)"
   ]
  },
  {
   "cell_type": "markdown",
   "metadata": {
    "collapsed": false
   },
   "source": [
    "### Exercise 2\n",
    "\n",
    "Create a recursive function that prints a string in reverse order.  Stuck?  Did you watch the videos above?"
   ]
  },
  {
   "cell_type": "code",
   "execution_count": 23,
   "metadata": {
    "collapsed": false
   },
   "outputs": [
    {
     "name": "stdout",
     "output_type": "stream",
     "text": [
      "\n"
     ]
    }
   ],
   "source": [
    "print('s'[1:])"
   ]
  },
  {
   "cell_type": "code",
   "execution_count": 28,
   "metadata": {
    "collapsed": false,
    "slideshow": {
     "slide_type": "slide"
    }
   },
   "outputs": [
    {
     "data": {
      "text/plain": [
       "'wehttam'"
      ]
     },
     "execution_count": 28,
     "metadata": {
     },
     "output_type": "execute_result"
    }
   ],
   "source": [
    "def reverse_str(word:str):\n",
    "    if not word:\n",
    "        return ''\n",
    "    return reverse_str(word[1:]) + word[0]\n",
    "\n",
    "\n",
    "reverse_str(\"matthew\")"
   ]
  },
  {
   "cell_type": "markdown",
   "metadata": {
    "collapsed": false
   },
   "source": [
    "### Exercise 3\n",
    "\n",
    "Euclid discovered a clever method for finding the greatest common factor (GCF) of 2 integers.  \n",
    "\n",
    "Given two integers A and B, divide A by B.  If the remainder is 0, then B is the GCF.  If it is not 0, then replace A with B, replace B with the remainder, R, and repeat the division. Continue the process until R = 0.  When R is 0, then B is your GCF.  Sounds pretty recursive, yes?\n",
    "\n",
    "Create a recursive function `euclid` that returns the GCF of 2 integers.\n",
    "\n",
    "**Note:** Your comments in the code should identify the **BASE CASE** and the **RECURSIVE CALL**\n",
    "\n",
    "**Challenge**: Keep track of how many steps your process went through to find the GCF and return that information as well.\n"
   ]
  },
  {
   "cell_type": "code",
   "execution_count": 47,
   "metadata": {
    "colab": {
    },
    "colab_type": "code",
    "collapsed": false,
    "id": "z8CjVs270Ppd",
    "outputId": "e829331c-8296-4144-a13e-d5a4df521211"
   },
   "outputs": [
    {
     "data": {
      "text/plain": [
       "(25, 1)"
      ]
     },
     "execution_count": 47,
     "metadata": {
     },
     "output_type": "execute_result"
    }
   ],
   "source": [
    "def euclid(a, b, c=1):\n",
    "    '''\n",
    "    a and b are the numbers for greatest common factor, do not put an input for c, that is just there for recursive count\n",
    "    the data returned is a tuple of 2, with the first element being the gfc, and second being the recursive count\n",
    "    '''\n",
    "    # base case\n",
    "    if not a%b:\n",
    "        return b, c\n",
    "    # recursive call\n",
    "    c += 1\n",
    "    return euclid(b, a%b, c)\n",
    "euclid(50, 25)"
   ]
  },
  {
   "cell_type": "markdown",
   "metadata": {
    "collapsed": false
   },
   "source": [
    "alt euclid keeping count"
   ]
  },
  {
   "cell_type": "code",
   "execution_count": 48,
   "metadata": {
    "collapsed": false
   },
   "outputs": [
    {
     "name": "stdout",
     "output_type": "stream",
     "text": [
      "3\n"
     ]
    }
   ],
   "source": [
    "C = 1\n",
    "def euclid(a, b):\n",
    "    '''\n",
    "    same as above but no c as a parameter, instead c is global\n",
    "    '''\n",
    "    global C\n",
    "    if not a%b:\n",
    "        return b\n",
    "    C += 1\n",
    "    return euclid(b, a%b)\n",
    "euclid(20, 45)\n",
    "print(C)"
   ]
  },
  {
   "cell_type": "markdown",
   "metadata": {
    "collapsed": false
   },
   "source": [
    "### Exercise 4\n",
    "Write a recursive function that returns the factorial of a given input."
   ]
  },
  {
   "cell_type": "code",
   "execution_count": 45,
   "metadata": {
    "collapsed": false
   },
   "outputs": [
    {
     "data": {
      "text/plain": [
       "12593608545945996091036028947807033464712366100830310947884859323613908580199395683862487531069487476500759701742192535344540854068853669052295055299098464766181717162302204661624767827958051743017494348399489978246897042654475510812669519495908783832931264982964624146608320873210374164407022003675327475326979217376341678305184952924264841312344768880440433971238502679256760320000000000000000000000000000000000000000000000000000000"
      ]
     },
     "execution_count": 45,
     "metadata": {
     },
     "output_type": "execute_result"
    }
   ],
   "source": [
    "# factorial\n",
    "\n",
    "def fact(n):\n",
    "    if n == 1:\n",
    "        return n\n",
    "    return n*fact(n-1)\n",
    "\n",
    "fact(225)"
   ]
  },
  {
   "cell_type": "markdown",
   "metadata": {
    "collapsed": false
   },
   "source": [
    "### Exercise 5\n",
    "Write a function that RETURNS the **n**th term of the fibonacci sequence.\n",
    "\n",
    "The loop at the bottom should print the first 15 terms of the fibonacci sequence.\n",
    "\n",
    "**Note**: label your base cases and recursive calls in each function\n",
    "\n",
    "**Hint:**: Think carefully about your input parameters.  Think back to `euclid` example."
   ]
  },
  {
   "cell_type": "code",
   "execution_count": 11,
   "metadata": {
    "colab": {
    },
    "colab_type": "code",
    "collapsed": false,
    "id": "TjZyz18h0Ppj",
    "outputId": "fc179521-f65e-4292-e143-ee7181845ef3"
   },
   "outputs": [
    {
     "name": "stdout",
     "output_type": "stream",
     "text": [
      "1 1 2 3 5 8 13 21 34 55 89 144 233 377 610 "
     ]
    }
   ],
   "source": [
    "# fib\n",
    "\n",
    "\n",
    "def fib(nth, initial=0):\n",
    "    '''\n",
    "    finds the nth fibonacci code\n",
    "    inputs: the position of the number to find, init should not take an input from the user\n",
    "    output: the nth fibonacci's number\n",
    "    '''\n",
    "    # base case\n",
    "    if nth <= 1:\n",
    "        return 1\n",
    "    # recursion\n",
    "    # for the nth number, it is equal to (n-1)th + (n-2)th, and the initial is as the name suggests, the base of the addition\n",
    "    return fib(nth-1, fib(nth-2)) + initial\n",
    "\n",
    "\n",
    "for i in range(1,16):\n",
    "    print(fib(i), end = ' ')"
   ]
  },
  {
   "cell_type": "code",
   "execution_count": 26,
   "metadata": {
    "collapsed": false
   },
   "outputs": [
    {
     "name": "stdout",
     "output_type": "stream",
     "text": [
      "1 1 2 3 5 8 13 21 34 55 89 144 233 377 610 "
     ]
    }
   ],
   "source": [
    "# alt solution\n",
    "\n",
    "\n",
    "def fib(nth):\n",
    "    '''\n",
    "    no recursion in recursion\n",
    "    this is not inception\n",
    "    '''\n",
    "    # base\n",
    "    if nth <= 1:\n",
    "        # returns nth instead of 1 because wouldn't want fib(2) to be 1 + 1, it should be 1 + 0, as the second n is 0\n",
    "        return nth\n",
    "    # recursion, but simpler, just fib(n-1) + fib(n-2)\n",
    "    return fib(nth-1) + fib(nth-2)\n",
    "\n",
    "\n",
    "for i in range(1, 16):\n",
    "    print(fib(i), end=' ')"
   ]
  },
  {
   "cell_type": "markdown",
   "metadata": {
    "collapsed": false
   },
   "source": [
    "### Exercise 6\n",
    "\n",
    "Write a Recursive Function that returns the length of an input string"
   ]
  },
  {
   "cell_type": "code",
   "execution_count": 32,
   "metadata": {
    "collapsed": false
   },
   "outputs": [
    {
     "data": {
      "text/plain": [
       "11"
      ]
     },
     "execution_count": 32,
     "metadata": {
     },
     "output_type": "execute_result"
    }
   ],
   "source": [
    "def str_len(my_string: str):\n",
    "    '''\n",
    "    it counts how long a string is\n",
    "    '''\n",
    "    # base case, returns 0 as a starting point when the string is empty\n",
    "    if not my_string:\n",
    "        return 0\n",
    "    # recursion, adds one each time, lol\n",
    "    return str_len(my_string[:-1]) + 1\n",
    "\n",
    "\n",
    "# tests\n",
    "str_len('aaaaaaaaaaa')"
   ]
  },
  {
   "cell_type": "markdown",
   "metadata": {
    "collapsed": false
   },
   "source": [
    "### Exercise 7\n",
    "\n",
    "Write a recursive function that returns True if the input string is a palindrome, False if it is not\n"
   ]
  },
  {
   "cell_type": "raw",
   "metadata": {
    "collapsed": false
   },
   "source": [
    "split in 2\n",
    "compare first and last element, then move in"
   ]
  },
  {
   "cell_type": "code",
   "execution_count": 25,
   "metadata": {
    "collapsed": false
   },
   "outputs": [
    {
     "data": {
      "text/plain": [
       "True"
      ]
     },
     "execution_count": 25,
     "metadata": {
     },
     "output_type": "execute_result"
    }
   ],
   "source": [
    "def pal(a):\n",
    "    '''\n",
    "    takes in a string, and sees if it is a palindrome\n",
    "    '''\n",
    "    # base case, once it reaches 1 or below however, it will have already been proven to be a palindrome\n",
    "    if len(a) <= 1:\n",
    "        return True\n",
    "    # instead of detecting on the way back from base case, detect on the way down to base case\n",
    "    if a[0] != a[-1]:\n",
    "        return False\n",
    "    # recursion\n",
    "    return pal(a[1:-1])\n",
    "\n",
    "\n",
    "# tests\n",
    "pal('amanaplanacanalpanama')"
   ]
  },
  {
   "cell_type": "code",
   "execution_count": 29,
   "metadata": {
    "collapsed": false
   },
   "outputs": [
    {
     "data": {
      "text/plain": [
       "False"
      ]
     },
     "execution_count": 29,
     "metadata": {
     },
     "output_type": "execute_result"
    }
   ],
   "source": [
    "# just a similar way of doing it\n",
    "\n",
    "def pal(a):\n",
    "    if len(a) > 2:\n",
    "        if a[0] != a[-1]:\n",
    "            return False\n",
    "    if len(a) <= 1:\n",
    "        return True\n",
    "    return pal(a[1:-1])\n",
    "\n",
    "pal('racer')"
   ]
  },
  {
   "cell_type": "markdown",
   "metadata": {
    "collapsed": false
   },
   "source": [
    "### Challenge: Exercise 8\n",
    "\n",
    "\n",
    "Play the [Towers of Hanoi](https://www.mathsisfun.com/games/towerofhanoi.html)\n",
    "\n",
    "Write a recursive function to solve the towers of hanoi.  Your function should take in 4 arguments:\n",
    "```python\n",
    "n = the number of disks in your tower\n",
    "starting_post_name = \"A\"\n",
    "ending_post_name = \"B\"\n",
    "middle_post_name = \"C\"\n",
    "```\n",
    "The function should print the directions for solving the puzzle.  eg, for n=2:\n",
    "```python\n",
    "Move disk 1 from A to B\n",
    "Move disk 2 from A to C\n",
    "Move disk 1 from B to C\n",
    "```\n",
    "\n",
    "**Hint**: 1) Play the game a bunch until you understand the pattern 2) you may need to use multiple recursive calls\n"
   ]
  },
  {
   "cell_type": "code",
   "execution_count": 14,
   "metadata": {
    "colab": {
     "base_uri": "https://localhost:8080/",
     "height": 66
    },
    "colab_type": "code",
    "collapsed": false,
    "executionInfo": {
     "elapsed": 608,
     "status": "ok",
     "timestamp": 1596819016207,
     "user": {
      "displayName": "Matt Pigg",
      "photoUrl": "https://lh3.googleusercontent.com/a-/AOh14GjIfK2VpFOSyzkbJiAdGrz-CLoZ2l0V-QZLYf_P6g=s64",
      "userId": "10983113340829288324"
     },
     "user_tz": 420
    },
    "id": "cBiS7yZ70Ppt",
    "outputId": "8c2ce48a-0e33-4a33-ecc4-659bc493350e"
   },
   "outputs": [
   ],
   "source": [
    "def towers_of_hanoi(n, from_post=\"A\", to_post=\"C\", middle_post=\"B\"):\n",
    "    pass\n",
    "        \n",
    "    \n",
    "# tests\n",
    "towers_of_hanoi(2)\n",
    "    "
   ]
  },
  {
   "cell_type": "code",
   "execution_count": 8,
   "metadata": {
    "collapsed": false
   },
   "outputs": [
    {
     "name": "stdout",
     "output_type": "stream",
     "text": [
      "Moved disk 1 from A to C!\n",
      "Moved disk 2 from A to B\n",
      "Moved disk 1 from C to B!\n",
      "Moved disk 3 from A to C\n",
      "Moved disk 1 from B to B!\n",
      "Moved disk 2 from B to C\n",
      "Moved disk 1 from B to C!\n",
      "Moved disk 4 from A to B\n",
      "Moved disk 1 from C to B!\n",
      "Moved disk 2 from C to C\n",
      "Moved disk 1 from B to C!\n",
      "Moved disk 3 from C to B\n",
      "Moved disk 1 from C to C!\n",
      "Moved disk 2 from C to B\n",
      "Moved disk 1 from C to B!\n",
      "Moved disk 5 from A to C\n",
      "Moved disk 1 from B to B!\n",
      "Moved disk 2 from B to C\n",
      "Moved disk 1 from B to C!\n",
      "Moved disk 3 from B to B\n",
      "Moved disk 1 from C to C!\n",
      "Moved disk 2 from C to B\n",
      "Moved disk 1 from C to B!\n",
      "Moved disk 4 from B to C\n",
      "Moved disk 1 from B to C!\n",
      "Moved disk 2 from B to B\n",
      "Moved disk 1 from C to B!\n",
      "Moved disk 3 from B to C\n",
      "Moved disk 1 from B to B!\n",
      "Moved disk 2 from B to C\n",
      "Moved disk 1 from B to C!\n"
     ]
    }
   ],
   "source": [
    "# towers of hanoi\n",
    "\n",
    "def towers_of_hanoi(n, from_post=\"A\", to_post=\"C\", middle_post=\"B\"):\n",
    "    '''\n",
    "    tower of hanoi solver\n",
    "    inputs: disk count, start post, end post, mid post\n",
    "    prints out: the moves\n",
    "    '''\n",
    "    # base case\n",
    "    if n == 1:\n",
    "        print(f'Moved disk {n} from {from_post} to {to_post}!')\n",
    "    # recursion\n",
    "    else:\n",
    "        # keeps calling itself, alternating between the posts so that odd count would move to end to start, and even count would move to middle\n",
    "        towers_of_hanoi(n-1, from_post = from_post, to_post = middle_post, middle_post = to_post)\n",
    "        print(f'Moved disk {n} from {from_post} to {to_post}')\n",
    "        towers_of_hanoi(n-1, from_post = middle_post, to_post = to_post, middle_post = middle_post)\n",
    "    \n",
    "# tests\n",
    "towers_of_hanoi(5)\n",
    "    "
   ]
  },
  {
   "cell_type": "markdown",
   "metadata": {
    "collapsed": false
   },
   "source": [
    "### Remember to Explain with Loom  (~5 - 15 minutes)\n",
    "\n",
    "AFTER you have completed the exercises, post ONE 3 minute or shorter Loom Video explaining ONE of your recursive functions (Euclid, Fibonacci or Towers of Hanoi), how it works and any specific parts you found most challenging to figure out.  Post your Loom video explanation to the [ALGORITHMS DOC](https://docs.google.com/spreadsheets/d/1QgLD9CET85d9O7AMwoSCk7IIS5JaTNzUc2upwfNlVxM/edit?usp=sharing)\n",
    "\n",
    "After you have posted your video, choose one other video that has not been commented on yet and watch that video.  After watching, use the Google Commenting feature to add comments to the video cell that you are commenting on.  You MAY watch more than one video to see how others did it after you have made your first comment.  If you watch another video, however, you must leave a comment with feedback so they know it has been watched.\n",
    "\n",
    "REMEMBER: it may take you more than one try to get a good video that's under 3 minutes!"
   ]
  },
  {
   "cell_type": "code",
   "execution_count": 0,
   "metadata": {
    "collapsed": false
   },
   "outputs": [
   ],
   "source": [
   ]
  }
 ],
 "metadata": {
  "colab": {
   "name": "recursion2_euclid.ipynb",
   "provenance": [
   ]
  },
  "kernelspec": {
   "display_name": "Python 3 (system-wide)",
   "language": "python",
   "metadata": {
    "cocalc": {
     "description": "Python 3 programming language",
     "priority": 100,
     "url": "https://www.python.org/"
    }
   },
   "name": "python3",
   "resource_dir": "/ext/jupyter/kernels/python3"
  },
  "language_info": {
   "codemirror_mode": {
    "name": "ipython",
    "version": 3
   },
   "file_extension": ".py",
   "mimetype": "text/x-python",
   "name": "python",
   "nbconvert_exporter": "python",
   "pygments_lexer": "ipython3",
   "version": "3.8.2"
  },
  "toc": {
   "base_numbering": 1,
   "nav_menu": {
   },
   "number_sections": false,
   "sideBar": true,
   "skip_h1_title": false,
   "title_cell": "Table of Contents",
   "title_sidebar": "Contents",
   "toc_cell": false,
   "toc_position": {
   },
   "toc_section_display": true,
   "toc_window_display": false
  }
 },
 "nbformat": 4,
 "nbformat_minor": 4
}